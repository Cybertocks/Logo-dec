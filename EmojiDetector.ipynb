{
  "nbformat": 4,
  "nbformat_minor": 0,
  "metadata": {
    "colab": {
      "name": "EmojiDetector.ipynb",
      "provenance": [],
      "collapsed_sections": [],
      "authorship_tag": "ABX9TyPwz/BKcDb/hKiQf7mWQRZj",
      "include_colab_link": true
    },
    "kernelspec": {
      "name": "python3",
      "display_name": "Python 3"
    },
    "accelerator": "GPU",
    "widgets": {
      "application/vnd.jupyter.widget-state+json": {
        "793d26015dd54f24a0ae6522e142322f": {
          "model_module": "@jupyter-widgets/controls",
          "model_name": "HBoxModel",
          "state": {
            "_view_name": "HBoxView",
            "_dom_classes": [],
            "_model_name": "HBoxModel",
            "_view_module": "@jupyter-widgets/controls",
            "_model_module_version": "1.5.0",
            "_view_count": null,
            "_view_module_version": "1.5.0",
            "box_style": "",
            "layout": "IPY_MODEL_f332d1a40d934ee8a3b52a92a7bf0cb9",
            "_model_module": "@jupyter-widgets/controls",
            "children": [
              "IPY_MODEL_c3f55904b691475687bfde3f9934f992",
              "IPY_MODEL_281cc7544c824e49ad31529633687b14"
            ]
          }
        },
        "f332d1a40d934ee8a3b52a92a7bf0cb9": {
          "model_module": "@jupyter-widgets/base",
          "model_name": "LayoutModel",
          "state": {
            "_view_name": "LayoutView",
            "grid_template_rows": null,
            "right": null,
            "justify_content": null,
            "_view_module": "@jupyter-widgets/base",
            "overflow": null,
            "_model_module_version": "1.2.0",
            "_view_count": null,
            "flex_flow": null,
            "width": null,
            "min_width": null,
            "border": null,
            "align_items": null,
            "bottom": null,
            "_model_module": "@jupyter-widgets/base",
            "top": null,
            "grid_column": null,
            "overflow_y": null,
            "overflow_x": null,
            "grid_auto_flow": null,
            "grid_area": null,
            "grid_template_columns": null,
            "flex": null,
            "_model_name": "LayoutModel",
            "justify_items": null,
            "grid_row": null,
            "max_height": null,
            "align_content": null,
            "visibility": null,
            "align_self": null,
            "height": null,
            "min_height": null,
            "padding": null,
            "grid_auto_rows": null,
            "grid_gap": null,
            "max_width": null,
            "order": null,
            "_view_module_version": "1.2.0",
            "grid_template_areas": null,
            "object_position": null,
            "object_fit": null,
            "grid_auto_columns": null,
            "margin": null,
            "display": null,
            "left": null
          }
        },
        "c3f55904b691475687bfde3f9934f992": {
          "model_module": "@jupyter-widgets/controls",
          "model_name": "IntProgressModel",
          "state": {
            "_view_name": "ProgressView",
            "style": "IPY_MODEL_6f09b4739d914a678720f4ededc59fd6",
            "_dom_classes": [],
            "description": "100%",
            "_model_name": "IntProgressModel",
            "bar_style": "success",
            "max": 87306240,
            "_view_module": "@jupyter-widgets/controls",
            "_model_module_version": "1.5.0",
            "value": 87306240,
            "_view_count": null,
            "_view_module_version": "1.5.0",
            "orientation": "horizontal",
            "min": 0,
            "description_tooltip": null,
            "_model_module": "@jupyter-widgets/controls",
            "layout": "IPY_MODEL_11f04e0c1b764ae896f2e75721e81053"
          }
        },
        "281cc7544c824e49ad31529633687b14": {
          "model_module": "@jupyter-widgets/controls",
          "model_name": "HTMLModel",
          "state": {
            "_view_name": "HTMLView",
            "style": "IPY_MODEL_8dacd12fa1f144f0b4470511467955c9",
            "_dom_classes": [],
            "description": "",
            "_model_name": "HTMLModel",
            "placeholder": "​",
            "_view_module": "@jupyter-widgets/controls",
            "_model_module_version": "1.5.0",
            "value": " 83.3M/83.3M [02:28&lt;00:00, 587kB/s]",
            "_view_count": null,
            "_view_module_version": "1.5.0",
            "description_tooltip": null,
            "_model_module": "@jupyter-widgets/controls",
            "layout": "IPY_MODEL_336e2395fba94dc1ad4193d4c397f763"
          }
        },
        "6f09b4739d914a678720f4ededc59fd6": {
          "model_module": "@jupyter-widgets/controls",
          "model_name": "ProgressStyleModel",
          "state": {
            "_view_name": "StyleView",
            "_model_name": "ProgressStyleModel",
            "description_width": "initial",
            "_view_module": "@jupyter-widgets/base",
            "_model_module_version": "1.5.0",
            "_view_count": null,
            "_view_module_version": "1.2.0",
            "bar_color": null,
            "_model_module": "@jupyter-widgets/controls"
          }
        },
        "11f04e0c1b764ae896f2e75721e81053": {
          "model_module": "@jupyter-widgets/base",
          "model_name": "LayoutModel",
          "state": {
            "_view_name": "LayoutView",
            "grid_template_rows": null,
            "right": null,
            "justify_content": null,
            "_view_module": "@jupyter-widgets/base",
            "overflow": null,
            "_model_module_version": "1.2.0",
            "_view_count": null,
            "flex_flow": null,
            "width": null,
            "min_width": null,
            "border": null,
            "align_items": null,
            "bottom": null,
            "_model_module": "@jupyter-widgets/base",
            "top": null,
            "grid_column": null,
            "overflow_y": null,
            "overflow_x": null,
            "grid_auto_flow": null,
            "grid_area": null,
            "grid_template_columns": null,
            "flex": null,
            "_model_name": "LayoutModel",
            "justify_items": null,
            "grid_row": null,
            "max_height": null,
            "align_content": null,
            "visibility": null,
            "align_self": null,
            "height": null,
            "min_height": null,
            "padding": null,
            "grid_auto_rows": null,
            "grid_gap": null,
            "max_width": null,
            "order": null,
            "_view_module_version": "1.2.0",
            "grid_template_areas": null,
            "object_position": null,
            "object_fit": null,
            "grid_auto_columns": null,
            "margin": null,
            "display": null,
            "left": null
          }
        },
        "8dacd12fa1f144f0b4470511467955c9": {
          "model_module": "@jupyter-widgets/controls",
          "model_name": "DescriptionStyleModel",
          "state": {
            "_view_name": "StyleView",
            "_model_name": "DescriptionStyleModel",
            "description_width": "",
            "_view_module": "@jupyter-widgets/base",
            "_model_module_version": "1.5.0",
            "_view_count": null,
            "_view_module_version": "1.2.0",
            "_model_module": "@jupyter-widgets/controls"
          }
        },
        "336e2395fba94dc1ad4193d4c397f763": {
          "model_module": "@jupyter-widgets/base",
          "model_name": "LayoutModel",
          "state": {
            "_view_name": "LayoutView",
            "grid_template_rows": null,
            "right": null,
            "justify_content": null,
            "_view_module": "@jupyter-widgets/base",
            "overflow": null,
            "_model_module_version": "1.2.0",
            "_view_count": null,
            "flex_flow": null,
            "width": null,
            "min_width": null,
            "border": null,
            "align_items": null,
            "bottom": null,
            "_model_module": "@jupyter-widgets/base",
            "top": null,
            "grid_column": null,
            "overflow_y": null,
            "overflow_x": null,
            "grid_auto_flow": null,
            "grid_area": null,
            "grid_template_columns": null,
            "flex": null,
            "_model_name": "LayoutModel",
            "justify_items": null,
            "grid_row": null,
            "max_height": null,
            "align_content": null,
            "visibility": null,
            "align_self": null,
            "height": null,
            "min_height": null,
            "padding": null,
            "grid_auto_rows": null,
            "grid_gap": null,
            "max_width": null,
            "order": null,
            "_view_module_version": "1.2.0",
            "grid_template_areas": null,
            "object_position": null,
            "object_fit": null,
            "grid_auto_columns": null,
            "margin": null,
            "display": null,
            "left": null
          }
        },
        "05f4cf0a64154357bdce4cfb569f97c6": {
          "model_module": "@jupyter-widgets/controls",
          "model_name": "VBoxModel",
          "state": {
            "_view_name": "VBoxView",
            "_dom_classes": [],
            "_model_name": "VBoxModel",
            "_view_module": "@jupyter-widgets/controls",
            "_model_module_version": "1.5.0",
            "_view_count": null,
            "_view_module_version": "1.5.0",
            "box_style": "",
            "layout": "IPY_MODEL_1cb4ec144dbb42dc9ad926968029d843",
            "_model_module": "@jupyter-widgets/controls",
            "children": [
              "IPY_MODEL_14acd5eb3eff47f6bb0049a97d668c9a",
              "IPY_MODEL_f91af6da396f4901abf18fb8c6f4970b",
              "IPY_MODEL_14a3d74aac004c8b81407825302f7f63"
            ]
          }
        },
        "1cb4ec144dbb42dc9ad926968029d843": {
          "model_module": "@jupyter-widgets/base",
          "model_name": "LayoutModel",
          "state": {
            "_view_name": "LayoutView",
            "grid_template_rows": null,
            "right": null,
            "justify_content": null,
            "_view_module": "@jupyter-widgets/base",
            "overflow": null,
            "_model_module_version": "1.2.0",
            "_view_count": null,
            "flex_flow": null,
            "width": null,
            "min_width": null,
            "border": null,
            "align_items": null,
            "bottom": null,
            "_model_module": "@jupyter-widgets/base",
            "top": null,
            "grid_column": null,
            "overflow_y": null,
            "overflow_x": null,
            "grid_auto_flow": null,
            "grid_area": null,
            "grid_template_columns": null,
            "flex": null,
            "_model_name": "LayoutModel",
            "justify_items": null,
            "grid_row": null,
            "max_height": null,
            "align_content": null,
            "visibility": null,
            "align_self": null,
            "height": null,
            "min_height": null,
            "padding": null,
            "grid_auto_rows": null,
            "grid_gap": null,
            "max_width": null,
            "order": null,
            "_view_module_version": "1.2.0",
            "grid_template_areas": null,
            "object_position": null,
            "object_fit": null,
            "grid_auto_columns": null,
            "margin": null,
            "display": null,
            "left": null
          }
        },
        "14acd5eb3eff47f6bb0049a97d668c9a": {
          "model_module": "@jupyter-widgets/controls",
          "model_name": "DropdownModel",
          "state": {
            "_options_labels": [
              "Adidas",
              "New Balance",
              "Nike",
              "Puma",
              "Reebok",
              "Vans"
            ],
            "_view_name": "DropdownView",
            "style": "IPY_MODEL_0157d10ed07b447e95300f82017403bc",
            "_dom_classes": [],
            "description": "",
            "_model_name": "DropdownModel",
            "index": 0,
            "_view_module": "@jupyter-widgets/controls",
            "_model_module_version": "1.5.0",
            "_view_count": null,
            "disabled": false,
            "_view_module_version": "1.5.0",
            "description_tooltip": null,
            "_model_module": "@jupyter-widgets/controls",
            "layout": "IPY_MODEL_9b9bf4ca5dd7462491edeb28220ff1f5"
          }
        },
        "f91af6da396f4901abf18fb8c6f4970b": {
          "model_module": "@jupyter-widgets/controls",
          "model_name": "DropdownModel",
          "state": {
            "_options_labels": [
              "Train",
              "Valid"
            ],
            "_view_name": "DropdownView",
            "style": "IPY_MODEL_7ad7fac4858245b99cb7453e858bfb55",
            "_dom_classes": [],
            "description": "",
            "_model_name": "DropdownModel",
            "index": 0,
            "_view_module": "@jupyter-widgets/controls",
            "_model_module_version": "1.5.0",
            "_view_count": null,
            "disabled": false,
            "_view_module_version": "1.5.0",
            "description_tooltip": null,
            "_model_module": "@jupyter-widgets/controls",
            "layout": "IPY_MODEL_c82ace8d201d4453a598ff97812d3a03"
          }
        },
        "14a3d74aac004c8b81407825302f7f63": {
          "model_module": "@jupyter-widgets/controls",
          "model_name": "BoxModel",
          "state": {
            "_view_name": "BoxView",
            "_dom_classes": [],
            "_model_name": "BoxModel",
            "_view_module": "@jupyter-widgets/controls",
            "_model_module_version": "1.5.0",
            "_view_count": null,
            "_view_module_version": "1.5.0",
            "box_style": "",
            "layout": "IPY_MODEL_d53db2cccf51439ea171f5394ffaf548",
            "_model_module": "@jupyter-widgets/controls",
            "children": [
              "IPY_MODEL_376d9e9def274a1092a698eb3a76af15",
              "IPY_MODEL_3df65b42aee04a55ba60068ac8bd4953",
              "IPY_MODEL_5c5cff5ddce64c5892560192c9ea4688",
              "IPY_MODEL_12faf50f9706428bbf3a5002c899f4a7",
              "IPY_MODEL_0397b7e577f842988897ee90e176cb89",
              "IPY_MODEL_be6214ac652648cf888f6febb354ca86",
              "IPY_MODEL_0b34ce42ea144e2f99da5225b8deab24",
              "IPY_MODEL_5e0908ad38df4a04ae17a143b734325d",
              "IPY_MODEL_6e6f358eafa34b2fb02a03d8e9ded0c0",
              "IPY_MODEL_33d995e8fa9e4390abfc39133f5b8cf5",
              "IPY_MODEL_be7930dc6727453090ccf4237b09b178",
              "IPY_MODEL_37c1e42c742e4c20b42f8ba96b9e608c",
              "IPY_MODEL_76dc4fd172274622921f1f81af12447e",
              "IPY_MODEL_ff0e4dabfba44dec9a097fd475025639",
              "IPY_MODEL_170bba1f78b64830b83269ac37fb0e7b",
              "IPY_MODEL_46ca26cca1d241928cd28ef3d8cd039b",
              "IPY_MODEL_49b74a20276d4a9fae32669df8228de7",
              "IPY_MODEL_d73144dcbf984b7284b075a771667f55",
              "IPY_MODEL_364d735f92914dc7a11c97c8e2e7a0ce",
              "IPY_MODEL_66f4db12fda14a05858938864ebc694a",
              "IPY_MODEL_63d191e0ae684aaeb267ce62096c86dc",
              "IPY_MODEL_1de10b47fb2c4b2ca7494bcf8e4da7b5",
              "IPY_MODEL_bb28ab03452a42b8a84ab43d2e9d0ce4",
              "IPY_MODEL_858c408f693f4d89bd7bd3a1883a34f3",
              "IPY_MODEL_9d3a87cee90b4243a944bfc3915608a3",
              "IPY_MODEL_53fd76eae82840f389ec4e564436feed",
              "IPY_MODEL_70b751d1bbb44d80b941930ac129f492",
              "IPY_MODEL_54ced67f5ac24c4cb8cab3f27905e49c",
              "IPY_MODEL_9235096629bc49f28be29581a6a3e960",
              "IPY_MODEL_496bfb8a32cf456199a5ab7d35190ba3"
            ]
          }
        },
        "0157d10ed07b447e95300f82017403bc": {
          "model_module": "@jupyter-widgets/controls",
          "model_name": "DescriptionStyleModel",
          "state": {
            "_view_name": "StyleView",
            "_model_name": "DescriptionStyleModel",
            "description_width": "",
            "_view_module": "@jupyter-widgets/base",
            "_model_module_version": "1.5.0",
            "_view_count": null,
            "_view_module_version": "1.2.0",
            "_model_module": "@jupyter-widgets/controls"
          }
        },
        "9b9bf4ca5dd7462491edeb28220ff1f5": {
          "model_module": "@jupyter-widgets/base",
          "model_name": "LayoutModel",
          "state": {
            "_view_name": "LayoutView",
            "grid_template_rows": null,
            "right": null,
            "justify_content": null,
            "_view_module": "@jupyter-widgets/base",
            "overflow": null,
            "_model_module_version": "1.2.0",
            "_view_count": null,
            "flex_flow": null,
            "width": null,
            "min_width": null,
            "border": null,
            "align_items": null,
            "bottom": null,
            "_model_module": "@jupyter-widgets/base",
            "top": null,
            "grid_column": null,
            "overflow_y": null,
            "overflow_x": null,
            "grid_auto_flow": null,
            "grid_area": null,
            "grid_template_columns": null,
            "flex": null,
            "_model_name": "LayoutModel",
            "justify_items": null,
            "grid_row": null,
            "max_height": null,
            "align_content": null,
            "visibility": null,
            "align_self": null,
            "height": null,
            "min_height": null,
            "padding": null,
            "grid_auto_rows": null,
            "grid_gap": null,
            "max_width": null,
            "order": null,
            "_view_module_version": "1.2.0",
            "grid_template_areas": null,
            "object_position": null,
            "object_fit": null,
            "grid_auto_columns": null,
            "margin": null,
            "display": null,
            "left": null
          }
        },
        "7ad7fac4858245b99cb7453e858bfb55": {
          "model_module": "@jupyter-widgets/controls",
          "model_name": "DescriptionStyleModel",
          "state": {
            "_view_name": "StyleView",
            "_model_name": "DescriptionStyleModel",
            "description_width": "",
            "_view_module": "@jupyter-widgets/base",
            "_model_module_version": "1.5.0",
            "_view_count": null,
            "_view_module_version": "1.2.0",
            "_model_module": "@jupyter-widgets/controls"
          }
        },
        "c82ace8d201d4453a598ff97812d3a03": {
          "model_module": "@jupyter-widgets/base",
          "model_name": "LayoutModel",
          "state": {
            "_view_name": "LayoutView",
            "grid_template_rows": null,
            "right": null,
            "justify_content": null,
            "_view_module": "@jupyter-widgets/base",
            "overflow": null,
            "_model_module_version": "1.2.0",
            "_view_count": null,
            "flex_flow": null,
            "width": null,
            "min_width": null,
            "border": null,
            "align_items": null,
            "bottom": null,
            "_model_module": "@jupyter-widgets/base",
            "top": null,
            "grid_column": null,
            "overflow_y": null,
            "overflow_x": null,
            "grid_auto_flow": null,
            "grid_area": null,
            "grid_template_columns": null,
            "flex": null,
            "_model_name": "LayoutModel",
            "justify_items": null,
            "grid_row": null,
            "max_height": null,
            "align_content": null,
            "visibility": null,
            "align_self": null,
            "height": null,
            "min_height": null,
            "padding": null,
            "grid_auto_rows": null,
            "grid_gap": null,
            "max_width": null,
            "order": null,
            "_view_module_version": "1.2.0",
            "grid_template_areas": null,
            "object_position": null,
            "object_fit": null,
            "grid_auto_columns": null,
            "margin": null,
            "display": null,
            "left": null
          }
        },
        "d53db2cccf51439ea171f5394ffaf548": {
          "model_module": "@jupyter-widgets/base",
          "model_name": "LayoutModel",
          "state": {
            "_view_name": "LayoutView",
            "grid_template_rows": null,
            "right": null,
            "justify_content": null,
            "_view_module": "@jupyter-widgets/base",
            "overflow": "scroll hidden",
            "_model_module_version": "1.2.0",
            "_view_count": null,
            "flex_flow": "row",
            "width": "100%",
            "min_width": null,
            "border": null,
            "align_items": null,
            "bottom": null,
            "_model_module": "@jupyter-widgets/base",
            "top": null,
            "grid_column": null,
            "overflow_y": null,
            "overflow_x": null,
            "grid_auto_flow": null,
            "grid_area": null,
            "grid_template_columns": null,
            "flex": null,
            "_model_name": "LayoutModel",
            "justify_items": null,
            "grid_row": null,
            "max_height": null,
            "align_content": null,
            "visibility": null,
            "align_self": null,
            "height": null,
            "min_height": null,
            "padding": null,
            "grid_auto_rows": null,
            "grid_gap": null,
            "max_width": null,
            "order": null,
            "_view_module_version": "1.2.0",
            "grid_template_areas": null,
            "object_position": null,
            "object_fit": null,
            "grid_auto_columns": null,
            "margin": null,
            "display": "flex",
            "left": null
          }
        },
        "376d9e9def274a1092a698eb3a76af15": {
          "model_module": "@jupyter-widgets/controls",
          "model_name": "VBoxModel",
          "state": {
            "_view_name": "VBoxView",
            "_dom_classes": [],
            "_model_name": "VBoxModel",
            "_view_module": "@jupyter-widgets/controls",
            "_model_module_version": "1.5.0",
            "_view_count": null,
            "_view_module_version": "1.5.0",
            "box_style": "",
            "layout": "IPY_MODEL_f87005e70b3143248dd35010571d02d9",
            "_model_module": "@jupyter-widgets/controls",
            "children": [
              "IPY_MODEL_f959509c2d5742aaae6be7d77b956e25",
              "IPY_MODEL_c2b32e7956764debb1bb35b37c94543a"
            ]
          }
        },
        "3df65b42aee04a55ba60068ac8bd4953": {
          "model_module": "@jupyter-widgets/controls",
          "model_name": "VBoxModel",
          "state": {
            "_view_name": "VBoxView",
            "_dom_classes": [],
            "_model_name": "VBoxModel",
            "_view_module": "@jupyter-widgets/controls",
            "_model_module_version": "1.5.0",
            "_view_count": null,
            "_view_module_version": "1.5.0",
            "box_style": "",
            "layout": "IPY_MODEL_3fa3cd391e7f49908412569e1239c03c",
            "_model_module": "@jupyter-widgets/controls",
            "children": [
              "IPY_MODEL_9ba191ed00214c1a87293a98ace11853",
              "IPY_MODEL_f1ec2c898b6a4d41980bfbb5c7fe74c1"
            ]
          }
        },
        "5c5cff5ddce64c5892560192c9ea4688": {
          "model_module": "@jupyter-widgets/controls",
          "model_name": "VBoxModel",
          "state": {
            "_view_name": "VBoxView",
            "_dom_classes": [],
            "_model_name": "VBoxModel",
            "_view_module": "@jupyter-widgets/controls",
            "_model_module_version": "1.5.0",
            "_view_count": null,
            "_view_module_version": "1.5.0",
            "box_style": "",
            "layout": "IPY_MODEL_010f679ad9834f7da6f0947dd0e8dd2c",
            "_model_module": "@jupyter-widgets/controls",
            "children": [
              "IPY_MODEL_483715f998014dc9a60218afe7fc0dab",
              "IPY_MODEL_19ee1f4fdb424b63b2a1f41f75b95681"
            ]
          }
        },
        "12faf50f9706428bbf3a5002c899f4a7": {
          "model_module": "@jupyter-widgets/controls",
          "model_name": "VBoxModel",
          "state": {
            "_view_name": "VBoxView",
            "_dom_classes": [],
            "_model_name": "VBoxModel",
            "_view_module": "@jupyter-widgets/controls",
            "_model_module_version": "1.5.0",
            "_view_count": null,
            "_view_module_version": "1.5.0",
            "box_style": "",
            "layout": "IPY_MODEL_73e7036a088141a3aa54dccf19a2aece",
            "_model_module": "@jupyter-widgets/controls",
            "children": [
              "IPY_MODEL_bff54f8bd43f4cafa664aca770185448",
              "IPY_MODEL_62e330110f654fc69f172319fa30cdd1"
            ]
          }
        },
        "0397b7e577f842988897ee90e176cb89": {
          "model_module": "@jupyter-widgets/controls",
          "model_name": "VBoxModel",
          "state": {
            "_view_name": "VBoxView",
            "_dom_classes": [],
            "_model_name": "VBoxModel",
            "_view_module": "@jupyter-widgets/controls",
            "_model_module_version": "1.5.0",
            "_view_count": null,
            "_view_module_version": "1.5.0",
            "box_style": "",
            "layout": "IPY_MODEL_48ce4b07264140b481ffb080c19345a7",
            "_model_module": "@jupyter-widgets/controls",
            "children": [
              "IPY_MODEL_b114893467d545038f772b2eaad63f52",
              "IPY_MODEL_4837f41517a74089b2c3c6a4ae1ca638"
            ]
          }
        },
        "be6214ac652648cf888f6febb354ca86": {
          "model_module": "@jupyter-widgets/controls",
          "model_name": "VBoxModel",
          "state": {
            "_view_name": "VBoxView",
            "_dom_classes": [],
            "_model_name": "VBoxModel",
            "_view_module": "@jupyter-widgets/controls",
            "_model_module_version": "1.5.0",
            "_view_count": null,
            "_view_module_version": "1.5.0",
            "box_style": "",
            "layout": "IPY_MODEL_5b76e59a32f74897a8dba6ffe1e872da",
            "_model_module": "@jupyter-widgets/controls",
            "children": [
              "IPY_MODEL_70e909d601d9479a91be1b020a67ffe8",
              "IPY_MODEL_0c0e8a4e152d4906a5d5f1160124b37f"
            ]
          }
        },
        "0b34ce42ea144e2f99da5225b8deab24": {
          "model_module": "@jupyter-widgets/controls",
          "model_name": "VBoxModel",
          "state": {
            "_view_name": "VBoxView",
            "_dom_classes": [],
            "_model_name": "VBoxModel",
            "_view_module": "@jupyter-widgets/controls",
            "_model_module_version": "1.5.0",
            "_view_count": null,
            "_view_module_version": "1.5.0",
            "box_style": "",
            "layout": "IPY_MODEL_afa7162a7bff420d92f698ab2e97d405",
            "_model_module": "@jupyter-widgets/controls",
            "children": [
              "IPY_MODEL_0b41f5e7bd874a63b2075902ccba8ee5",
              "IPY_MODEL_097af51d2cb84ac5ba1387c3bbb05fe4"
            ]
          }
        },
        "5e0908ad38df4a04ae17a143b734325d": {
          "model_module": "@jupyter-widgets/controls",
          "model_name": "VBoxModel",
          "state": {
            "_view_name": "VBoxView",
            "_dom_classes": [],
            "_model_name": "VBoxModel",
            "_view_module": "@jupyter-widgets/controls",
            "_model_module_version": "1.5.0",
            "_view_count": null,
            "_view_module_version": "1.5.0",
            "box_style": "",
            "layout": "IPY_MODEL_df97994476424fe38e5d92c07e7b6a80",
            "_model_module": "@jupyter-widgets/controls",
            "children": [
              "IPY_MODEL_478638e3c99b4d22be86c77cc8a4d67c",
              "IPY_MODEL_588a5642b1a049e184f361e1ef6a9966"
            ]
          }
        },
        "6e6f358eafa34b2fb02a03d8e9ded0c0": {
          "model_module": "@jupyter-widgets/controls",
          "model_name": "VBoxModel",
          "state": {
            "_view_name": "VBoxView",
            "_dom_classes": [],
            "_model_name": "VBoxModel",
            "_view_module": "@jupyter-widgets/controls",
            "_model_module_version": "1.5.0",
            "_view_count": null,
            "_view_module_version": "1.5.0",
            "box_style": "",
            "layout": "IPY_MODEL_a0fdba62c53b437a8f5bc3415bb32351",
            "_model_module": "@jupyter-widgets/controls",
            "children": [
              "IPY_MODEL_9eb6c1a5d85c4b96b92b3e41cf8e1be2",
              "IPY_MODEL_ca87b8f3ee89429fbc39d8e5a08785a7"
            ]
          }
        },
        "33d995e8fa9e4390abfc39133f5b8cf5": {
          "model_module": "@jupyter-widgets/controls",
          "model_name": "VBoxModel",
          "state": {
            "_view_name": "VBoxView",
            "_dom_classes": [],
            "_model_name": "VBoxModel",
            "_view_module": "@jupyter-widgets/controls",
            "_model_module_version": "1.5.0",
            "_view_count": null,
            "_view_module_version": "1.5.0",
            "box_style": "",
            "layout": "IPY_MODEL_beb3ed39a7a64747a102f1d0f4658263",
            "_model_module": "@jupyter-widgets/controls",
            "children": [
              "IPY_MODEL_e3274684c8634a6e9ef35fa4be1756bb",
              "IPY_MODEL_4bcd667fdd3d4797b3fe4142aeb21638"
            ]
          }
        },
        "be7930dc6727453090ccf4237b09b178": {
          "model_module": "@jupyter-widgets/controls",
          "model_name": "VBoxModel",
          "state": {
            "_view_name": "VBoxView",
            "_dom_classes": [],
            "_model_name": "VBoxModel",
            "_view_module": "@jupyter-widgets/controls",
            "_model_module_version": "1.5.0",
            "_view_count": null,
            "_view_module_version": "1.5.0",
            "box_style": "",
            "layout": "IPY_MODEL_76eb093a7610460cbe9a7455897dfa8e",
            "_model_module": "@jupyter-widgets/controls",
            "children": [
              "IPY_MODEL_d9ee6f918c4644d995915c0e8c18eea7",
              "IPY_MODEL_7e24f88d55e04247ab8e78b5881265cd"
            ]
          }
        },
        "37c1e42c742e4c20b42f8ba96b9e608c": {
          "model_module": "@jupyter-widgets/controls",
          "model_name": "VBoxModel",
          "state": {
            "_view_name": "VBoxView",
            "_dom_classes": [],
            "_model_name": "VBoxModel",
            "_view_module": "@jupyter-widgets/controls",
            "_model_module_version": "1.5.0",
            "_view_count": null,
            "_view_module_version": "1.5.0",
            "box_style": "",
            "layout": "IPY_MODEL_80f5d33616d445d6a901b9b72a413d8b",
            "_model_module": "@jupyter-widgets/controls",
            "children": [
              "IPY_MODEL_c40606026880453faa7ac33a226e1911",
              "IPY_MODEL_5e7e6514854e43249008f3756df2dc6f"
            ]
          }
        },
        "76dc4fd172274622921f1f81af12447e": {
          "model_module": "@jupyter-widgets/controls",
          "model_name": "VBoxModel",
          "state": {
            "_view_name": "VBoxView",
            "_dom_classes": [],
            "_model_name": "VBoxModel",
            "_view_module": "@jupyter-widgets/controls",
            "_model_module_version": "1.5.0",
            "_view_count": null,
            "_view_module_version": "1.5.0",
            "box_style": "",
            "layout": "IPY_MODEL_7f6c120205bf4949b142117c16e66b6d",
            "_model_module": "@jupyter-widgets/controls",
            "children": [
              "IPY_MODEL_c37011ad05914e18bc7c800a2cc8b753",
              "IPY_MODEL_64fb352428ed430aa9ffce72a3e627c1"
            ]
          }
        },
        "ff0e4dabfba44dec9a097fd475025639": {
          "model_module": "@jupyter-widgets/controls",
          "model_name": "VBoxModel",
          "state": {
            "_view_name": "VBoxView",
            "_dom_classes": [],
            "_model_name": "VBoxModel",
            "_view_module": "@jupyter-widgets/controls",
            "_model_module_version": "1.5.0",
            "_view_count": null,
            "_view_module_version": "1.5.0",
            "box_style": "",
            "layout": "IPY_MODEL_da232d79297848a18f2ca47f536a5a47",
            "_model_module": "@jupyter-widgets/controls",
            "children": [
              "IPY_MODEL_eb185fae768941dd9139fc7329dac591",
              "IPY_MODEL_504f13d60e464df696c80c109b21f3d5"
            ]
          }
        },
        "170bba1f78b64830b83269ac37fb0e7b": {
          "model_module": "@jupyter-widgets/controls",
          "model_name": "VBoxModel",
          "state": {
            "_view_name": "VBoxView",
            "_dom_classes": [],
            "_model_name": "VBoxModel",
            "_view_module": "@jupyter-widgets/controls",
            "_model_module_version": "1.5.0",
            "_view_count": null,
            "_view_module_version": "1.5.0",
            "box_style": "",
            "layout": "IPY_MODEL_439ac325c6024a0281337464ada79fe8",
            "_model_module": "@jupyter-widgets/controls",
            "children": [
              "IPY_MODEL_dd6ec2e1d4f94fa6b15a872c771f167a",
              "IPY_MODEL_99f3fbdd6c5d4a71b31095834964c692"
            ]
          }
        },
        "46ca26cca1d241928cd28ef3d8cd039b": {
          "model_module": "@jupyter-widgets/controls",
          "model_name": "VBoxModel",
          "state": {
            "_view_name": "VBoxView",
            "_dom_classes": [],
            "_model_name": "VBoxModel",
            "_view_module": "@jupyter-widgets/controls",
            "_model_module_version": "1.5.0",
            "_view_count": null,
            "_view_module_version": "1.5.0",
            "box_style": "",
            "layout": "IPY_MODEL_08fd2b6157744f67935574c054bd0f5f",
            "_model_module": "@jupyter-widgets/controls",
            "children": [
              "IPY_MODEL_b06c70fa89c1453485af67fbde9bec90",
              "IPY_MODEL_2ad3337fca2649da893b188c31425263"
            ]
          }
        },
        "49b74a20276d4a9fae32669df8228de7": {
          "model_module": "@jupyter-widgets/controls",
          "model_name": "VBoxModel",
          "state": {
            "_view_name": "VBoxView",
            "_dom_classes": [],
            "_model_name": "VBoxModel",
            "_view_module": "@jupyter-widgets/controls",
            "_model_module_version": "1.5.0",
            "_view_count": null,
            "_view_module_version": "1.5.0",
            "box_style": "",
            "layout": "IPY_MODEL_11b9c1982fa742aeade99ea12edc8c2b",
            "_model_module": "@jupyter-widgets/controls",
            "children": [
              "IPY_MODEL_f1dc1b1731c2442e83f64a3ea3fdc0b6",
              "IPY_MODEL_36deab3e4b4c4625933ba483ed9d1769"
            ]
          }
        },
        "d73144dcbf984b7284b075a771667f55": {
          "model_module": "@jupyter-widgets/controls",
          "model_name": "VBoxModel",
          "state": {
            "_view_name": "VBoxView",
            "_dom_classes": [],
            "_model_name": "VBoxModel",
            "_view_module": "@jupyter-widgets/controls",
            "_model_module_version": "1.5.0",
            "_view_count": null,
            "_view_module_version": "1.5.0",
            "box_style": "",
            "layout": "IPY_MODEL_c00c57561b0c47c3a593fae8d677fc4c",
            "_model_module": "@jupyter-widgets/controls",
            "children": [
              "IPY_MODEL_1d9ba72b71284a75a91ef218271aeb19",
              "IPY_MODEL_0bc3d9008373488fa1b771990db8ff87"
            ]
          }
        },
        "364d735f92914dc7a11c97c8e2e7a0ce": {
          "model_module": "@jupyter-widgets/controls",
          "model_name": "VBoxModel",
          "state": {
            "_view_name": "VBoxView",
            "_dom_classes": [],
            "_model_name": "VBoxModel",
            "_view_module": "@jupyter-widgets/controls",
            "_model_module_version": "1.5.0",
            "_view_count": null,
            "_view_module_version": "1.5.0",
            "box_style": "",
            "layout": "IPY_MODEL_e8e7a3b3081c41cd9e1000eb3014a99a",
            "_model_module": "@jupyter-widgets/controls",
            "children": [
              "IPY_MODEL_3275b675f76d4322b0f0040c14a8457f",
              "IPY_MODEL_cb68229337e545bb9d6570d31c5906e0"
            ]
          }
        },
        "66f4db12fda14a05858938864ebc694a": {
          "model_module": "@jupyter-widgets/controls",
          "model_name": "VBoxModel",
          "state": {
            "_view_name": "VBoxView",
            "_dom_classes": [],
            "_model_name": "VBoxModel",
            "_view_module": "@jupyter-widgets/controls",
            "_model_module_version": "1.5.0",
            "_view_count": null,
            "_view_module_version": "1.5.0",
            "box_style": "",
            "layout": "IPY_MODEL_c6354729ce2d437199c19b3f3625a353",
            "_model_module": "@jupyter-widgets/controls",
            "children": [
              "IPY_MODEL_49ffe22bee6e4566a3ea5495bf1a6b1d",
              "IPY_MODEL_19fb06b9ade44378ad468c77164488c3"
            ]
          }
        },
        "63d191e0ae684aaeb267ce62096c86dc": {
          "model_module": "@jupyter-widgets/controls",
          "model_name": "VBoxModel",
          "state": {
            "_view_name": "VBoxView",
            "_dom_classes": [],
            "_model_name": "VBoxModel",
            "_view_module": "@jupyter-widgets/controls",
            "_model_module_version": "1.5.0",
            "_view_count": null,
            "_view_module_version": "1.5.0",
            "box_style": "",
            "layout": "IPY_MODEL_328fb37e320347bab0678af405611a1c",
            "_model_module": "@jupyter-widgets/controls",
            "children": [
              "IPY_MODEL_72222fbb14204a7881f1b7ca6d682da4",
              "IPY_MODEL_2c4cb79c127c40238a17306bce40d168"
            ]
          }
        },
        "1de10b47fb2c4b2ca7494bcf8e4da7b5": {
          "model_module": "@jupyter-widgets/controls",
          "model_name": "VBoxModel",
          "state": {
            "_view_name": "VBoxView",
            "_dom_classes": [],
            "_model_name": "VBoxModel",
            "_view_module": "@jupyter-widgets/controls",
            "_model_module_version": "1.5.0",
            "_view_count": null,
            "_view_module_version": "1.5.0",
            "box_style": "",
            "layout": "IPY_MODEL_f4e95432e4ec4eb4b72be29632c16b62",
            "_model_module": "@jupyter-widgets/controls",
            "children": [
              "IPY_MODEL_9ac20f258e9449dba53fff4367872920",
              "IPY_MODEL_a3f0278c4a88414da6cc69f68049f25c"
            ]
          }
        },
        "bb28ab03452a42b8a84ab43d2e9d0ce4": {
          "model_module": "@jupyter-widgets/controls",
          "model_name": "VBoxModel",
          "state": {
            "_view_name": "VBoxView",
            "_dom_classes": [],
            "_model_name": "VBoxModel",
            "_view_module": "@jupyter-widgets/controls",
            "_model_module_version": "1.5.0",
            "_view_count": null,
            "_view_module_version": "1.5.0",
            "box_style": "",
            "layout": "IPY_MODEL_8963b132366943ff8564570975f3f4da",
            "_model_module": "@jupyter-widgets/controls",
            "children": [
              "IPY_MODEL_9e3cf8ca52af41019e6dc6c4eddb1b67",
              "IPY_MODEL_8d6aa801c8c14e0492e7035efe66c8c0"
            ]
          }
        },
        "858c408f693f4d89bd7bd3a1883a34f3": {
          "model_module": "@jupyter-widgets/controls",
          "model_name": "VBoxModel",
          "state": {
            "_view_name": "VBoxView",
            "_dom_classes": [],
            "_model_name": "VBoxModel",
            "_view_module": "@jupyter-widgets/controls",
            "_model_module_version": "1.5.0",
            "_view_count": null,
            "_view_module_version": "1.5.0",
            "box_style": "",
            "layout": "IPY_MODEL_3a6d90dd5c9c4e589738f91a922dd994",
            "_model_module": "@jupyter-widgets/controls",
            "children": [
              "IPY_MODEL_4569a34dd0c14b70938993c330decbad",
              "IPY_MODEL_fec78b1328ec4180a0eaf249d6e838d6"
            ]
          }
        },
        "9d3a87cee90b4243a944bfc3915608a3": {
          "model_module": "@jupyter-widgets/controls",
          "model_name": "VBoxModel",
          "state": {
            "_view_name": "VBoxView",
            "_dom_classes": [],
            "_model_name": "VBoxModel",
            "_view_module": "@jupyter-widgets/controls",
            "_model_module_version": "1.5.0",
            "_view_count": null,
            "_view_module_version": "1.5.0",
            "box_style": "",
            "layout": "IPY_MODEL_78ee090366db4c609bbb24f8cb1afbab",
            "_model_module": "@jupyter-widgets/controls",
            "children": [
              "IPY_MODEL_dc7c5376de6e4ad0ba648037936636dc",
              "IPY_MODEL_184a3829b31843388031f25d7a113613"
            ]
          }
        },
        "53fd76eae82840f389ec4e564436feed": {
          "model_module": "@jupyter-widgets/controls",
          "model_name": "VBoxModel",
          "state": {
            "_view_name": "VBoxView",
            "_dom_classes": [],
            "_model_name": "VBoxModel",
            "_view_module": "@jupyter-widgets/controls",
            "_model_module_version": "1.5.0",
            "_view_count": null,
            "_view_module_version": "1.5.0",
            "box_style": "",
            "layout": "IPY_MODEL_03dcc1c8bfd04b449f322a9d97e36a94",
            "_model_module": "@jupyter-widgets/controls",
            "children": [
              "IPY_MODEL_7c036bb0fe964264b29fc964c3d519eb",
              "IPY_MODEL_3b0ca43ab36b489689d1fd11ee2c6115"
            ]
          }
        },
        "70b751d1bbb44d80b941930ac129f492": {
          "model_module": "@jupyter-widgets/controls",
          "model_name": "VBoxModel",
          "state": {
            "_view_name": "VBoxView",
            "_dom_classes": [],
            "_model_name": "VBoxModel",
            "_view_module": "@jupyter-widgets/controls",
            "_model_module_version": "1.5.0",
            "_view_count": null,
            "_view_module_version": "1.5.0",
            "box_style": "",
            "layout": "IPY_MODEL_2c9895655097415a935a4c966236dbad",
            "_model_module": "@jupyter-widgets/controls",
            "children": [
              "IPY_MODEL_c5985f156e17494bb0cc1572c2d1af36",
              "IPY_MODEL_f50b2c7b52784130b12282439c37d0d1"
            ]
          }
        },
        "54ced67f5ac24c4cb8cab3f27905e49c": {
          "model_module": "@jupyter-widgets/controls",
          "model_name": "VBoxModel",
          "state": {
            "_view_name": "VBoxView",
            "_dom_classes": [],
            "_model_name": "VBoxModel",
            "_view_module": "@jupyter-widgets/controls",
            "_model_module_version": "1.5.0",
            "_view_count": null,
            "_view_module_version": "1.5.0",
            "box_style": "",
            "layout": "IPY_MODEL_2e035d9008f44836a8dbf12fc19f4b9d",
            "_model_module": "@jupyter-widgets/controls",
            "children": [
              "IPY_MODEL_58cd0f0e2324474ba5a6409c6598a6de",
              "IPY_MODEL_73e5e0570fa24eedb4d0767fb2c1bb73"
            ]
          }
        },
        "9235096629bc49f28be29581a6a3e960": {
          "model_module": "@jupyter-widgets/controls",
          "model_name": "VBoxModel",
          "state": {
            "_view_name": "VBoxView",
            "_dom_classes": [],
            "_model_name": "VBoxModel",
            "_view_module": "@jupyter-widgets/controls",
            "_model_module_version": "1.5.0",
            "_view_count": null,
            "_view_module_version": "1.5.0",
            "box_style": "",
            "layout": "IPY_MODEL_656245b6b1eb45af8942f063de0b2497",
            "_model_module": "@jupyter-widgets/controls",
            "children": [
              "IPY_MODEL_7f2cd97d116f4420b56cbf957ed89b7a",
              "IPY_MODEL_b19f8baaba164a1dac394d8af10443a1"
            ]
          }
        },
        "496bfb8a32cf456199a5ab7d35190ba3": {
          "model_module": "@jupyter-widgets/controls",
          "model_name": "VBoxModel",
          "state": {
            "_view_name": "VBoxView",
            "_dom_classes": [],
            "_model_name": "VBoxModel",
            "_view_module": "@jupyter-widgets/controls",
            "_model_module_version": "1.5.0",
            "_view_count": null,
            "_view_module_version": "1.5.0",
            "box_style": "",
            "layout": "IPY_MODEL_464def6a901a4ec3a527987d8f2a2094",
            "_model_module": "@jupyter-widgets/controls",
            "children": [
              "IPY_MODEL_30a4eb03b72549259a2dbfe540bd1bff",
              "IPY_MODEL_da4f80036d234733a0b5157d68f454e9"
            ]
          }
        },
        "f87005e70b3143248dd35010571d02d9": {
          "model_module": "@jupyter-widgets/base",
          "model_name": "LayoutModel",
          "state": {
            "_view_name": "LayoutView",
            "grid_template_rows": null,
            "right": null,
            "justify_content": null,
            "_view_module": "@jupyter-widgets/base",
            "overflow": null,
            "_model_module_version": "1.2.0",
            "_view_count": null,
            "flex_flow": null,
            "width": null,
            "min_width": null,
            "border": null,
            "align_items": null,
            "bottom": null,
            "_model_module": "@jupyter-widgets/base",
            "top": null,
            "grid_column": null,
            "overflow_y": null,
            "overflow_x": null,
            "grid_auto_flow": null,
            "grid_area": null,
            "grid_template_columns": null,
            "flex": "0 0 auto",
            "_model_name": "LayoutModel",
            "justify_items": null,
            "grid_row": null,
            "max_height": null,
            "align_content": null,
            "visibility": null,
            "align_self": null,
            "height": null,
            "min_height": null,
            "padding": null,
            "grid_auto_rows": null,
            "grid_gap": null,
            "max_width": null,
            "order": null,
            "_view_module_version": "1.2.0",
            "grid_template_areas": null,
            "object_position": null,
            "object_fit": null,
            "grid_auto_columns": null,
            "margin": null,
            "display": null,
            "left": null
          }
        },
        "f959509c2d5742aaae6be7d77b956e25": {
          "model_module": "@jupyter-widgets/output",
          "model_name": "OutputModel",
          "state": {
            "_view_name": "OutputView",
            "msg_id": "",
            "_dom_classes": [],
            "_model_name": "OutputModel",
            "outputs": [
              {
                "output_type": "display_data",
                "metadata": {
                  "tags": []
                },
                "image/png": "iVBORw0KGgoAAAANSUhEUgAAAQAAAABQCAYAAAD2i6slAAAXKklEQVR4nO2de1RUxx3Hv3eBZUXI\n8hYMKk+hikY2FlIaYiRqTNAqGmMeGgLYhqOkVRtNbT0E24jG1KQNRBvUxmggiRpNyfEBSVSsIgjC\nsYAgavCBaHi/H/v69Q+7W5a9C4vcBYH5nHOPcufe32/uvTu/+c3Mb2Y4IiIwGIwRiWiwM8BgMAYP\nZgAYjBEMMwAMxgiGGQBGj3R0dKChoWGws8EwEcwAMAySmZmJ0NBQ/PrXvwbrKx6emA92BhgPH2Vl\nZUhISEBqaioUCgVEIhGOHj2KefPmDXbWGALDsWFAhoba2lokJSUhKSkJNTU1AACO40BEePzxx3Hm\nzBlYWVkNci4ZQsKaAAwolUrs378fTz75JOLj41FTUwOO48BxHID7RuDixYtITk4e5JwyhIZ5ACOc\nf//739i0aRN++OEHANAW+u4QEVxdXZGTk4Nx48YNZBYZJoR5ACOUa9euISoqCrNnz8YPP/ygU+Pz\nwXEc7t69i61btw5gLhmmhnkAI4yGhgYkJiYiMTER1dXVAAzX+t0hIowaNQqZmZn4+c9/bspsMgYI\nZgBGCEqlEl999RW2bNmC4uJiAMYX/K4QEebMmYOjR4/C3JwNIg11WBNgBJCdnY2wsDAsW7YMxcXF\nvbr7PcFxHL777jscOXJE4FwyBgNmAEYAhYWFyMjIAPBgtX53iAhxcXEsQnAYwAzACOC1115DSEiI\nYPI4jkNpaSmSkpIEk8kYHFgfwAghMzMTs2fPhkKhEMwLsLe3R05ODry9vQXIIWMwYB7ACGHGjBl4\n+eWXBZPHcRzq6urw7rvvCiaTMfAwD2AEcf36dQQGBqKurk4wL0AsFuPEiROYOXOmADlkDDTMAxhB\neHl5Yc2aNYLJ4zgOcrkccXFxkMvlgsllDBzMAIww3nzzTfj6+go2vZfjOJw9exb79u0TRB5jYGEG\nYJhy+vRpVFRU6J2XSqWIi4sTpAnQlc2bN2sjCxlDB2YAhhmlpaV4/fXXMXv2bCQkJPBes3TpUsya\nNUtQL+DGjRt4//33BZHHGDhYJ+Awoa6uDjt27MDf//537Vx+KysrZGZmYvr06XrXnz9/HqGhoejo\n6BCsQ9DGxgZZWVnw9/fvtzzGAEGMIY1SqaSUlBSaNGkSASAAxHEccRxHAOjZZ58lpVLJe+8bb7yh\nc31/DwC0cOFCUqlUA/wWGA8KMwBDmKysLHr22Wf1Cn7348svv+S9v7y8nJydnQUzAgBIJBLR0aNH\nB/hNMB4U1gcwBLlx4wZiYmLwzDPPID09vcfJPUSETZs2obGxUS/N3d0d69atEyxfHMdBrVZj48aN\naG1tFUwuw3QwAzCEaGlpwfvvv4/g4GB88sknaG9v77X9znEcSkpKDMbtx8TEYOrUqYJ2CBYUFGDX\nrl2CyGOYFtYJOEQ4cuQI/vKXv6CgoABA32b1EREcHByQk5MDLy8vvfS0tDQsXLgQRCRYh6CLiwsu\nXLjAlg97yGEewENObm4uwsPDsXjxYhQUFDzQXH6O41BbW2swbj8sLAzPP/+8ENnV6rt37x62bNki\nmEyGaWAewEOKWq3GO++8gw8//FDbnu5P7Uz/i9tPT0/H008/rZdeUFCAkJAQtLa2CuYFSCQSnDp1\nCk888US/5TFMA/MAHlI0cfaaAtnfQtk1br+zs1MvPSAgANHR0f3S0V1fR0cH4uPjoVKpBJPLEBbm\nATzENDQ0IDAwEFevXhUsdJeIsGfPHkRFRemlVVZWIigoCBUVFYKGCqempuKll14STB5DOJgH8BBj\na2uLd955Z8Di9seOHYs//OEPgurSDEOy5cMeTpgBeMhZunQpnnnmGUGH6X788Ud88MEHvOmRkZGY\nPn26oPpKS0vx0UcfCSKPISysCTAEyMnJwcyZM40a9zcGIoJUKkVWVhYmTZqkl378+HHMnz8farW6\n37o0+uzt7XHhwgXeYUjG4ME8gCFAUFAQIiIiBJPHcRwaGxsRFxfHmz537lxtXIBQ+urq6hAfHy+I\nPIZwMA/gIUKtVqOtrQ3W1tZ6abdu3UJQUBDu3bsnWJ+ASCRCWloabwxAUVERgoOD0dzcLJjXYWFh\ngYyMDN5hSMbgwDyAh4TCwkIsWrQI0dHRvDXv+PHjsX79ekF1qlQqxMXFoa2tTS/N398fq1atEkwX\nx3FQKBTYuHEjOjo6BJPL6CcDNeuIwc9PP/1EGzZsIKlU2utsuubmZgoICBB8Cm9iYiKvvurqavLw\n8BBc365du0z5Shl9gBmAQUIul9Pu3bvJ09NTZzovAJLJZNTa2sp737fffksikUjQAjl27FiqqKjg\n1bdr1y7BDYC7uzv99NNPpny9DCNhBmAQ+P7772nGjBkG5/H3VCurVCpavHix4IXyt7/9La++zs5O\n+uUvfym4vvXr15vyFTOMhBmAAaSkpIQiIiLIwsKixwLVW61cWFhINjY2gi7kYWVlRbm5ubz6vv/+\n+17z3Fd9NjY2dOnSJVO+boYRMAMwANTW1tKf//xncnBw6HX1nq6FJDY21qDMt99+W/BaOSwszOBy\nXsuWLRNc36JFi0itVpvqtTOMgBkAE6JQKCg1NZV3vT5jCsioUaPowoULvLKrqqrI3d1d0ELJcRwd\nPHiQV19paSnZ2dkJqs/MzIzS0tJM+QkYvcAMgIk4d+4czZo1q88Fv7sReO6550ihUPDq+PTTTwWv\nlf39/amhoYFXX3x8vOD6AgICqKWlxZSfgtEDzAAIzPXr1+k3v/kNSSSSfhX+rseBAwd4dcnlcgoJ\nCRG8UCYkJPDqq6uro4kTJwqub/v27ab8JIweYAZAYJKTkwUr+F1r5aamJl59mZmZJBaLBdXn5ORE\n5eXlvPpSUlIENwAuLi50+/ZtE34VhiGYARCY1tZWCgwMFLyQbN682aDO119/XXB9UVFRvLrkcjnN\nnDlTcH0xMTGm+iSMHmAGwAQcP36czM3NBS0gTk5OdP36dV59165dI0dHR0G9AEtLSzp79iyvvqys\nLLK0tBRUn0QioezsbFN+FgYPzACYiBdffFHwWjIyMtKgvi1btgiub8aMGdTZ2cmrLyoqSnB9c+bM\nIblcbqpPwuCBGQATUVRURKNHj9b2Bwh1ZGRk8OprbGykxx57TK9Q9lffzp07efWVl5drvQ4hj927\nd5vyszC6waYDm5Bvv/0WpaWlMDMzE0SeUqmEs7MzLl++DLlcrt2JZ/HixXjqqafwySefICYmBhzH\nadf4X7lyJTw9PR9In0qlgqOjI27evIn6+nqIRCKo1WrMmTMHYWFhOHHiBAoLCwV7PpVKhQkTJmDJ\nkiVGT0Hu7OzErVu3YG5uDg8PD0HyMZIwH+wMDGfmz5+P+fPnCyrzypUriIyM1Dk3btw4PPXUU5BK\npTrniQivvfYaAgMDH1hfa2srxo0bh/r6eu05sViMsLAwzJ07F3Pnzn1g2f2lsbERhw8fhkqlglgs\nRl5eHsLDw2Fuzn7WxsLWAxhiKJVKSCQSAP/fJ8DCwgIAeNcR6O/c+87OTowaNYpX32CTm5sLHx8f\nlJSU4N69e7C1tcXly5cHO1tDCmYAhhGaNfy6GoLh3MJra2uDvb09FAoFWlpa4OTkhKampsHO1pCC\n+UrDCIlEAnt7e53288NSW5sCPz8/nDlzBkuWLEFTUxPOnTvH9h/oI8wADCPmzZuns4kIEcHGxmaQ\nc2U6Jk6cCIVCgbKyMpiZmSE8PBwODg6Dna0hBTMA/aC8vBwFBQX48ccf0dLSAnt7e/j4+CAgIAAu\nLi5oamrCyZMntW44ESEoKAiPPvqoQZkVFRUoKCjAtWvX0NDQAAcHB3h4eCAgIABubm4Qi8UG762u\nrkZ+fr6OBxAcHNxjoaiqqkJ+fj7KyspQW1sLqVSKCRMmYNq0afDy8oKlpWWf30t1dTUuXryIq1ev\nora2FjY2NvDw8IBMJoO7uzuUSiVOnDgBhUKhfS9+fn68S5QrFAoUFRXh8uXLuHXrFjo6OuDg4AAv\nLy/IZDJMnjwZkydP7nMeGf9jkIYfhzTnzp2jF154QTs9tvvh4uJCsbGx9Nlnn+mNxRua2HPx4kVa\nvnw5OTk58cp0cnKiFStW0IEDB7TxBRrZf/vb34iI6PPPP9e779SpU7z6rl69SrGxsTR27FhefVKp\nlBYtWkRpaWnk5uamo2/Dhg28MsvKymjVqlUGZdrZ2dHLL79Mhw4d0q6BqDn4ZB44cIB+8YtfaKMO\nux/Ozs4UGRlJV65cebAPyWCBQH1BpVJRfHy8zkw/TcHgC7yRSCQkEol0zh06dEhP7vbt27Ur/PQm\n09LSkszMzHTSNAYgNTVVr5BkZmbq6UtJSaExY8YYpc/CwoIsLCx00vgK6759+8jFxcUomWKxmMzN\nzXXObdy4UStLoVDQm2++aXTwkKurKx07dkzALz1yYE0AI1GpVFizZg0SExMBQKedTd162jVpHR0d\n2p19u1+j4U9/+hMSEhKMltnZ2dlrkExP+pKTk7Fq1SoolUqj9Gnc9J50JiUlYfXq1VCpVEbJlMvl\nes/blcTERJ33rEm3sbGBWCxGW1sb2tvbtel3795FREQEzp49i4kTJxrMJ0MfZgCMJCkpifdHaW1t\njSlTpsDFxQWVlZUoLi5GS0uL9rqe+PTTT3kLv0QiwZQpU+Dm5oaqqioUFhZqh7eMjZDj4+TJk1i9\nerVe4TczM8PkyZPh6emJhoYGFBUVoaamxih9J0+exFtvvaVX+EUikVZmc3MzCgsLtRuS9iSzrq4O\nH374ofY6IoKnpyc2b96MwMBAjBo1CvX19fjiiy+wbds2KBQKcByH6upq/PWvf0VycvIDv58RyYD7\nHEOQ8vJy7Xp+Xd3ZV155hQoLC7Xr6CmVSiosLKSXXnpJzw3W/K1pAty5c0fbVu56zYIFCygvL0+7\nCpBaraaSkhKKjo426FprmgBd5+prrtU0AVpbW0kmk+npCwoKooyMDGpvb9d53vXr1/MuBIouTYDW\n1laaPn26nszp06dTenq6jsybN2/S22+/bVCmpglw8uRJnecEQB999BHvdwkLC9NpCjg6OlJNTY2Q\nn37YwzwAI9izZw9qa2t1aq41a9bo7bBrZmYGf39/pKSkwNXVVVuT8bF//35UVlbq1JpRUVH4xz/+\noTN2z3Ec/Pz8sHv3bri4uGDz5s0P9Azp6enIz8/X/k1ECAkJwZEjR/RGCdzd3fHee+/B29sbK1eu\nhEql4pWZkZGBvLw8nWd48skncfjwYTg5OelcO378eGzduhXu7u6IjY01uPFoXV2d9rk1HDt2DPPn\nz4e7u7vOtWvXrsWUKVMgEt2PZzM3Nx/WgU8mYXDtz8NPR0cHTZ06VadGkslkOrUbH91rXPyvlvr6\n66+JiCg4OFgnzdfX1+BafBoUCoV2P4G+egDLly/XSbOxsaHCwsJenz8yMlJP3x//+EdemVKp1CiZ\nS5Ys0ZOp8QCysrK0Hadd052dnWnBggUUHx9PBw8epPz8fGpubu5VF6NnWChwL9y5cwfl5eU65yIi\nIrTx+IawsrLSm7QD3PcS6uvrUVZWpnN+2bJlepN5umNubo6oqCgjc34fzYzBS5cu6ZyfNWsW/P39\ne71/xYoVejWrpnb+z3/+o3NtaGioUTKjo6O1tXZ3pk6dqjeuz3Ecqqqq8K9//Qvx8fFYsmQJgoKC\n4O/vj/DwcKSkpLD9Bh8QZgB6oba2Vrt5pqYQTJ061ah7p02bptcjLxKJ0NDQoLch57Rp04yS+dhj\njxl0dfk610QiETo6OtDY2KhzfsqUKUbpmzhxol4TQSQSQS6Xo7a2Vuf8448/bpRMHx8fWFtb8z7D\n6NGj8e6770IsFuuMJGhGUzSHQqHAzZs38c0332DZsmWYNWsWmwj0ADADYATdC5ah9mt3jL2uL9fy\nFZre0vgMQ09yul9nrNy+yOyJX/3qV9i/fz98fX118tD16GoMAODcuXMIDw9HZWWlUXlg3IcZgF5w\ncXGBtbU1gP//4Lt2pvXExYsXtT9WDWq1Gg4ODnox+nl5eUbJzM3N1RnG6wrfObVaDYlEAjs7O728\nGUNRUZFeTa9WqyEWi+Ho6Khz/vz580bJLCkpQXNzc4/DgS+++CJyc3Nx+PBhxMTEIDAwEC4uLjpT\nn7t7B2VlZfj444+NygPjPswA9MKYMWPg4+Ojc27v3r16LnV3mpqasGfPHr3zKpUKjzzyCH72s5/p\nnP/8889RVVXVo8z29nbs2rXLyJzfR2OAurvnp0+fRk5OTq/379ixQ2eMXyMTAAICAvRkZmdn9yhP\nrVZjx44dBr0AlUoFpVIJlUoFa2trhIeHY+fOncjKysKlS5eQnZ2NQ4cOYe3atXByctKTc+rUqT55\nXiMdZgB6QSwWY8GCBdq/OY5DcXEx1qxZo41G6057eztiY2NRXFxs0E1euHChjszy8nKsXLlSG0TU\nHaVSibfeegu5ubkPFAy0aNEirX6O49DW1oaYmBjcvn3b4D3vvfcevv76a4PP8MILL+gsP9bW1oY3\n3nhDr9O0K1u3bsXx48cNPsP69esRHByM4OBgPPHEEwgJCcHNmzdhZmYGZ2dnyGQyLF68GNu3b8e+\nfftgYWGhYwTa29sNDlsyeBiAkYYhT0VFhTbOvevQVGhoKH333XfU2NhIcrmcGhoaKD09nUJDQw3G\nwmsCgaqqqsjT01NPZnBwMKWlpVF9fT3J5XJqamqi06dP07x58/Rk9mUYsKOjQ28XIQDk4+NDe/fu\npaqqKurs7KSWlhbKzc3VDvHxPYdmGLCzs5NXpre3N+3du5fu3bunlZmXl0evvvqqQZmaYcC1a9fq\nxfpv27aN97ucOXNGJ7AIAD3//POm/jkMK5gBMJJ//vOfvNF9HMeRp6cnyWQy8vDw0DnfkwEgIvrq\nq694x7wB0IQJE0gmk5G3t7feNYYMgGYyEJ8BICI6f/48WVtb8+obO3YsyWQy8vX11e40ZOg5uk4G\nys7O1tuqXHOvq6srBQQEkJ+fn86MPj6ZGgOQk5Ojs9MRcH/r8k2bNlFpaSnV19dTTU0NHTt2jCZP\nnqyn94MPPhigX8TwgBkAI1Gr1dotufl+7F2P7gbCkAEgIkpISHhgmX01AET3vQTNbEZj9XX/W+MB\naNi3b5/eRiF9fYauswF/97vf6dyj+b+1tTW5u7uTm5sb7/v19fWlqqoqE/0ChiesD8BIOI7Dli1b\nsG3bNtjY2Bgcowb+30NtZWWl/VsDdeu02rBhA3bu3AkHB4c+y9Rca+hfPn2vvPIKUlNTMX78eKP0\nicVimJmZ6VzbvZNt+fLl+PLLL42WaWlpqe074Mvz1q1bsWLFCr3zLS0tuHHjBioqKnTuIyL4+Pjg\ns88+0wtBZvQMMwB9gOM4rFu3DqdOncKrr76qHQbT/Ag1P8pHH30Uq1evxp49e+Dk5AQ7OzvY2dnB\n1taWd0WfmJgYZGZmIjo6GmPGjOGV6erqitjYWHzxxRdwdXXVkalZtUcsFsPW1labZmdnx7tEdnh4\nOM6cOYPf//73GDduHK8+BwcHLF26FN988w38/Py0cqVSqdYIdWXhwoU4e/Ys1q1bZ1Cmo6MjIiIi\ncPDgQbi7u2vzKJVKdSIrJRIJkpOTcfDgQTz99NMYPXo07/cQiUTw8PDAunXrcPr0aQQFBfX2CRnd\nYBuD9IPbt2+joKAA5eXlaGpqgqOjI7y8vBAQEAAnJyeo1WrcuXNH5x4HBwfeAqTh7t272mXG6uvr\nYW9vD29vbwQEBMDZ2RkA9GpAOzs72NjYoK2tTW/M3tnZucdlvWpra5Gfn4/r16+juroajzzyiHYJ\nMk1Brqys1PasExGkUmmPYcsamVevXkVdXZ12mTGZTAY3NzcA90Osu65ibEgmEeHKlSsoKirCnTt3\n0NTUBIlEgjFjxsDb2xuTJk2Cra2twbwweoYZAAZjBMOaAAzGCOa/fiVHV93u9lgAAAAASUVORK5C\nYII=\n",
                "text/plain": "<PIL.Image.Image image mode=RGBA size=256x80 at 0x7F5C96DBB9E8>"
              }
            ],
            "_view_module": "@jupyter-widgets/output",
            "_model_module_version": "1.0.0",
            "_view_count": null,
            "_view_module_version": "1.0.0",
            "layout": "IPY_MODEL_05c7c432333c4f66a8b5ad452708cd53",
            "_model_module": "@jupyter-widgets/output"
          }
        },
        "c2b32e7956764debb1bb35b37c94543a": {
          "model_module": "@jupyter-widgets/controls",
          "model_name": "DropdownModel",
          "state": {
            "_options_labels": [
              "<Keep>",
              "<Delete>",
              "Adidas",
              "New Balance",
              "Nike",
              "Puma",
              "Reebok",
              "Vans"
            ],
            "_view_name": "DropdownView",
            "style": "IPY_MODEL_5d1d25ecbd9447f0bfbda4c76f2ffbdd",
            "_dom_classes": [],
            "description": "",
            "_model_name": "DropdownModel",
            "index": 0,
            "_view_module": "@jupyter-widgets/controls",
            "_model_module_version": "1.5.0",
            "_view_count": null,
            "disabled": false,
            "_view_module_version": "1.5.0",
            "description_tooltip": null,
            "_model_module": "@jupyter-widgets/controls",
            "layout": "IPY_MODEL_c6551aab3d78436d898cb8f331775c53"
          }
        },
        "3fa3cd391e7f49908412569e1239c03c": {
          "model_module": "@jupyter-widgets/base",
          "model_name": "LayoutModel",
          "state": {
            "_view_name": "LayoutView",
            "grid_template_rows": null,
            "right": null,
            "justify_content": null,
            "_view_module": "@jupyter-widgets/base",
            "overflow": null,
            "_model_module_version": "1.2.0",
            "_view_count": null,
            "flex_flow": null,
            "width": null,
            "min_width": null,
            "border": null,
            "align_items": null,
            "bottom": null,
            "_model_module": "@jupyter-widgets/base",
            "top": null,
            "grid_column": null,
            "overflow_y": null,
            "overflow_x": null,
            "grid_auto_flow": null,
            "grid_area": null,
            "grid_template_columns": null,
            "flex": "0 0 auto",
            "_model_name": "LayoutModel",
            "justify_items": null,
            "grid_row": null,
            "max_height": null,
            "align_content": null,
            "visibility": null,
            "align_self": null,
            "height": null,
            "min_height": null,
            "padding": null,
            "grid_auto_rows": null,
            "grid_gap": null,
            "max_width": null,
            "order": null,
            "_view_module_version": "1.2.0",
            "grid_template_areas": null,
            "object_position": null,
            "object_fit": null,
            "grid_auto_columns": null,
            "margin": null,
            "display": null,
            "left": null
          }
        },
        "9ba191ed00214c1a87293a98ace11853": {
          "model_module": "@jupyter-widgets/output",
          "model_name": "OutputModel",
          "state": {
            "_view_name": "OutputView",
            "msg_id": "",
            "_dom_classes": [],
            "_model_name": "OutputModel",
            "outputs": [
              {
                "output_type": "display_data",
                "metadata": {
                  "tags": []
                },
                "image/png": "iVBORw0KGgoAAAANSUhEUgAAAFUAAACACAYAAAB6BiXGAAAnxElEQVR4nO2deXRUVZ7HP7XvWapS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\nOgyQD0WIywguIBIy9L+ununsRkm2ogAAAABJRU5ErkJggg==\n",
                "text/plain": "<PIL.Image.Image image mode=RGBA size=85x128 at 0x7F5C96DBF470>"
              }
            ],
            "_view_module": "@jupyter-widgets/output",
            "_model_module_version": "1.0.0",
            "_view_count": null,
            "_view_module_version": "1.0.0",
            "layout": "IPY_MODEL_3eb034a7f4024feba7777acdb665da6d",
            "_model_module": "@jupyter-widgets/output"
          }
        },
        "f1ec2c898b6a4d41980bfbb5c7fe74c1": {
          "model_module": "@jupyter-widgets/controls",
          "model_name": "DropdownModel",
          "state": {
            "_options_labels": [
              "<Keep>",
              "<Delete>",
              "Adidas",
              "New Balance",
              "Nike",
              "Puma",
              "Reebok",
              "Vans"
            ],
            "_view_name": "DropdownView",
            "style": "IPY_MODEL_b37b8b989cab4df09fcde64c59195e53",
            "_dom_classes": [],
            "description": "",
            "_model_name": "DropdownModel",
            "index": 0,
            "_view_module": "@jupyter-widgets/controls",
            "_model_module_version": "1.5.0",
            "_view_count": null,
            "disabled": false,
            "_view_module_version": "1.5.0",
            "description_tooltip": null,
            "_model_module": "@jupyter-widgets/controls",
            "layout": "IPY_MODEL_007b160094d8467e986844ae58eee302"
          }
        },
        "010f679ad9834f7da6f0947dd0e8dd2c": {
          "model_module": "@jupyter-widgets/base",
          "model_name": "LayoutModel",
          "state": {
            "_view_name": "LayoutView",
            "grid_template_rows": null,
            "right": null,
            "justify_content": null,
            "_view_module": "@jupyter-widgets/base",
            "overflow": null,
            "_model_module_version": "1.2.0",
            "_view_count": null,
            "flex_flow": null,
            "width": null,
            "min_width": null,
            "border": null,
            "align_items": null,
            "bottom": null,
            "_model_module": "@jupyter-widgets/base",
            "top": null,
            "grid_column": null,
            "overflow_y": null,
            "overflow_x": null,
            "grid_auto_flow": null,
            "grid_area": null,
            "grid_template_columns": null,
            "flex": "0 0 auto",
            "_model_name": "LayoutModel",
            "justify_items": null,
            "grid_row": null,
            "max_height": null,
            "align_content": null,
            "visibility": null,
            "align_self": null,
            "height": null,
            "min_height": null,
            "padding": null,
            "grid_auto_rows": null,
            "grid_gap": null,
            "max_width": null,
            "order": null,
            "_view_module_version": "1.2.0",
            "grid_template_areas": null,
            "object_position": null,
            "object_fit": null,
            "grid_auto_columns": null,
            "margin": null,
            "display": null,
            "left": null
          }
        },
        "483715f998014dc9a60218afe7fc0dab": {
          "model_module": "@jupyter-widgets/output",
          "model_name": "OutputModel",
          "state": {
            "_view_name": "OutputView",
            "msg_id": "",
            "_dom_classes": [],
            "_model_name": "OutputModel",
            "outputs": [
              {
                "output_type": "display_data",
                "metadata": {
                  "tags": []
                },
                "image/png": "iVBORw0KGgoAAAANSUhEUgAAAFAAAABQCAYAAACOEfKtAAAUAElEQVR4nO1cWW8b59V+OPvOGYpa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\n",
                "text/plain": "<PIL.Image.Image image mode=RGBA size=80x80 at 0x7F5C96DBB710>"
              }
            ],
            "_view_module": "@jupyter-widgets/output",
            "_model_module_version": "1.0.0",
            "_view_count": null,
            "_view_module_version": "1.0.0",
            "layout": "IPY_MODEL_3942c44f740e4825ac749bea04f17b26",
            "_model_module": "@jupyter-widgets/output"
          }
        },
        "19ee1f4fdb424b63b2a1f41f75b95681": {
          "model_module": "@jupyter-widgets/controls",
          "model_name": "DropdownModel",
          "state": {
            "_options_labels": [
              "<Keep>",
              "<Delete>",
              "Adidas",
              "New Balance",
              "Nike",
              "Puma",
              "Reebok",
              "Vans"
            ],
            "_view_name": "DropdownView",
            "style": "IPY_MODEL_876a11ecd51641b2b979a78ef29ff6b6",
            "_dom_classes": [],
            "description": "",
            "_model_name": "DropdownModel",
            "index": 0,
            "_view_module": "@jupyter-widgets/controls",
            "_model_module_version": "1.5.0",
            "_view_count": null,
            "disabled": false,
            "_view_module_version": "1.5.0",
            "description_tooltip": null,
            "_model_module": "@jupyter-widgets/controls",
            "layout": "IPY_MODEL_7f80edea3e2649c896f6a8d0f0f37758"
          }
        },
        "73e7036a088141a3aa54dccf19a2aece": {
          "model_module": "@jupyter-widgets/base",
          "model_name": "LayoutModel",
          "state": {
            "_view_name": "LayoutView",
            "grid_template_rows": null,
            "right": null,
            "justify_content": null,
            "_view_module": "@jupyter-widgets/base",
            "overflow": null,
            "_model_module_version": "1.2.0",
            "_view_count": null,
            "flex_flow": null,
            "width": null,
            "min_width": null,
            "border": null,
            "align_items": null,
            "bottom": null,
            "_model_module": "@jupyter-widgets/base",
            "top": null,
            "grid_column": null,
            "overflow_y": null,
            "overflow_x": null,
            "grid_auto_flow": null,
            "grid_area": null,
            "grid_template_columns": null,
            "flex": "0 0 auto",
            "_model_name": "LayoutModel",
            "justify_items": null,
            "grid_row": null,
            "max_height": null,
            "align_content": null,
            "visibility": null,
            "align_self": null,
            "height": null,
            "min_height": null,
            "padding": null,
            "grid_auto_rows": null,
            "grid_gap": null,
            "max_width": null,
            "order": null,
            "_view_module_version": "1.2.0",
            "grid_template_areas": null,
            "object_position": null,
            "object_fit": null,
            "grid_auto_columns": null,
            "margin": null,
            "display": null,
            "left": null
          }
        },
        "bff54f8bd43f4cafa664aca770185448": {
          "model_module": "@jupyter-widgets/output",
          "model_name": "OutputModel",
          "state": {
            "_view_name": "OutputView",
            "msg_id": "",
            "_dom_classes": [],
            "_model_name": "OutputModel",
            "outputs": [
              {
                "output_type": "display_data",
                "metadata": {
                  "tags": []
                },
                "image/png": "iVBORw0KGgoAAAANSUhEUgAAAL0AAACACAYAAABeM2hDAAABbklEQVR4nO3SMQEAIAzAsIF/z+AC\njiYKenTNzBkI2b8D4DXTk2N6ckxPjunJMT05pifH9OSYnhzTk2N6ckxPjunJMT05pifH9OSYnhzT\nk2N6ckxPjunJMT05pifH9OSYnhzTk2N6ckxPjunJMT05pifH9OSYnhzTk2N6ckxPjunJMT05pifH\n9OSYnhzTk2N6ckxPjunJMT05pifH9OSYnhzTk2N6ckxPjunJMT05pifH9OSYnhzTk2N6ckxPjunJ\nMT05pifH9OSYnhzTk2N6ckxPjunJMT05pifH9OSYnhzTk2N6ckxPjunJMT05pifH9OSYnhzTk2N6\nckxPjunJMT05pifH9OSYnhzTk2N6ckxPjunJMT05pifH9OSYnhzTk2N6ckxPjunJMT05pifH9OSY\nnhzTk2N6ckxPjunJMT05pifH9OSYnhzTk2N6ckxPjunJMT05pifH9OSYnhzTk2N6ckxPjunJMT05\npifnAt09Af9RiyeTAAAAAElFTkSuQmCC\n",
                "text/plain": "<PIL.Image.Image image mode=RGBA size=189x128 at 0x7F5C96DBB748>"
              }
            ],
            "_view_module": "@jupyter-widgets/output",
            "_model_module_version": "1.0.0",
            "_view_count": null,
            "_view_module_version": "1.0.0",
            "layout": "IPY_MODEL_b8da562cc6c040958f21ce68c1c64eef",
            "_model_module": "@jupyter-widgets/output"
          }
        },
        "62e330110f654fc69f172319fa30cdd1": {
          "model_module": "@jupyter-widgets/controls",
          "model_name": "DropdownModel",
          "state": {
            "_options_labels": [
              "<Keep>",
              "<Delete>",
              "Adidas",
              "New Balance",
              "Nike",
              "Puma",
              "Reebok",
              "Vans"
            ],
            "_view_name": "DropdownView",
            "style": "IPY_MODEL_77260aa59170484484cde1f57e53ea17",
            "_dom_classes": [],
            "description": "",
            "_model_name": "DropdownModel",
            "index": 0,
            "_view_module": "@jupyter-widgets/controls",
            "_model_module_version": "1.5.0",
            "_view_count": null,
            "disabled": false,
            "_view_module_version": "1.5.0",
            "description_tooltip": null,
            "_model_module": "@jupyter-widgets/controls",
            "layout": "IPY_MODEL_e72bdaf061cc46c9972dfbbac2656557"
          }
        },
        "48ce4b07264140b481ffb080c19345a7": {
          "model_module": "@jupyter-widgets/base",
          "model_name": "LayoutModel",
          "state": {
            "_view_name": "LayoutView",
            "grid_template_rows": null,
            "right": null,
            "justify_content": null,
            "_view_module": "@jupyter-widgets/base",
            "overflow": null,
            "_model_module_version": "1.2.0",
            "_view_count": null,
            "flex_flow": null,
            "width": null,
            "min_width": null,
            "border": null,
            "align_items": null,
            "bottom": null,
            "_model_module": "@jupyter-widgets/base",
            "top": null,
            "grid_column": null,
            "overflow_y": null,
            "overflow_x": null,
            "grid_auto_flow": null,
            "grid_area": null,
            "grid_template_columns": null,
            "flex": "0 0 auto",
            "_model_name": "LayoutModel",
            "justify_items": null,
            "grid_row": null,
            "max_height": null,
            "align_content": null,
            "visibility": null,
            "align_self": null,
            "height": null,
            "min_height": null,
            "padding": null,
            "grid_auto_rows": null,
            "grid_gap": null,
            "max_width": null,
            "order": null,
            "_view_module_version": "1.2.0",
            "grid_template_areas": null,
            "object_position": null,
            "object_fit": null,
            "grid_auto_columns": null,
            "margin": null,
            "display": null,
            "left": null
          }
        },
        "b114893467d545038f772b2eaad63f52": {
          "model_module": "@jupyter-widgets/output",
          "model_name": "OutputModel",
          "state": {
            "_view_name": "OutputView",
            "msg_id": "",
            "_dom_classes": [],
            "_model_name": "OutputModel",
            "outputs": [
              {
                "output_type": "display_data",
                "metadata": {
                  "tags": []
                },
                "image/png": "iVBORw0KGgoAAAANSUhEUgAAAL0AAACACAYAAABeM2hDAAABbklEQVR4nO3SMQEAIAzAsIF/z+AC\njiYKenTNzBkI2b8D4DXTk2N6ckxPjunJMT05pifH9OSYnhzTk2N6ckxPjunJMT05pifH9OSYnhzT\nk2N6ckxPjunJMT05pifH9OSYnhzTk2N6ckxPjunJMT05pifH9OSYnhzTk2N6ckxPjunJMT05pifH\n9OSYnhzTk2N6ckxPjunJMT05pifH9OSYnhzTk2N6ckxPjunJMT05pifH9OSYnhzTk2N6ckxPjunJ\nMT05pifH9OSYnhzTk2N6ckxPjunJMT05pifH9OSYnhzTk2N6ckxPjunJMT05pifH9OSYnhzTk2N6\nckxPjunJMT05pifH9OSYnhzTk2N6ckxPjunJMT05pifH9OSYnhzTk2N6ckxPjunJMT05pifH9OSY\nnhzTk2N6ckxPjunJMT05pifH9OSYnhzTk2N6ckxPjunJMT05pifH9OSYnhzTk2N6ckxPjunJMT05\npifnAt09Af9RiyeTAAAAAElFTkSuQmCC\n",
                "text/plain": "<PIL.Image.Image image mode=RGBA size=189x128 at 0x7F5C96DBB978>"
              }
            ],
            "_view_module": "@jupyter-widgets/output",
            "_model_module_version": "1.0.0",
            "_view_count": null,
            "_view_module_version": "1.0.0",
            "layout": "IPY_MODEL_005532c37a944106a5cf1710ae873007",
            "_model_module": "@jupyter-widgets/output"
          }
        },
        "4837f41517a74089b2c3c6a4ae1ca638": {
          "model_module": "@jupyter-widgets/controls",
          "model_name": "DropdownModel",
          "state": {
            "_options_labels": [
              "<Keep>",
              "<Delete>",
              "Adidas",
              "New Balance",
              "Nike",
              "Puma",
              "Reebok",
              "Vans"
            ],
            "_view_name": "DropdownView",
            "style": "IPY_MODEL_0896f7d2a20d469d94a1783eb7f07411",
            "_dom_classes": [],
            "description": "",
            "_model_name": "DropdownModel",
            "index": 0,
            "_view_module": "@jupyter-widgets/controls",
            "_model_module_version": "1.5.0",
            "_view_count": null,
            "disabled": false,
            "_view_module_version": "1.5.0",
            "description_tooltip": null,
            "_model_module": "@jupyter-widgets/controls",
            "layout": "IPY_MODEL_acbd065f50724e2caecb8294171c7ab6"
          }
        },
        "5b76e59a32f74897a8dba6ffe1e872da": {
          "model_module": "@jupyter-widgets/base",
          "model_name": "LayoutModel",
          "state": {
            "_view_name": "LayoutView",
            "grid_template_rows": null,
            "right": null,
            "justify_content": null,
            "_view_module": "@jupyter-widgets/base",
            "overflow": null,
            "_model_module_version": "1.2.0",
            "_view_count": null,
            "flex_flow": null,
            "width": null,
            "min_width": null,
            "border": null,
            "align_items": null,
            "bottom": null,
            "_model_module": "@jupyter-widgets/base",
            "top": null,
            "grid_column": null,
            "overflow_y": null,
            "overflow_x": null,
            "grid_auto_flow": null,
            "grid_area": null,
            "grid_template_columns": null,
            "flex": "0 0 auto",
            "_model_name": "LayoutModel",
            "justify_items": null,
            "grid_row": null,
            "max_height": null,
            "align_content": null,
            "visibility": null,
            "align_self": null,
            "height": null,
            "min_height": null,
            "padding": null,
            "grid_auto_rows": null,
            "grid_gap": null,
            "max_width": null,
            "order": null,
            "_view_module_version": "1.2.0",
            "grid_template_areas": null,
            "object_position": null,
            "object_fit": null,
            "grid_auto_columns": null,
            "margin": null,
            "display": null,
            "left": null
          }
        },
        "70e909d601d9479a91be1b020a67ffe8": {
          "model_module": "@jupyter-widgets/output",
          "model_name": "OutputModel",
          "state": {
            "_view_name": "OutputView",
            "msg_id": "",
            "_dom_classes": [],
            "_model_name": "OutputModel",
            "outputs": [
              {
                "output_type": "display_data",
                "metadata": {
                  "tags": []
                },
                "image/png": "iVBORw0KGgoAAAANSUhEUgAAAIQAAACACAYAAADK1cGxAAABMUlEQVR4nO3SoQHAIBDAwIf9d24N\nJhOAuJsgImtmvoFj3w7gLYYgDEEYgjAEYQjCEIQhCEMQhiAMQRiCMARhCMIQhCEIQxCGIAxBGIIw\nBGEIwhCEIQhDEIYgDEEYgjAEYQjCEIQhCEMQhiAMQRiCMARhCMIQhCEIQxCGIAxBGIIwBGEIwhCE\nIQhDEIYgDEEYgjAEYQjCEIQhCEMQhiAMQRiCMARhCMIQhCEIQxCGIAxBGIIwBGEIwhCEIQhDEIYg\nDEEYgjAEYQjCEIQhCEMQhiAMQRiCMARhCMIQhCEIQxCGIAxBGIIwBGEIwhCEIQhDEIYgDEEYgjAE\nYQjCEIQhCEMQhiAMQRiCMARhCMIQhCEIQxCGIAxBGIIwBGEIwhCEIQhDEIYgDEEYgjAEYQjCEMQP\n0zgB/5IHgooAAAAASUVORK5CYII=\n",
                "text/plain": "<PIL.Image.Image image mode=RGBA size=132x128 at 0x7F5C96DBFA20>"
              }
            ],
            "_view_module": "@jupyter-widgets/output",
            "_model_module_version": "1.0.0",
            "_view_count": null,
            "_view_module_version": "1.0.0",
            "layout": "IPY_MODEL_2d2759828baa445798226d4867b67f1e",
            "_model_module": "@jupyter-widgets/output"
          }
        },
        "0c0e8a4e152d4906a5d5f1160124b37f": {
          "model_module": "@jupyter-widgets/controls",
          "model_name": "DropdownModel",
          "state": {
            "_options_labels": [
              "<Keep>",
              "<Delete>",
              "Adidas",
              "New Balance",
              "Nike",
              "Puma",
              "Reebok",
              "Vans"
            ],
            "_view_name": "DropdownView",
            "style": "IPY_MODEL_4e19f77c7bb644ad85e04328e2b10888",
            "_dom_classes": [],
            "description": "",
            "_model_name": "DropdownModel",
            "index": 0,
            "_view_module": "@jupyter-widgets/controls",
            "_model_module_version": "1.5.0",
            "_view_count": null,
            "disabled": false,
            "_view_module_version": "1.5.0",
            "description_tooltip": null,
            "_model_module": "@jupyter-widgets/controls",
            "layout": "IPY_MODEL_cba0f60a21ff4faab9999e58696b9b98"
          }
        },
        "afa7162a7bff420d92f698ab2e97d405": {
          "model_module": "@jupyter-widgets/base",
          "model_name": "LayoutModel",
          "state": {
            "_view_name": "LayoutView",
            "grid_template_rows": null,
            "right": null,
            "justify_content": null,
            "_view_module": "@jupyter-widgets/base",
            "overflow": null,
            "_model_module_version": "1.2.0",
            "_view_count": null,
            "flex_flow": null,
            "width": null,
            "min_width": null,
            "border": null,
            "align_items": null,
            "bottom": null,
            "_model_module": "@jupyter-widgets/base",
            "top": null,
            "grid_column": null,
            "overflow_y": null,
            "overflow_x": null,
            "grid_auto_flow": null,
            "grid_area": null,
            "grid_template_columns": null,
            "flex": "0 0 auto",
            "_model_name": "LayoutModel",
            "justify_items": null,
            "grid_row": null,
            "max_height": null,
            "align_content": null,
            "visibility": null,
            "align_self": null,
            "height": null,
            "min_height": null,
            "padding": null,
            "grid_auto_rows": null,
            "grid_gap": null,
            "max_width": null,
            "order": null,
            "_view_module_version": "1.2.0",
            "grid_template_areas": null,
            "object_position": null,
            "object_fit": null,
            "grid_auto_columns": null,
            "margin": null,
            "display": null,
            "left": null
          }
        },
        "0b41f5e7bd874a63b2075902ccba8ee5": {
          "model_module": "@jupyter-widgets/output",
          "model_name": "OutputModel",
          "state": {
            "_view_name": "OutputView",
            "msg_id": "",
            "_dom_classes": [],
            "_model_name": "OutputModel",
            "outputs": [
              {
                "output_type": "display_data",
                "metadata": {
                  "tags": []
                },
                "image/png": "iVBORw0KGgoAAAANSUhEUgAAAL0AAACACAYAAABeM2hDAAABbklEQVR4nO3SMQEAIAzAsIF/z+AC\njiYKenTNzBkI2b8D4DXTk2N6ckxPjunJMT05pifH9OSYnhzTk2N6ckxPjunJMT05pifH9OSYnhzT\nk2N6ckxPjunJMT05pifH9OSYnhzTk2N6ckxPjunJMT05pifH9OSYnhzTk2N6ckxPjunJMT05pifH\n9OSYnhzTk2N6ckxPjunJMT05pifH9OSYnhzTk2N6ckxPjunJMT05pifH9OSYnhzTk2N6ckxPjunJ\nMT05pifH9OSYnhzTk2N6ckxPjunJMT05pifH9OSYnhzTk2N6ckxPjunJMT05pifH9OSYnhzTk2N6\nckxPjunJMT05pifH9OSYnhzTk2N6ckxPjunJMT05pifH9OSYnhzTk2N6ckxPjunJMT05pifH9OSY\nnhzTk2N6ckxPjunJMT05pifH9OSYnhzTk2N6ckxPjunJMT05pifH9OSYnhzTk2N6ckxPjunJMT05\npifnAt09Af9RiyeTAAAAAElFTkSuQmCC\n",
                "text/plain": "<PIL.Image.Image image mode=RGBA size=189x128 at 0x7F5C96DBF7F0>"
              }
            ],
            "_view_module": "@jupyter-widgets/output",
            "_model_module_version": "1.0.0",
            "_view_count": null,
            "_view_module_version": "1.0.0",
            "layout": "IPY_MODEL_0522144327b947f0bce6c0f6bbc5b128",
            "_model_module": "@jupyter-widgets/output"
          }
        },
        "097af51d2cb84ac5ba1387c3bbb05fe4": {
          "model_module": "@jupyter-widgets/controls",
          "model_name": "DropdownModel",
          "state": {
            "_options_labels": [
              "<Keep>",
              "<Delete>",
              "Adidas",
              "New Balance",
              "Nike",
              "Puma",
              "Reebok",
              "Vans"
            ],
            "_view_name": "DropdownView",
            "style": "IPY_MODEL_c8f9138f94ea49249237c503d2b88e0f",
            "_dom_classes": [],
            "description": "",
            "_model_name": "DropdownModel",
            "index": 0,
            "_view_module": "@jupyter-widgets/controls",
            "_model_module_version": "1.5.0",
            "_view_count": null,
            "disabled": false,
            "_view_module_version": "1.5.0",
            "description_tooltip": null,
            "_model_module": "@jupyter-widgets/controls",
            "layout": "IPY_MODEL_029057c54575437cbe6c418d80496d0a"
          }
        },
        "df97994476424fe38e5d92c07e7b6a80": {
          "model_module": "@jupyter-widgets/base",
          "model_name": "LayoutModel",
          "state": {
            "_view_name": "LayoutView",
            "grid_template_rows": null,
            "right": null,
            "justify_content": null,
            "_view_module": "@jupyter-widgets/base",
            "overflow": null,
            "_model_module_version": "1.2.0",
            "_view_count": null,
            "flex_flow": null,
            "width": null,
            "min_width": null,
            "border": null,
            "align_items": null,
            "bottom": null,
            "_model_module": "@jupyter-widgets/base",
            "top": null,
            "grid_column": null,
            "overflow_y": null,
            "overflow_x": null,
            "grid_auto_flow": null,
            "grid_area": null,
            "grid_template_columns": null,
            "flex": "0 0 auto",
            "_model_name": "LayoutModel",
            "justify_items": null,
            "grid_row": null,
            "max_height": null,
            "align_content": null,
            "visibility": null,
            "align_self": null,
            "height": null,
            "min_height": null,
            "padding": null,
            "grid_auto_rows": null,
            "grid_gap": null,
            "max_width": null,
            "order": null,
            "_view_module_version": "1.2.0",
            "grid_template_areas": null,
            "object_position": null,
            "object_fit": null,
            "grid_auto_columns": null,
            "margin": null,
            "display": null,
            "left": null
          }
        },
        "478638e3c99b4d22be86c77cc8a4d67c": {
          "model_module": "@jupyter-widgets/output",
          "model_name": "OutputModel",
          "state": {
            "_view_name": "OutputView",
            "msg_id": "",
            "_dom_classes": [],
            "_model_name": "OutputModel",
            "outputs": [
              {
                "output_type": "display_data",
                "metadata": {
                  "tags": []
                },
                "image/png": "iVBORw0KGgoAAAANSUhEUgAAAIAAAACACAYAAADDPmHLAAABTUlEQVR4nO3SMQEAIAzAsIF/zyBj\nRxMFPXpm5g1ZdzuAXQaIM0CcAeIMEGeAOAPEGSDOAHEGiDNAnAHiDBBngDgDxBkgzgBxBogzQJwB\n4gwQZ4A4A8QZIM4AcQaIM0CcAeIMEGeAOAPEGSDOAHEGiDNAnAHiDBBngDgDxBkgzgBxBogzQJwB\n4gwQZ4A4A8QZIM4AcQaIM0CcAeIMEGeAOAPEGSDOAHEGiDNAnAHiDBBngDgDxBkgzgBxBogzQJwB\n4gwQZ4A4A8QZIM4AcQaIM0CcAeIMEGeAOAPEGSDOAHEGiDNAnAHiDBBngDgDxBkgzgBxBogzQJwB\n4gwQZ4A4A8QZIM4AcQaIM0CcAeIMEGeAOAPEGSDOAHEGiDNAnAHiDBBngDgDxBkgzgBxBogzQJwB\n4gwQZ4A4A8QZIM4AcQaIM0CcAeIMEGeAOAPEfdKEAf8FXZHzAAAAAElFTkSuQmCC\n",
                "text/plain": "<PIL.Image.Image image mode=RGBA size=128x128 at 0x7F5C96DBF0F0>"
              }
            ],
            "_view_module": "@jupyter-widgets/output",
            "_model_module_version": "1.0.0",
            "_view_count": null,
            "_view_module_version": "1.0.0",
            "layout": "IPY_MODEL_440fb4ee6d124684a8920f25aa5b2946",
            "_model_module": "@jupyter-widgets/output"
          }
        },
        "588a5642b1a049e184f361e1ef6a9966": {
          "model_module": "@jupyter-widgets/controls",
          "model_name": "DropdownModel",
          "state": {
            "_options_labels": [
              "<Keep>",
              "<Delete>",
              "Adidas",
              "New Balance",
              "Nike",
              "Puma",
              "Reebok",
              "Vans"
            ],
            "_view_name": "DropdownView",
            "style": "IPY_MODEL_8196ade67ef94d22b14016f16e0ac7cd",
            "_dom_classes": [],
            "description": "",
            "_model_name": "DropdownModel",
            "index": 0,
            "_view_module": "@jupyter-widgets/controls",
            "_model_module_version": "1.5.0",
            "_view_count": null,
            "disabled": false,
            "_view_module_version": "1.5.0",
            "description_tooltip": null,
            "_model_module": "@jupyter-widgets/controls",
            "layout": "IPY_MODEL_1bfd554e7fd2452681f29283718f1395"
          }
        },
        "a0fdba62c53b437a8f5bc3415bb32351": {
          "model_module": "@jupyter-widgets/base",
          "model_name": "LayoutModel",
          "state": {
            "_view_name": "LayoutView",
            "grid_template_rows": null,
            "right": null,
            "justify_content": null,
            "_view_module": "@jupyter-widgets/base",
            "overflow": null,
            "_model_module_version": "1.2.0",
            "_view_count": null,
            "flex_flow": null,
            "width": null,
            "min_width": null,
            "border": null,
            "align_items": null,
            "bottom": null,
            "_model_module": "@jupyter-widgets/base",
            "top": null,
            "grid_column": null,
            "overflow_y": null,
            "overflow_x": null,
            "grid_auto_flow": null,
            "grid_area": null,
            "grid_template_columns": null,
            "flex": "0 0 auto",
            "_model_name": "LayoutModel",
            "justify_items": null,
            "grid_row": null,
            "max_height": null,
            "align_content": null,
            "visibility": null,
            "align_self": null,
            "height": null,
            "min_height": null,
            "padding": null,
            "grid_auto_rows": null,
            "grid_gap": null,
            "max_width": null,
            "order": null,
            "_view_module_version": "1.2.0",
            "grid_template_areas": null,
            "object_position": null,
            "object_fit": null,
            "grid_auto_columns": null,
            "margin": null,
            "display": null,
            "left": null
          }
        },
        "9eb6c1a5d85c4b96b92b3e41cf8e1be2": {
          "model_module": "@jupyter-widgets/output",
          "model_name": "OutputModel",
          "state": {
            "_view_name": "OutputView",
            "msg_id": "",
            "_dom_classes": [],
            "_model_name": "OutputModel",
            "outputs": [
              {
                "output_type": "display_data",
                "metadata": {
                  "tags": []
                },
                "image/png": "iVBORw0KGgoAAAANSUhEUgAAAMEAAACACAYAAACyRg1VAAABbUlEQVR4nO3TMQEAIAzAsIF/zyBj\nRxMFfXpm5g2E3e0A2GYC8kxAngnIMwF5JiDPBOSZgDwTkGcC8kxAngnIMwF5JiDPBOSZgDwTkGcC\n8kxAngnIMwF5JiDPBOSZgDwTkGcC8kxAngnIMwF5JiDPBOSZgDwTkGcC8kxAngnIMwF5JiDPBOSZ\ngDwTkGcC8kxAngnIMwF5JiDPBOSZgDwTkGcC8kxAngnIMwF5JiDPBOSZgDwTkGcC8kxAngnIMwF5\nJiDPBOSZgDwTkGcC8kxAngnIMwF5JiDPBOSZgDwTkGcC8kxAngnIMwF5JiDPBOSZgDwTkGcC8kxA\nngnIMwF5JiDPBOSZgDwTkGcC8kxAngnIMwF5JiDPBOSZgDwTkGcC8kxAngnIMwF5JiDPBOSZgDwT\nkGcC8kxAngnIMwF5JiDPBOSZgDwTkGcC8kxAngnIMwF5JiDPBOSZgDwTkGcC8kxAngnIMwF5JiDP\nBOR93fEB/y7YhdsAAAAASUVORK5CYII=\n",
                "text/plain": "<PIL.Image.Image image mode=RGBA size=193x128 at 0x7F5C96DBB3C8>"
              }
            ],
            "_view_module": "@jupyter-widgets/output",
            "_model_module_version": "1.0.0",
            "_view_count": null,
            "_view_module_version": "1.0.0",
            "layout": "IPY_MODEL_45c39fa420a843b995373f419e6ee7d5",
            "_model_module": "@jupyter-widgets/output"
          }
        },
        "ca87b8f3ee89429fbc39d8e5a08785a7": {
          "model_module": "@jupyter-widgets/controls",
          "model_name": "DropdownModel",
          "state": {
            "_options_labels": [
              "<Keep>",
              "<Delete>",
              "Adidas",
              "New Balance",
              "Nike",
              "Puma",
              "Reebok",
              "Vans"
            ],
            "_view_name": "DropdownView",
            "style": "IPY_MODEL_879300aeef114ed39b77c6abeb1bcbb8",
            "_dom_classes": [],
            "description": "",
            "_model_name": "DropdownModel",
            "index": 0,
            "_view_module": "@jupyter-widgets/controls",
            "_model_module_version": "1.5.0",
            "_view_count": null,
            "disabled": false,
            "_view_module_version": "1.5.0",
            "description_tooltip": null,
            "_model_module": "@jupyter-widgets/controls",
            "layout": "IPY_MODEL_dec49502c92b482c914638d5edceb0b0"
          }
        },
        "beb3ed39a7a64747a102f1d0f4658263": {
          "model_module": "@jupyter-widgets/base",
          "model_name": "LayoutModel",
          "state": {
            "_view_name": "LayoutView",
            "grid_template_rows": null,
            "right": null,
            "justify_content": null,
            "_view_module": "@jupyter-widgets/base",
            "overflow": null,
            "_model_module_version": "1.2.0",
            "_view_count": null,
            "flex_flow": null,
            "width": null,
            "min_width": null,
            "border": null,
            "align_items": null,
            "bottom": null,
            "_model_module": "@jupyter-widgets/base",
            "top": null,
            "grid_column": null,
            "overflow_y": null,
            "overflow_x": null,
            "grid_auto_flow": null,
            "grid_area": null,
            "grid_template_columns": null,
            "flex": "0 0 auto",
            "_model_name": "LayoutModel",
            "justify_items": null,
            "grid_row": null,
            "max_height": null,
            "align_content": null,
            "visibility": null,
            "align_self": null,
            "height": null,
            "min_height": null,
            "padding": null,
            "grid_auto_rows": null,
            "grid_gap": null,
            "max_width": null,
            "order": null,
            "_view_module_version": "1.2.0",
            "grid_template_areas": null,
            "object_position": null,
            "object_fit": null,
            "grid_auto_columns": null,
            "margin": null,
            "display": null,
            "left": null
          }
        },
        "e3274684c8634a6e9ef35fa4be1756bb": {
          "model_module": "@jupyter-widgets/output",
          "model_name": "OutputModel",
          "state": {
            "_view_name": "OutputView",
            "msg_id": "",
            "_dom_classes": [],
            "_model_name": "OutputModel",
            "outputs": [
              {
                "output_type": "display_data",
                "metadata": {
                  "tags": []
                },
                "image/png": "iVBORw0KGgoAAAANSUhEUgAAAMEAAACACAYAAACyRg1VAAABbUlEQVR4nO3TMQEAIAzAsIF/zyBj\nRxMFfXpm5g2E3e0A2GYC8kxAngnIMwF5JiDPBOSZgDwTkGcC8kxAngnIMwF5JiDPBOSZgDwTkGcC\n8kxAngnIMwF5JiDPBOSZgDwTkGcC8kxAngnIMwF5JiDPBOSZgDwTkGcC8kxAngnIMwF5JiDPBOSZ\ngDwTkGcC8kxAngnIMwF5JiDPBOSZgDwTkGcC8kxAngnIMwF5JiDPBOSZgDwTkGcC8kxAngnIMwF5\nJiDPBOSZgDwTkGcC8kxAngnIMwF5JiDPBOSZgDwTkGcC8kxAngnIMwF5JiDPBOSZgDwTkGcC8kxA\nngnIMwF5JiDPBOSZgDwTkGcC8kxAngnIMwF5JiDPBOSZgDwTkGcC8kxAngnIMwF5JiDPBOSZgDwT\nkGcC8kxAngnIMwF5JiDPBOSZgDwTkGcC8kxAngnIMwF5JiDPBOSZgDwTkGcC8kxAngnIMwF5JiDP\nBOR93fEB/y7YhdsAAAAASUVORK5CYII=\n",
                "text/plain": "<PIL.Image.Image image mode=RGBA size=193x128 at 0x7F5C96DBF518>"
              }
            ],
            "_view_module": "@jupyter-widgets/output",
            "_model_module_version": "1.0.0",
            "_view_count": null,
            "_view_module_version": "1.0.0",
            "layout": "IPY_MODEL_6373b1125be644988205b8fa94fbb427",
            "_model_module": "@jupyter-widgets/output"
          }
        },
        "4bcd667fdd3d4797b3fe4142aeb21638": {
          "model_module": "@jupyter-widgets/controls",
          "model_name": "DropdownModel",
          "state": {
            "_options_labels": [
              "<Keep>",
              "<Delete>",
              "Adidas",
              "New Balance",
              "Nike",
              "Puma",
              "Reebok",
              "Vans"
            ],
            "_view_name": "DropdownView",
            "style": "IPY_MODEL_7002a416a3ef43b29159d98f525650e5",
            "_dom_classes": [],
            "description": "",
            "_model_name": "DropdownModel",
            "index": 0,
            "_view_module": "@jupyter-widgets/controls",
            "_model_module_version": "1.5.0",
            "_view_count": null,
            "disabled": false,
            "_view_module_version": "1.5.0",
            "description_tooltip": null,
            "_model_module": "@jupyter-widgets/controls",
            "layout": "IPY_MODEL_d0fa13b5ee894601a90d3e7594e4bb60"
          }
        },
        "76eb093a7610460cbe9a7455897dfa8e": {
          "model_module": "@jupyter-widgets/base",
          "model_name": "LayoutModel",
          "state": {
            "_view_name": "LayoutView",
            "grid_template_rows": null,
            "right": null,
            "justify_content": null,
            "_view_module": "@jupyter-widgets/base",
            "overflow": null,
            "_model_module_version": "1.2.0",
            "_view_count": null,
            "flex_flow": null,
            "width": null,
            "min_width": null,
            "border": null,
            "align_items": null,
            "bottom": null,
            "_model_module": "@jupyter-widgets/base",
            "top": null,
            "grid_column": null,
            "overflow_y": null,
            "overflow_x": null,
            "grid_auto_flow": null,
            "grid_area": null,
            "grid_template_columns": null,
            "flex": "0 0 auto",
            "_model_name": "LayoutModel",
            "justify_items": null,
            "grid_row": null,
            "max_height": null,
            "align_content": null,
            "visibility": null,
            "align_self": null,
            "height": null,
            "min_height": null,
            "padding": null,
            "grid_auto_rows": null,
            "grid_gap": null,
            "max_width": null,
            "order": null,
            "_view_module_version": "1.2.0",
            "grid_template_areas": null,
            "object_position": null,
            "object_fit": null,
            "grid_auto_columns": null,
            "margin": null,
            "display": null,
            "left": null
          }
        },
        "d9ee6f918c4644d995915c0e8c18eea7": {
          "model_module": "@jupyter-widgets/output",
          "model_name": "OutputModel",
          "state": {
            "_view_name": "OutputView",
            "msg_id": "",
            "_dom_classes": [],
            "_model_name": "OutputModel",
            "outputs": [
              {
                "output_type": "display_data",
                "metadata": {
                  "tags": []
                },
                "image/png": "iVBORw0KGgoAAAANSUhEUgAAAL0AAACACAYAAABeM2hDAAABbklEQVR4nO3SMQEAIAzAsIF/z+AC\njiYKenTNzBkI2b8D4DXTk2N6ckxPjunJMT05pifH9OSYnhzTk2N6ckxPjunJMT05pifH9OSYnhzT\nk2N6ckxPjunJMT05pifH9OSYnhzTk2N6ckxPjunJMT05pifH9OSYnhzTk2N6ckxPjunJMT05pifH\n9OSYnhzTk2N6ckxPjunJMT05pifH9OSYnhzTk2N6ckxPjunJMT05pifH9OSYnhzTk2N6ckxPjunJ\nMT05pifH9OSYnhzTk2N6ckxPjunJMT05pifH9OSYnhzTk2N6ckxPjunJMT05pifH9OSYnhzTk2N6\nckxPjunJMT05pifH9OSYnhzTk2N6ckxPjunJMT05pifH9OSYnhzTk2N6ckxPjunJMT05pifH9OSY\nnhzTk2N6ckxPjunJMT05pifH9OSYnhzTk2N6ckxPjunJMT05pifH9OSYnhzTk2N6ckxPjunJMT05\npifnAt09Af9RiyeTAAAAAElFTkSuQmCC\n",
                "text/plain": "<PIL.Image.Image image mode=RGBA size=189x128 at 0x7F5C96DBF748>"
              }
            ],
            "_view_module": "@jupyter-widgets/output",
            "_model_module_version": "1.0.0",
            "_view_count": null,
            "_view_module_version": "1.0.0",
            "layout": "IPY_MODEL_4290c9899b5941beb138ca9cfa3c0183",
            "_model_module": "@jupyter-widgets/output"
          }
        },
        "7e24f88d55e04247ab8e78b5881265cd": {
          "model_module": "@jupyter-widgets/controls",
          "model_name": "DropdownModel",
          "state": {
            "_options_labels": [
              "<Keep>",
              "<Delete>",
              "Adidas",
              "New Balance",
              "Nike",
              "Puma",
              "Reebok",
              "Vans"
            ],
            "_view_name": "DropdownView",
            "style": "IPY_MODEL_24c17b4b40744186a2b3757fa37f0cc3",
            "_dom_classes": [],
            "description": "",
            "_model_name": "DropdownModel",
            "index": 0,
            "_view_module": "@jupyter-widgets/controls",
            "_model_module_version": "1.5.0",
            "_view_count": null,
            "disabled": false,
            "_view_module_version": "1.5.0",
            "description_tooltip": null,
            "_model_module": "@jupyter-widgets/controls",
            "layout": "IPY_MODEL_adadc21e467e4faa95e1f1cb0bc4aded"
          }
        },
        "80f5d33616d445d6a901b9b72a413d8b": {
          "model_module": "@jupyter-widgets/base",
          "model_name": "LayoutModel",
          "state": {
            "_view_name": "LayoutView",
            "grid_template_rows": null,
            "right": null,
            "justify_content": null,
            "_view_module": "@jupyter-widgets/base",
            "overflow": null,
            "_model_module_version": "1.2.0",
            "_view_count": null,
            "flex_flow": null,
            "width": null,
            "min_width": null,
            "border": null,
            "align_items": null,
            "bottom": null,
            "_model_module": "@jupyter-widgets/base",
            "top": null,
            "grid_column": null,
            "overflow_y": null,
            "overflow_x": null,
            "grid_auto_flow": null,
            "grid_area": null,
            "grid_template_columns": null,
            "flex": "0 0 auto",
            "_model_name": "LayoutModel",
            "justify_items": null,
            "grid_row": null,
            "max_height": null,
            "align_content": null,
            "visibility": null,
            "align_self": null,
            "height": null,
            "min_height": null,
            "padding": null,
            "grid_auto_rows": null,
            "grid_gap": null,
            "max_width": null,
            "order": null,
            "_view_module_version": "1.2.0",
            "grid_template_areas": null,
            "object_position": null,
            "object_fit": null,
            "grid_auto_columns": null,
            "margin": null,
            "display": null,
            "left": null
          }
        },
        "c40606026880453faa7ac33a226e1911": {
          "model_module": "@jupyter-widgets/output",
          "model_name": "OutputModel",
          "state": {
            "_view_name": "OutputView",
            "msg_id": "",
            "_dom_classes": [],
            "_model_name": "OutputModel",
            "outputs": [
              {
                "output_type": "display_data",
                "metadata": {
                  "tags": []
                },
                "image/png": "iVBORw0KGgoAAAANSUhEUgAAAIAAAACACAYAAADDPmHLAAABTUlEQVR4nO3SMQEAIAzAsIF/zyBj\nRxMFPXpm5g1ZdzuAXQaIM0CcAeIMEGeAOAPEGSDOAHEGiDNAnAHiDBBngDgDxBkgzgBxBogzQJwB\n4gwQZ4A4A8QZIM4AcQaIM0CcAeIMEGeAOAPEGSDOAHEGiDNAnAHiDBBngDgDxBkgzgBxBogzQJwB\n4gwQZ4A4A8QZIM4AcQaIM0CcAeIMEGeAOAPEGSDOAHEGiDNAnAHiDBBngDgDxBkgzgBxBogzQJwB\n4gwQZ4A4A8QZIM4AcQaIM0CcAeIMEGeAOAPEGSDOAHEGiDNAnAHiDBBngDgDxBkgzgBxBogzQJwB\n4gwQZ4A4A8QZIM4AcQaIM0CcAeIMEGeAOAPEGSDOAHEGiDNAnAHiDBBngDgDxBkgzgBxBogzQJwB\n4gwQZ4A4A8QZIM4AcQaIM0CcAeIMEGeAOAPEfdKEAf8FXZHzAAAAAElFTkSuQmCC\n",
                "text/plain": "<PIL.Image.Image image mode=RGBA size=128x128 at 0x7F5C96DBF3C8>"
              }
            ],
            "_view_module": "@jupyter-widgets/output",
            "_model_module_version": "1.0.0",
            "_view_count": null,
            "_view_module_version": "1.0.0",
            "layout": "IPY_MODEL_f8d6dbca3c7b47779c6775edbb7923d6",
            "_model_module": "@jupyter-widgets/output"
          }
        },
        "5e7e6514854e43249008f3756df2dc6f": {
          "model_module": "@jupyter-widgets/controls",
          "model_name": "DropdownModel",
          "state": {
            "_options_labels": [
              "<Keep>",
              "<Delete>",
              "Adidas",
              "New Balance",
              "Nike",
              "Puma",
              "Reebok",
              "Vans"
            ],
            "_view_name": "DropdownView",
            "style": "IPY_MODEL_be810b28dae44aa6859f8cf41854d7d8",
            "_dom_classes": [],
            "description": "",
            "_model_name": "DropdownModel",
            "index": 0,
            "_view_module": "@jupyter-widgets/controls",
            "_model_module_version": "1.5.0",
            "_view_count": null,
            "disabled": false,
            "_view_module_version": "1.5.0",
            "description_tooltip": null,
            "_model_module": "@jupyter-widgets/controls",
            "layout": "IPY_MODEL_e0da66f355394a298ded2169bab894ba"
          }
        },
        "7f6c120205bf4949b142117c16e66b6d": {
          "model_module": "@jupyter-widgets/base",
          "model_name": "LayoutModel",
          "state": {
            "_view_name": "LayoutView",
            "grid_template_rows": null,
            "right": null,
            "justify_content": null,
            "_view_module": "@jupyter-widgets/base",
            "overflow": null,
            "_model_module_version": "1.2.0",
            "_view_count": null,
            "flex_flow": null,
            "width": null,
            "min_width": null,
            "border": null,
            "align_items": null,
            "bottom": null,
            "_model_module": "@jupyter-widgets/base",
            "top": null,
            "grid_column": null,
            "overflow_y": null,
            "overflow_x": null,
            "grid_auto_flow": null,
            "grid_area": null,
            "grid_template_columns": null,
            "flex": "0 0 auto",
            "_model_name": "LayoutModel",
            "justify_items": null,
            "grid_row": null,
            "max_height": null,
            "align_content": null,
            "visibility": null,
            "align_self": null,
            "height": null,
            "min_height": null,
            "padding": null,
            "grid_auto_rows": null,
            "grid_gap": null,
            "max_width": null,
            "order": null,
            "_view_module_version": "1.2.0",
            "grid_template_areas": null,
            "object_position": null,
            "object_fit": null,
            "grid_auto_columns": null,
            "margin": null,
            "display": null,
            "left": null
          }
        },
        "c37011ad05914e18bc7c800a2cc8b753": {
          "model_module": "@jupyter-widgets/output",
          "model_name": "OutputModel",
          "state": {
            "_view_name": "OutputView",
            "msg_id": "",
            "_dom_classes": [],
            "_model_name": "OutputModel",
            "outputs": [
              {
                "output_type": "display_data",
                "metadata": {
                  "tags": []
                },
                "image/png": "iVBORw0KGgoAAAANSUhEUgAAAIAAAACACAYAAADDPmHLAAABTUlEQVR4nO3SMQEAIAzAsIF/zyBj\nRxMFPXpm5g1ZdzuAXQaIM0CcAeIMEGeAOAPEGSDOAHEGiDNAnAHiDBBngDgDxBkgzgBxBogzQJwB\n4gwQZ4A4A8QZIM4AcQaIM0CcAeIMEGeAOAPEGSDOAHEGiDNAnAHiDBBngDgDxBkgzgBxBogzQJwB\n4gwQZ4A4A8QZIM4AcQaIM0CcAeIMEGeAOAPEGSDOAHEGiDNAnAHiDBBngDgDxBkgzgBxBogzQJwB\n4gwQZ4A4A8QZIM4AcQaIM0CcAeIMEGeAOAPEGSDOAHEGiDNAnAHiDBBngDgDxBkgzgBxBogzQJwB\n4gwQZ4A4A8QZIM4AcQaIM0CcAeIMEGeAOAPEGSDOAHEGiDNAnAHiDBBngDgDxBkgzgBxBogzQJwB\n4gwQZ4A4A8QZIM4AcQaIM0CcAeIMEGeAOAPEfdKEAf8FXZHzAAAAAElFTkSuQmCC\n",
                "text/plain": "<PIL.Image.Image image mode=RGBA size=128x128 at 0x7F5C96DBF320>"
              }
            ],
            "_view_module": "@jupyter-widgets/output",
            "_model_module_version": "1.0.0",
            "_view_count": null,
            "_view_module_version": "1.0.0",
            "layout": "IPY_MODEL_06beedd46b79435dafa4ee6a8831f8dc",
            "_model_module": "@jupyter-widgets/output"
          }
        },
        "64fb352428ed430aa9ffce72a3e627c1": {
          "model_module": "@jupyter-widgets/controls",
          "model_name": "DropdownModel",
          "state": {
            "_options_labels": [
              "<Keep>",
              "<Delete>",
              "Adidas",
              "New Balance",
              "Nike",
              "Puma",
              "Reebok",
              "Vans"
            ],
            "_view_name": "DropdownView",
            "style": "IPY_MODEL_21390064463b48c49d5a4a8893bff0fe",
            "_dom_classes": [],
            "description": "",
            "_model_name": "DropdownModel",
            "index": 0,
            "_view_module": "@jupyter-widgets/controls",
            "_model_module_version": "1.5.0",
            "_view_count": null,
            "disabled": false,
            "_view_module_version": "1.5.0",
            "description_tooltip": null,
            "_model_module": "@jupyter-widgets/controls",
            "layout": "IPY_MODEL_c54ad825e44f479faf866cfb56fdd22f"
          }
        },
        "da232d79297848a18f2ca47f536a5a47": {
          "model_module": "@jupyter-widgets/base",
          "model_name": "LayoutModel",
          "state": {
            "_view_name": "LayoutView",
            "grid_template_rows": null,
            "right": null,
            "justify_content": null,
            "_view_module": "@jupyter-widgets/base",
            "overflow": null,
            "_model_module_version": "1.2.0",
            "_view_count": null,
            "flex_flow": null,
            "width": null,
            "min_width": null,
            "border": null,
            "align_items": null,
            "bottom": null,
            "_model_module": "@jupyter-widgets/base",
            "top": null,
            "grid_column": null,
            "overflow_y": null,
            "overflow_x": null,
            "grid_auto_flow": null,
            "grid_area": null,
            "grid_template_columns": null,
            "flex": "0 0 auto",
            "_model_name": "LayoutModel",
            "justify_items": null,
            "grid_row": null,
            "max_height": null,
            "align_content": null,
            "visibility": null,
            "align_self": null,
            "height": null,
            "min_height": null,
            "padding": null,
            "grid_auto_rows": null,
            "grid_gap": null,
            "max_width": null,
            "order": null,
            "_view_module_version": "1.2.0",
            "grid_template_areas": null,
            "object_position": null,
            "object_fit": null,
            "grid_auto_columns": null,
            "margin": null,
            "display": null,
            "left": null
          }
        },
        "eb185fae768941dd9139fc7329dac591": {
          "model_module": "@jupyter-widgets/output",
          "model_name": "OutputModel",
          "state": {
            "_view_name": "OutputView",
            "msg_id": "",
            "_dom_classes": [],
            "_model_name": "OutputModel",
            "outputs": [
              {
                "output_type": "display_data",
                "metadata": {
                  "tags": []
                },
                "image/png": "iVBORw0KGgoAAAANSUhEUgAAAL4AAACACAYAAAC1BNNAAAABbUlEQVR4nO3SMQEAIAzAsIF/zyBj\nRxMFPXpm5g3E3O0A2GB8koxPkvFJMj5JxifJ+CQZnyTjk2R8koxPkvFJMj5JxifJ+CQZnyTjk2R8\nkoxPkvFJMj5JxifJ+CQZnyTjk2R8koxPkvFJMj5JxifJ+CQZnyTjk2R8koxPkvFJMj5JxifJ+CQZ\nnyTjk2R8koxPkvFJMj5JxifJ+CQZnyTjk2R8koxPkvFJMj5JxifJ+CQZnyTjk2R8koxPkvFJMj5J\nxifJ+CQZnyTjk2R8koxPkvFJMj5JxifJ+CQZnyTjk2R8koxPkvFJMj5JxifJ+CQZnyTjk2R8koxP\nkvFJMj5JxifJ+CQZnyTjk2R8koxPkvFJMj5JxifJ+CQZnyTjk2R8koxPkvFJMj5JxifJ+CQZnyTj\nk2R8koxPkvFJMj5JxifJ+CQZnyTjk2R8koxPkvFJMj5JxifJ+CQZnyTjk2R8koxPkvFJMj5JxifJ\n+CR93WoB/3URgAEAAAAASUVORK5CYII=\n",
                "text/plain": "<PIL.Image.Image image mode=RGBA size=190x128 at 0x7F5C96DBF908>"
              }
            ],
            "_view_module": "@jupyter-widgets/output",
            "_model_module_version": "1.0.0",
            "_view_count": null,
            "_view_module_version": "1.0.0",
            "layout": "IPY_MODEL_ec0a243e02e34c3390839b396c1f2735",
            "_model_module": "@jupyter-widgets/output"
          }
        },
        "504f13d60e464df696c80c109b21f3d5": {
          "model_module": "@jupyter-widgets/controls",
          "model_name": "DropdownModel",
          "state": {
            "_options_labels": [
              "<Keep>",
              "<Delete>",
              "Adidas",
              "New Balance",
              "Nike",
              "Puma",
              "Reebok",
              "Vans"
            ],
            "_view_name": "DropdownView",
            "style": "IPY_MODEL_2e993dcec89a46779dcd1e4452f0b962",
            "_dom_classes": [],
            "description": "",
            "_model_name": "DropdownModel",
            "index": 0,
            "_view_module": "@jupyter-widgets/controls",
            "_model_module_version": "1.5.0",
            "_view_count": null,
            "disabled": false,
            "_view_module_version": "1.5.0",
            "description_tooltip": null,
            "_model_module": "@jupyter-widgets/controls",
            "layout": "IPY_MODEL_279306bd413d44a3b28927d26b7b4392"
          }
        },
        "439ac325c6024a0281337464ada79fe8": {
          "model_module": "@jupyter-widgets/base",
          "model_name": "LayoutModel",
          "state": {
            "_view_name": "LayoutView",
            "grid_template_rows": null,
            "right": null,
            "justify_content": null,
            "_view_module": "@jupyter-widgets/base",
            "overflow": null,
            "_model_module_version": "1.2.0",
            "_view_count": null,
            "flex_flow": null,
            "width": null,
            "min_width": null,
            "border": null,
            "align_items": null,
            "bottom": null,
            "_model_module": "@jupyter-widgets/base",
            "top": null,
            "grid_column": null,
            "overflow_y": null,
            "overflow_x": null,
            "grid_auto_flow": null,
            "grid_area": null,
            "grid_template_columns": null,
            "flex": "0 0 auto",
            "_model_name": "LayoutModel",
            "justify_items": null,
            "grid_row": null,
            "max_height": null,
            "align_content": null,
            "visibility": null,
            "align_self": null,
            "height": null,
            "min_height": null,
            "padding": null,
            "grid_auto_rows": null,
            "grid_gap": null,
            "max_width": null,
            "order": null,
            "_view_module_version": "1.2.0",
            "grid_template_areas": null,
            "object_position": null,
            "object_fit": null,
            "grid_auto_columns": null,
            "margin": null,
            "display": null,
            "left": null
          }
        },
        "dd6ec2e1d4f94fa6b15a872c771f167a": {
          "model_module": "@jupyter-widgets/output",
          "model_name": "OutputModel",
          "state": {
            "_view_name": "OutputView",
            "msg_id": "",
            "_dom_classes": [],
            "_model_name": "OutputModel",
            "outputs": [
              {
                "output_type": "display_data",
                "metadata": {
                  "tags": []
                },
                "image/png": "iVBORw0KGgoAAAANSUhEUgAAAMAAAACACAYAAABdhGZrAAABbUlEQVR4nO3TMQEAIAzAsIF/zyBj\nRxMFfXpm5g1E3e0A2GQA0gxAmgFIMwBpBiDNAKQZgDQDkGYA0gxAmgFIMwBpBiDNAKQZgDQDkGYA\n0gxAmgFIMwBpBiDNAKQZgDQDkGYA0gxAmgFIMwBpBiDNAKQZgDQDkGYA0gxAmgFIMwBpBiDNAKQZ\ngDQDkGYA0gxAmgFIMwBpBiDNAKQZgDQDkGYA0gxAmgFIMwBpBiDNAKQZgDQDkGYA0gxAmgFIMwBp\nBiDNAKQZgDQDkGYA0gxAmgFIMwBpBiDNAKQZgDQDkGYA0gxAmgFIMwBpBiDNAKQZgDQDkGYA0gxA\nmgFIMwBpBiDNAKQZgDQDkGYA0gxAmgFIMwBpBiDNAKQZgDQDkGYA0gxAmgFIMwBpBiDNAKQZgDQD\nkGYA0gxAmgFIMwBpBiDNAKQZgDQDkGYA0gxAmgFIMwBpBiDNAKQZgDQDkGYA0gxAmgFIMwBpBiDN\nAKR93cQB/9nc2S0AAAAASUVORK5CYII=\n",
                "text/plain": "<PIL.Image.Image image mode=RGBA size=192x128 at 0x7F5C96DBFBE0>"
              }
            ],
            "_view_module": "@jupyter-widgets/output",
            "_model_module_version": "1.0.0",
            "_view_count": null,
            "_view_module_version": "1.0.0",
            "layout": "IPY_MODEL_3079c822bdbe4a058ee2490742844966",
            "_model_module": "@jupyter-widgets/output"
          }
        },
        "99f3fbdd6c5d4a71b31095834964c692": {
          "model_module": "@jupyter-widgets/controls",
          "model_name": "DropdownModel",
          "state": {
            "_options_labels": [
              "<Keep>",
              "<Delete>",
              "Adidas",
              "New Balance",
              "Nike",
              "Puma",
              "Reebok",
              "Vans"
            ],
            "_view_name": "DropdownView",
            "style": "IPY_MODEL_e722531e13ef4bdbac6039668cee1642",
            "_dom_classes": [],
            "description": "",
            "_model_name": "DropdownModel",
            "index": 0,
            "_view_module": "@jupyter-widgets/controls",
            "_model_module_version": "1.5.0",
            "_view_count": null,
            "disabled": false,
            "_view_module_version": "1.5.0",
            "description_tooltip": null,
            "_model_module": "@jupyter-widgets/controls",
            "layout": "IPY_MODEL_bde7725cb79e4ca4bfc5229462eea233"
          }
        },
        "08fd2b6157744f67935574c054bd0f5f": {
          "model_module": "@jupyter-widgets/base",
          "model_name": "LayoutModel",
          "state": {
            "_view_name": "LayoutView",
            "grid_template_rows": null,
            "right": null,
            "justify_content": null,
            "_view_module": "@jupyter-widgets/base",
            "overflow": null,
            "_model_module_version": "1.2.0",
            "_view_count": null,
            "flex_flow": null,
            "width": null,
            "min_width": null,
            "border": null,
            "align_items": null,
            "bottom": null,
            "_model_module": "@jupyter-widgets/base",
            "top": null,
            "grid_column": null,
            "overflow_y": null,
            "overflow_x": null,
            "grid_auto_flow": null,
            "grid_area": null,
            "grid_template_columns": null,
            "flex": "0 0 auto",
            "_model_name": "LayoutModel",
            "justify_items": null,
            "grid_row": null,
            "max_height": null,
            "align_content": null,
            "visibility": null,
            "align_self": null,
            "height": null,
            "min_height": null,
            "padding": null,
            "grid_auto_rows": null,
            "grid_gap": null,
            "max_width": null,
            "order": null,
            "_view_module_version": "1.2.0",
            "grid_template_areas": null,
            "object_position": null,
            "object_fit": null,
            "grid_auto_columns": null,
            "margin": null,
            "display": null,
            "left": null
          }
        },
        "b06c70fa89c1453485af67fbde9bec90": {
          "model_module": "@jupyter-widgets/output",
          "model_name": "OutputModel",
          "state": {
            "_view_name": "OutputView",
            "msg_id": "",
            "_dom_classes": [],
            "_model_name": "OutputModel",
            "outputs": [
              {
                "output_type": "display_data",
                "metadata": {
                  "tags": []
                },
                "image/png": "iVBORw0KGgoAAAANSUhEUgAAAMEAAACACAYAAACyRg1VAAABbUlEQVR4nO3TMQEAIAzAsIF/zyBj\nRxMFfXpm5g2E3e0A2GYC8kxAngnIMwF5JiDPBOSZgDwTkGcC8kxAngnIMwF5JiDPBOSZgDwTkGcC\n8kxAngnIMwF5JiDPBOSZgDwTkGcC8kxAngnIMwF5JiDPBOSZgDwTkGcC8kxAngnIMwF5JiDPBOSZ\ngDwTkGcC8kxAngnIMwF5JiDPBOSZgDwTkGcC8kxAngnIMwF5JiDPBOSZgDwTkGcC8kxAngnIMwF5\nJiDPBOSZgDwTkGcC8kxAngnIMwF5JiDPBOSZgDwTkGcC8kxAngnIMwF5JiDPBOSZgDwTkGcC8kxA\nngnIMwF5JiDPBOSZgDwTkGcC8kxAngnIMwF5JiDPBOSZgDwTkGcC8kxAngnIMwF5JiDPBOSZgDwT\nkGcC8kxAngnIMwF5JiDPBOSZgDwTkGcC8kxAngnIMwF5JiDPBOSZgDwTkGcC8kxAngnIMwF5JiDP\nBOR93fEB/y7YhdsAAAAASUVORK5CYII=\n",
                "text/plain": "<PIL.Image.Image image mode=RGBA size=193x128 at 0x7F5C96DBFA90>"
              }
            ],
            "_view_module": "@jupyter-widgets/output",
            "_model_module_version": "1.0.0",
            "_view_count": null,
            "_view_module_version": "1.0.0",
            "layout": "IPY_MODEL_b8cf6148756f4daeaffdb9570f4c9f45",
            "_model_module": "@jupyter-widgets/output"
          }
        },
        "2ad3337fca2649da893b188c31425263": {
          "model_module": "@jupyter-widgets/controls",
          "model_name": "DropdownModel",
          "state": {
            "_options_labels": [
              "<Keep>",
              "<Delete>",
              "Adidas",
              "New Balance",
              "Nike",
              "Puma",
              "Reebok",
              "Vans"
            ],
            "_view_name": "DropdownView",
            "style": "IPY_MODEL_2b411cdc0e33409db89660c9d3590946",
            "_dom_classes": [],
            "description": "",
            "_model_name": "DropdownModel",
            "index": 0,
            "_view_module": "@jupyter-widgets/controls",
            "_model_module_version": "1.5.0",
            "_view_count": null,
            "disabled": false,
            "_view_module_version": "1.5.0",
            "description_tooltip": null,
            "_model_module": "@jupyter-widgets/controls",
            "layout": "IPY_MODEL_9adc6fc1da5a4549a21a7d19ed28b326"
          }
        },
        "11b9c1982fa742aeade99ea12edc8c2b": {
          "model_module": "@jupyter-widgets/base",
          "model_name": "LayoutModel",
          "state": {
            "_view_name": "LayoutView",
            "grid_template_rows": null,
            "right": null,
            "justify_content": null,
            "_view_module": "@jupyter-widgets/base",
            "overflow": null,
            "_model_module_version": "1.2.0",
            "_view_count": null,
            "flex_flow": null,
            "width": null,
            "min_width": null,
            "border": null,
            "align_items": null,
            "bottom": null,
            "_model_module": "@jupyter-widgets/base",
            "top": null,
            "grid_column": null,
            "overflow_y": null,
            "overflow_x": null,
            "grid_auto_flow": null,
            "grid_area": null,
            "grid_template_columns": null,
            "flex": "0 0 auto",
            "_model_name": "LayoutModel",
            "justify_items": null,
            "grid_row": null,
            "max_height": null,
            "align_content": null,
            "visibility": null,
            "align_self": null,
            "height": null,
            "min_height": null,
            "padding": null,
            "grid_auto_rows": null,
            "grid_gap": null,
            "max_width": null,
            "order": null,
            "_view_module_version": "1.2.0",
            "grid_template_areas": null,
            "object_position": null,
            "object_fit": null,
            "grid_auto_columns": null,
            "margin": null,
            "display": null,
            "left": null
          }
        },
        "f1dc1b1731c2442e83f64a3ea3fdc0b6": {
          "model_module": "@jupyter-widgets/output",
          "model_name": "OutputModel",
          "state": {
            "_view_name": "OutputView",
            "msg_id": "",
            "_dom_classes": [],
            "_model_name": "OutputModel",
            "outputs": [
              {
                "output_type": "display_data",
                "metadata": {
                  "tags": []
                },
                "image/png": "iVBORw0KGgoAAAANSUhEUgAAAIAAAACACAYAAADDPmHLAAABTUlEQVR4nO3SMQEAIAzAsIF/zyBj\nRxMFPXpm5g1ZdzuAXQaIM0CcAeIMEGeAOAPEGSDOAHEGiDNAnAHiDBBngDgDxBkgzgBxBogzQJwB\n4gwQZ4A4A8QZIM4AcQaIM0CcAeIMEGeAOAPEGSDOAHEGiDNAnAHiDBBngDgDxBkgzgBxBogzQJwB\n4gwQZ4A4A8QZIM4AcQaIM0CcAeIMEGeAOAPEGSDOAHEGiDNAnAHiDBBngDgDxBkgzgBxBogzQJwB\n4gwQZ4A4A8QZIM4AcQaIM0CcAeIMEGeAOAPEGSDOAHEGiDNAnAHiDBBngDgDxBkgzgBxBogzQJwB\n4gwQZ4A4A8QZIM4AcQaIM0CcAeIMEGeAOAPEGSDOAHEGiDNAnAHiDBBngDgDxBkgzgBxBogzQJwB\n4gwQZ4A4A8QZIM4AcQaIM0CcAeIMEGeAOAPEfdKEAf8FXZHzAAAAAElFTkSuQmCC\n",
                "text/plain": "<PIL.Image.Image image mode=RGBA size=128x128 at 0x7F5C96DC8748>"
              }
            ],
            "_view_module": "@jupyter-widgets/output",
            "_model_module_version": "1.0.0",
            "_view_count": null,
            "_view_module_version": "1.0.0",
            "layout": "IPY_MODEL_01b037f64a814a2f825a030115394353",
            "_model_module": "@jupyter-widgets/output"
          }
        },
        "36deab3e4b4c4625933ba483ed9d1769": {
          "model_module": "@jupyter-widgets/controls",
          "model_name": "DropdownModel",
          "state": {
            "_options_labels": [
              "<Keep>",
              "<Delete>",
              "Adidas",
              "New Balance",
              "Nike",
              "Puma",
              "Reebok",
              "Vans"
            ],
            "_view_name": "DropdownView",
            "style": "IPY_MODEL_504699e63b004540a4c81e90ca9c1c3e",
            "_dom_classes": [],
            "description": "",
            "_model_name": "DropdownModel",
            "index": 0,
            "_view_module": "@jupyter-widgets/controls",
            "_model_module_version": "1.5.0",
            "_view_count": null,
            "disabled": false,
            "_view_module_version": "1.5.0",
            "description_tooltip": null,
            "_model_module": "@jupyter-widgets/controls",
            "layout": "IPY_MODEL_cee4bb72a3264b6eb5a9d6957987f821"
          }
        },
        "c00c57561b0c47c3a593fae8d677fc4c": {
          "model_module": "@jupyter-widgets/base",
          "model_name": "LayoutModel",
          "state": {
            "_view_name": "LayoutView",
            "grid_template_rows": null,
            "right": null,
            "justify_content": null,
            "_view_module": "@jupyter-widgets/base",
            "overflow": null,
            "_model_module_version": "1.2.0",
            "_view_count": null,
            "flex_flow": null,
            "width": null,
            "min_width": null,
            "border": null,
            "align_items": null,
            "bottom": null,
            "_model_module": "@jupyter-widgets/base",
            "top": null,
            "grid_column": null,
            "overflow_y": null,
            "overflow_x": null,
            "grid_auto_flow": null,
            "grid_area": null,
            "grid_template_columns": null,
            "flex": "0 0 auto",
            "_model_name": "LayoutModel",
            "justify_items": null,
            "grid_row": null,
            "max_height": null,
            "align_content": null,
            "visibility": null,
            "align_self": null,
            "height": null,
            "min_height": null,
            "padding": null,
            "grid_auto_rows": null,
            "grid_gap": null,
            "max_width": null,
            "order": null,
            "_view_module_version": "1.2.0",
            "grid_template_areas": null,
            "object_position": null,
            "object_fit": null,
            "grid_auto_columns": null,
            "margin": null,
            "display": null,
            "left": null
          }
        },
        "1d9ba72b71284a75a91ef218271aeb19": {
          "model_module": "@jupyter-widgets/output",
          "model_name": "OutputModel",
          "state": {
            "_view_name": "OutputView",
            "msg_id": "",
            "_dom_classes": [],
            "_model_name": "OutputModel",
            "outputs": [
              {
                "output_type": "display_data",
                "metadata": {
                  "tags": []
                },
                "image/png": "iVBORw0KGgoAAAANSUhEUgAAAIQAAACACAYAAADK1cGxAAABMUlEQVR4nO3SoQHAIBDAwIf9d24N\nJhOAuJsgImtmvoFj3w7gLYYgDEEYgjAEYQjCEIQhCEMQhiAMQRiCMARhCMIQhCEIQxCGIAxBGIIw\nBGEIwhCEIQhDEIYgDEEYgjAEYQjCEIQhCEMQhiAMQRiCMARhCMIQhCEIQxCGIAxBGIIwBGEIwhCE\nIQhDEIYgDEEYgjAEYQjCEIQhCEMQhiAMQRiCMARhCMIQhCEIQxCGIAxBGIIwBGEIwhCEIQhDEIYg\nDEEYgjAEYQjCEIQhCEMQhiAMQRiCMARhCMIQhCEIQxCGIAxBGIIwBGEIwhCEIQhDEIYgDEEYgjAE\nYQjCEIQhCEMQhiAMQRiCMARhCMIQhCEIQxCGIAxBGIIwBGEIwhCEIQhDEIYgDEEYgjAEYQjCEMQP\n0zgB/5IHgooAAAAASUVORK5CYII=\n",
                "text/plain": "<PIL.Image.Image image mode=RGBA size=132x128 at 0x7F5C96DC8160>"
              }
            ],
            "_view_module": "@jupyter-widgets/output",
            "_model_module_version": "1.0.0",
            "_view_count": null,
            "_view_module_version": "1.0.0",
            "layout": "IPY_MODEL_a94ad20c9653479684bd986e808984df",
            "_model_module": "@jupyter-widgets/output"
          }
        },
        "0bc3d9008373488fa1b771990db8ff87": {
          "model_module": "@jupyter-widgets/controls",
          "model_name": "DropdownModel",
          "state": {
            "_options_labels": [
              "<Keep>",
              "<Delete>",
              "Adidas",
              "New Balance",
              "Nike",
              "Puma",
              "Reebok",
              "Vans"
            ],
            "_view_name": "DropdownView",
            "style": "IPY_MODEL_fed9bcadd9ea4b8984572b4a620d3a16",
            "_dom_classes": [],
            "description": "",
            "_model_name": "DropdownModel",
            "index": 0,
            "_view_module": "@jupyter-widgets/controls",
            "_model_module_version": "1.5.0",
            "_view_count": null,
            "disabled": false,
            "_view_module_version": "1.5.0",
            "description_tooltip": null,
            "_model_module": "@jupyter-widgets/controls",
            "layout": "IPY_MODEL_8a154206e2bc411e85b862d96fa8ddd2"
          }
        },
        "e8e7a3b3081c41cd9e1000eb3014a99a": {
          "model_module": "@jupyter-widgets/base",
          "model_name": "LayoutModel",
          "state": {
            "_view_name": "LayoutView",
            "grid_template_rows": null,
            "right": null,
            "justify_content": null,
            "_view_module": "@jupyter-widgets/base",
            "overflow": null,
            "_model_module_version": "1.2.0",
            "_view_count": null,
            "flex_flow": null,
            "width": null,
            "min_width": null,
            "border": null,
            "align_items": null,
            "bottom": null,
            "_model_module": "@jupyter-widgets/base",
            "top": null,
            "grid_column": null,
            "overflow_y": null,
            "overflow_x": null,
            "grid_auto_flow": null,
            "grid_area": null,
            "grid_template_columns": null,
            "flex": "0 0 auto",
            "_model_name": "LayoutModel",
            "justify_items": null,
            "grid_row": null,
            "max_height": null,
            "align_content": null,
            "visibility": null,
            "align_self": null,
            "height": null,
            "min_height": null,
            "padding": null,
            "grid_auto_rows": null,
            "grid_gap": null,
            "max_width": null,
            "order": null,
            "_view_module_version": "1.2.0",
            "grid_template_areas": null,
            "object_position": null,
            "object_fit": null,
            "grid_auto_columns": null,
            "margin": null,
            "display": null,
            "left": null
          }
        },
        "3275b675f76d4322b0f0040c14a8457f": {
          "model_module": "@jupyter-widgets/output",
          "model_name": "OutputModel",
          "state": {
            "_view_name": "OutputView",
            "msg_id": "",
            "_dom_classes": [],
            "_model_name": "OutputModel",
            "outputs": [
              {
                "output_type": "display_data",
                "metadata": {
                  "tags": []
                },
                "image/png": "iVBORw0KGgoAAAANSUhEUgAAAMAAAACACAYAAABdhGZrAAABbUlEQVR4nO3TMQEAIAzAsIF/zyBj\nRxMFfXpm5g1E3e0A2GQA0gxAmgFIMwBpBiDNAKQZgDQDkGYA0gxAmgFIMwBpBiDNAKQZgDQDkGYA\n0gxAmgFIMwBpBiDNAKQZgDQDkGYA0gxAmgFIMwBpBiDNAKQZgDQDkGYA0gxAmgFIMwBpBiDNAKQZ\ngDQDkGYA0gxAmgFIMwBpBiDNAKQZgDQDkGYA0gxAmgFIMwBpBiDNAKQZgDQDkGYA0gxAmgFIMwBp\nBiDNAKQZgDQDkGYA0gxAmgFIMwBpBiDNAKQZgDQDkGYA0gxAmgFIMwBpBiDNAKQZgDQDkGYA0gxA\nmgFIMwBpBiDNAKQZgDQDkGYA0gxAmgFIMwBpBiDNAKQZgDQDkGYA0gxAmgFIMwBpBiDNAKQZgDQD\nkGYA0gxAmgFIMwBpBiDNAKQZgDQDkGYA0gxAmgFIMwBpBiDNAKQZgDQDkGYA0gxAmgFIMwBpBiDN\nAKR93cQB/9nc2S0AAAAASUVORK5CYII=\n",
                "text/plain": "<PIL.Image.Image image mode=RGBA size=192x128 at 0x7F5C96DC87F0>"
              }
            ],
            "_view_module": "@jupyter-widgets/output",
            "_model_module_version": "1.0.0",
            "_view_count": null,
            "_view_module_version": "1.0.0",
            "layout": "IPY_MODEL_a3510946772f446aacb5c86aab30e076",
            "_model_module": "@jupyter-widgets/output"
          }
        },
        "cb68229337e545bb9d6570d31c5906e0": {
          "model_module": "@jupyter-widgets/controls",
          "model_name": "DropdownModel",
          "state": {
            "_options_labels": [
              "<Keep>",
              "<Delete>",
              "Adidas",
              "New Balance",
              "Nike",
              "Puma",
              "Reebok",
              "Vans"
            ],
            "_view_name": "DropdownView",
            "style": "IPY_MODEL_41e5ed8d6da944d38509341dd87167d2",
            "_dom_classes": [],
            "description": "",
            "_model_name": "DropdownModel",
            "index": 0,
            "_view_module": "@jupyter-widgets/controls",
            "_model_module_version": "1.5.0",
            "_view_count": null,
            "disabled": false,
            "_view_module_version": "1.5.0",
            "description_tooltip": null,
            "_model_module": "@jupyter-widgets/controls",
            "layout": "IPY_MODEL_1adb599345e448368b96160be6ec6358"
          }
        },
        "c6354729ce2d437199c19b3f3625a353": {
          "model_module": "@jupyter-widgets/base",
          "model_name": "LayoutModel",
          "state": {
            "_view_name": "LayoutView",
            "grid_template_rows": null,
            "right": null,
            "justify_content": null,
            "_view_module": "@jupyter-widgets/base",
            "overflow": null,
            "_model_module_version": "1.2.0",
            "_view_count": null,
            "flex_flow": null,
            "width": null,
            "min_width": null,
            "border": null,
            "align_items": null,
            "bottom": null,
            "_model_module": "@jupyter-widgets/base",
            "top": null,
            "grid_column": null,
            "overflow_y": null,
            "overflow_x": null,
            "grid_auto_flow": null,
            "grid_area": null,
            "grid_template_columns": null,
            "flex": "0 0 auto",
            "_model_name": "LayoutModel",
            "justify_items": null,
            "grid_row": null,
            "max_height": null,
            "align_content": null,
            "visibility": null,
            "align_self": null,
            "height": null,
            "min_height": null,
            "padding": null,
            "grid_auto_rows": null,
            "grid_gap": null,
            "max_width": null,
            "order": null,
            "_view_module_version": "1.2.0",
            "grid_template_areas": null,
            "object_position": null,
            "object_fit": null,
            "grid_auto_columns": null,
            "margin": null,
            "display": null,
            "left": null
          }
        },
        "49ffe22bee6e4566a3ea5495bf1a6b1d": {
          "model_module": "@jupyter-widgets/output",
          "model_name": "OutputModel",
          "state": {
            "_view_name": "OutputView",
            "msg_id": "",
            "_dom_classes": [],
            "_model_name": "OutputModel",
            "outputs": [
              {
                "output_type": "display_data",
                "metadata": {
                  "tags": []
                },
                "image/png": "iVBORw0KGgoAAAANSUhEUgAAAMEAAACACAYAAACyRg1VAAABbUlEQVR4nO3TMQEAIAzAsIF/zyBj\nRxMFfXpm5g2E3e0A2GYC8kxAngnIMwF5JiDPBOSZgDwTkGcC8kxAngnIMwF5JiDPBOSZgDwTkGcC\n8kxAngnIMwF5JiDPBOSZgDwTkGcC8kxAngnIMwF5JiDPBOSZgDwTkGcC8kxAngnIMwF5JiDPBOSZ\ngDwTkGcC8kxAngnIMwF5JiDPBOSZgDwTkGcC8kxAngnIMwF5JiDPBOSZgDwTkGcC8kxAngnIMwF5\nJiDPBOSZgDwTkGcC8kxAngnIMwF5JiDPBOSZgDwTkGcC8kxAngnIMwF5JiDPBOSZgDwTkGcC8kxA\nngnIMwF5JiDPBOSZgDwTkGcC8kxAngnIMwF5JiDPBOSZgDwTkGcC8kxAngnIMwF5JiDPBOSZgDwT\nkGcC8kxAngnIMwF5JiDPBOSZgDwTkGcC8kxAngnIMwF5JiDPBOSZgDwTkGcC8kxAngnIMwF5JiDP\nBOR93fEB/y7YhdsAAAAASUVORK5CYII=\n",
                "text/plain": "<PIL.Image.Image image mode=RGBA size=193x128 at 0x7F5C96DC87B8>"
              }
            ],
            "_view_module": "@jupyter-widgets/output",
            "_model_module_version": "1.0.0",
            "_view_count": null,
            "_view_module_version": "1.0.0",
            "layout": "IPY_MODEL_3341aa4a34e44206876d4697e23f37d5",
            "_model_module": "@jupyter-widgets/output"
          }
        },
        "19fb06b9ade44378ad468c77164488c3": {
          "model_module": "@jupyter-widgets/controls",
          "model_name": "DropdownModel",
          "state": {
            "_options_labels": [
              "<Keep>",
              "<Delete>",
              "Adidas",
              "New Balance",
              "Nike",
              "Puma",
              "Reebok",
              "Vans"
            ],
            "_view_name": "DropdownView",
            "style": "IPY_MODEL_6e0f5009191e4f019bbf3c866b06eaa5",
            "_dom_classes": [],
            "description": "",
            "_model_name": "DropdownModel",
            "index": 0,
            "_view_module": "@jupyter-widgets/controls",
            "_model_module_version": "1.5.0",
            "_view_count": null,
            "disabled": false,
            "_view_module_version": "1.5.0",
            "description_tooltip": null,
            "_model_module": "@jupyter-widgets/controls",
            "layout": "IPY_MODEL_6cac131043e94110a83f5bc2a5055150"
          }
        },
        "328fb37e320347bab0678af405611a1c": {
          "model_module": "@jupyter-widgets/base",
          "model_name": "LayoutModel",
          "state": {
            "_view_name": "LayoutView",
            "grid_template_rows": null,
            "right": null,
            "justify_content": null,
            "_view_module": "@jupyter-widgets/base",
            "overflow": null,
            "_model_module_version": "1.2.0",
            "_view_count": null,
            "flex_flow": null,
            "width": null,
            "min_width": null,
            "border": null,
            "align_items": null,
            "bottom": null,
            "_model_module": "@jupyter-widgets/base",
            "top": null,
            "grid_column": null,
            "overflow_y": null,
            "overflow_x": null,
            "grid_auto_flow": null,
            "grid_area": null,
            "grid_template_columns": null,
            "flex": "0 0 auto",
            "_model_name": "LayoutModel",
            "justify_items": null,
            "grid_row": null,
            "max_height": null,
            "align_content": null,
            "visibility": null,
            "align_self": null,
            "height": null,
            "min_height": null,
            "padding": null,
            "grid_auto_rows": null,
            "grid_gap": null,
            "max_width": null,
            "order": null,
            "_view_module_version": "1.2.0",
            "grid_template_areas": null,
            "object_position": null,
            "object_fit": null,
            "grid_auto_columns": null,
            "margin": null,
            "display": null,
            "left": null
          }
        },
        "72222fbb14204a7881f1b7ca6d682da4": {
          "model_module": "@jupyter-widgets/output",
          "model_name": "OutputModel",
          "state": {
            "_view_name": "OutputView",
            "msg_id": "",
            "_dom_classes": [],
            "_model_name": "OutputModel",
            "outputs": [
              {
                "output_type": "display_data",
                "metadata": {
                  "tags": []
                },
                "image/png": "iVBORw0KGgoAAAANSUhEUgAAAL0AAACACAYAAABeM2hDAAABbklEQVR4nO3SMQEAIAzAsIF/z+AC\njiYKenTNzBkI2b8D4DXTk2N6ckxPjunJMT05pifH9OSYnhzTk2N6ckxPjunJMT05pifH9OSYnhzT\nk2N6ckxPjunJMT05pifH9OSYnhzTk2N6ckxPjunJMT05pifH9OSYnhzTk2N6ckxPjunJMT05pifH\n9OSYnhzTk2N6ckxPjunJMT05pifH9OSYnhzTk2N6ckxPjunJMT05pifH9OSYnhzTk2N6ckxPjunJ\nMT05pifH9OSYnhzTk2N6ckxPjunJMT05pifH9OSYnhzTk2N6ckxPjunJMT05pifH9OSYnhzTk2N6\nckxPjunJMT05pifH9OSYnhzTk2N6ckxPjunJMT05pifH9OSYnhzTk2N6ckxPjunJMT05pifH9OSY\nnhzTk2N6ckxPjunJMT05pifH9OSYnhzTk2N6ckxPjunJMT05pifH9OSYnhzTk2N6ckxPjunJMT05\npifnAt09Af9RiyeTAAAAAElFTkSuQmCC\n",
                "text/plain": "<PIL.Image.Image image mode=RGBA size=189x128 at 0x7F5C96DC8940>"
              }
            ],
            "_view_module": "@jupyter-widgets/output",
            "_model_module_version": "1.0.0",
            "_view_count": null,
            "_view_module_version": "1.0.0",
            "layout": "IPY_MODEL_88482371061b4380a1cb76f631aa1b4b",
            "_model_module": "@jupyter-widgets/output"
          }
        },
        "2c4cb79c127c40238a17306bce40d168": {
          "model_module": "@jupyter-widgets/controls",
          "model_name": "DropdownModel",
          "state": {
            "_options_labels": [
              "<Keep>",
              "<Delete>",
              "Adidas",
              "New Balance",
              "Nike",
              "Puma",
              "Reebok",
              "Vans"
            ],
            "_view_name": "DropdownView",
            "style": "IPY_MODEL_8d754410dccf43e7be18479a4a39eaef",
            "_dom_classes": [],
            "description": "",
            "_model_name": "DropdownModel",
            "index": 0,
            "_view_module": "@jupyter-widgets/controls",
            "_model_module_version": "1.5.0",
            "_view_count": null,
            "disabled": false,
            "_view_module_version": "1.5.0",
            "description_tooltip": null,
            "_model_module": "@jupyter-widgets/controls",
            "layout": "IPY_MODEL_e1687531583f4efda435ebdf40f52621"
          }
        },
        "f4e95432e4ec4eb4b72be29632c16b62": {
          "model_module": "@jupyter-widgets/base",
          "model_name": "LayoutModel",
          "state": {
            "_view_name": "LayoutView",
            "grid_template_rows": null,
            "right": null,
            "justify_content": null,
            "_view_module": "@jupyter-widgets/base",
            "overflow": null,
            "_model_module_version": "1.2.0",
            "_view_count": null,
            "flex_flow": null,
            "width": null,
            "min_width": null,
            "border": null,
            "align_items": null,
            "bottom": null,
            "_model_module": "@jupyter-widgets/base",
            "top": null,
            "grid_column": null,
            "overflow_y": null,
            "overflow_x": null,
            "grid_auto_flow": null,
            "grid_area": null,
            "grid_template_columns": null,
            "flex": "0 0 auto",
            "_model_name": "LayoutModel",
            "justify_items": null,
            "grid_row": null,
            "max_height": null,
            "align_content": null,
            "visibility": null,
            "align_self": null,
            "height": null,
            "min_height": null,
            "padding": null,
            "grid_auto_rows": null,
            "grid_gap": null,
            "max_width": null,
            "order": null,
            "_view_module_version": "1.2.0",
            "grid_template_areas": null,
            "object_position": null,
            "object_fit": null,
            "grid_auto_columns": null,
            "margin": null,
            "display": null,
            "left": null
          }
        },
        "9ac20f258e9449dba53fff4367872920": {
          "model_module": "@jupyter-widgets/output",
          "model_name": "OutputModel",
          "state": {
            "_view_name": "OutputView",
            "msg_id": "",
            "_dom_classes": [],
            "_model_name": "OutputModel",
            "outputs": [
              {
                "output_type": "display_data",
                "metadata": {
                  "tags": []
                },
                "image/png": "iVBORw0KGgoAAAANSUhEUgAAALsAAACACAYAAABTLRgEAAABbklEQVR4nO3SMQEAIAzAsIF/z+AC\njiYKenTNzBkI2L8D4BWzk2F2MsxOhtnJMDsZZifD7GSYnQyzk2F2MsxOhtnJMDsZZifD7GSYnQyz\nk2F2MsxOhtnJMDsZZifD7GSYnQyzk2F2MsxOhtnJMDsZZifD7GSYnQyzk2F2MsxOhtnJMDsZZifD\n7GSYnQyzk2F2MsxOhtnJMDsZZifD7GSYnQyzk2F2MsxOhtnJMDsZZifD7GSYnQyzk2F2MsxOhtnJ\nMDsZZifD7GSYnQyzk2F2MsxOhtnJMDsZZifD7GSYnQyzk2F2MsxOhtnJMDsZZifD7GSYnQyzk2F2\nMsxOhtnJMDsZZifD7GSYnQyzk2F2MsxOhtnJMDsZZifD7GSYnQyzk2F2MsxOhtnJMDsZZifD7GSY\nnQyzk2F2MsxOhtnJMDsZZifD7GSYnQyzk2F2MsxOhtnJMDsZZifD7GSYnQyzk2F2MsxOhtnJMDsZ\nZifjAtzjAf8pVqOOAAAAAElFTkSuQmCC\n",
                "text/plain": "<PIL.Image.Image image mode=RGBA size=187x128 at 0x7F5C96DC8A20>"
              }
            ],
            "_view_module": "@jupyter-widgets/output",
            "_model_module_version": "1.0.0",
            "_view_count": null,
            "_view_module_version": "1.0.0",
            "layout": "IPY_MODEL_b72c0a8630c34670a3d639d1d395a65f",
            "_model_module": "@jupyter-widgets/output"
          }
        },
        "a3f0278c4a88414da6cc69f68049f25c": {
          "model_module": "@jupyter-widgets/controls",
          "model_name": "DropdownModel",
          "state": {
            "_options_labels": [
              "<Keep>",
              "<Delete>",
              "Adidas",
              "New Balance",
              "Nike",
              "Puma",
              "Reebok",
              "Vans"
            ],
            "_view_name": "DropdownView",
            "style": "IPY_MODEL_aa588f0a498741f39e0b4c9d7b300965",
            "_dom_classes": [],
            "description": "",
            "_model_name": "DropdownModel",
            "index": 0,
            "_view_module": "@jupyter-widgets/controls",
            "_model_module_version": "1.5.0",
            "_view_count": null,
            "disabled": false,
            "_view_module_version": "1.5.0",
            "description_tooltip": null,
            "_model_module": "@jupyter-widgets/controls",
            "layout": "IPY_MODEL_d63a0a9e9bf74f8893d65111446dff13"
          }
        },
        "8963b132366943ff8564570975f3f4da": {
          "model_module": "@jupyter-widgets/base",
          "model_name": "LayoutModel",
          "state": {
            "_view_name": "LayoutView",
            "grid_template_rows": null,
            "right": null,
            "justify_content": null,
            "_view_module": "@jupyter-widgets/base",
            "overflow": null,
            "_model_module_version": "1.2.0",
            "_view_count": null,
            "flex_flow": null,
            "width": null,
            "min_width": null,
            "border": null,
            "align_items": null,
            "bottom": null,
            "_model_module": "@jupyter-widgets/base",
            "top": null,
            "grid_column": null,
            "overflow_y": null,
            "overflow_x": null,
            "grid_auto_flow": null,
            "grid_area": null,
            "grid_template_columns": null,
            "flex": "0 0 auto",
            "_model_name": "LayoutModel",
            "justify_items": null,
            "grid_row": null,
            "max_height": null,
            "align_content": null,
            "visibility": null,
            "align_self": null,
            "height": null,
            "min_height": null,
            "padding": null,
            "grid_auto_rows": null,
            "grid_gap": null,
            "max_width": null,
            "order": null,
            "_view_module_version": "1.2.0",
            "grid_template_areas": null,
            "object_position": null,
            "object_fit": null,
            "grid_auto_columns": null,
            "margin": null,
            "display": null,
            "left": null
          }
        },
        "9e3cf8ca52af41019e6dc6c4eddb1b67": {
          "model_module": "@jupyter-widgets/output",
          "model_name": "OutputModel",
          "state": {
            "_view_name": "OutputView",
            "msg_id": "",
            "_dom_classes": [],
            "_model_name": "OutputModel",
            "outputs": [
              {
                "output_type": "display_data",
                "metadata": {
                  "tags": []
                },
                "image/png": "iVBORw0KGgoAAAANSUhEUgAAAKgAAACACAYAAACftCLvAAABbklEQVR4nO3SMQEAIAzAsIF/z+CA\nlx6Jgh5dM3MGovbvAHgxKGkGJc2gpBmUNIOSZlDSDEqaQUkzKGkGJc2gpBmUNIOSZlDSDEqaQUkz\nKGkGJc2gpBmUNIOSZlDSDEqaQUkzKGkGJc2gpBmUNIOSZlDSDEqaQUkzKGkGJc2gpBmUNIOSZlDS\nDEqaQUkzKGkGJc2gpBmUNIOSZlDSDEqaQUkzKGkGJc2gpBmUNIOSZlDSDEqaQUkzKGkGJc2gpBmU\nNIOSZlDSDEqaQUkzKGkGJc2gpBmUNIOSZlDSDEqaQUkzKGkGJc2gpBmUNIOSZlDSDEqaQUkzKGkG\nJc2gpBmUNIOSZlDSDEqaQUkzKGkGJc2gpBmUNIOSZlDSDEqaQUkzKGkGJc2gpBmUNIOSZlDSDEqa\nQUkzKGkGJc2gpBmUNIOSZlDSDEqaQUkzKGkGJc2gpBmUNIOSZlDSDEqaQUkzKGkGJc2gpBmUNIOS\nZlDSLtmMAf8wh0s4AAAAAElFTkSuQmCC\n",
                "text/plain": "<PIL.Image.Image image mode=RGBA size=168x128 at 0x7F5C96DC8B00>"
              }
            ],
            "_view_module": "@jupyter-widgets/output",
            "_model_module_version": "1.0.0",
            "_view_count": null,
            "_view_module_version": "1.0.0",
            "layout": "IPY_MODEL_3b503ad2ed2148e68be0e286f576874f",
            "_model_module": "@jupyter-widgets/output"
          }
        },
        "8d6aa801c8c14e0492e7035efe66c8c0": {
          "model_module": "@jupyter-widgets/controls",
          "model_name": "DropdownModel",
          "state": {
            "_options_labels": [
              "<Keep>",
              "<Delete>",
              "Adidas",
              "New Balance",
              "Nike",
              "Puma",
              "Reebok",
              "Vans"
            ],
            "_view_name": "DropdownView",
            "style": "IPY_MODEL_1dd90f8768064b4cab86188a69c2adc9",
            "_dom_classes": [],
            "description": "",
            "_model_name": "DropdownModel",
            "index": 0,
            "_view_module": "@jupyter-widgets/controls",
            "_model_module_version": "1.5.0",
            "_view_count": null,
            "disabled": false,
            "_view_module_version": "1.5.0",
            "description_tooltip": null,
            "_model_module": "@jupyter-widgets/controls",
            "layout": "IPY_MODEL_570c6cb158eb4f07952a01126f2db077"
          }
        },
        "3a6d90dd5c9c4e589738f91a922dd994": {
          "model_module": "@jupyter-widgets/base",
          "model_name": "LayoutModel",
          "state": {
            "_view_name": "LayoutView",
            "grid_template_rows": null,
            "right": null,
            "justify_content": null,
            "_view_module": "@jupyter-widgets/base",
            "overflow": null,
            "_model_module_version": "1.2.0",
            "_view_count": null,
            "flex_flow": null,
            "width": null,
            "min_width": null,
            "border": null,
            "align_items": null,
            "bottom": null,
            "_model_module": "@jupyter-widgets/base",
            "top": null,
            "grid_column": null,
            "overflow_y": null,
            "overflow_x": null,
            "grid_auto_flow": null,
            "grid_area": null,
            "grid_template_columns": null,
            "flex": "0 0 auto",
            "_model_name": "LayoutModel",
            "justify_items": null,
            "grid_row": null,
            "max_height": null,
            "align_content": null,
            "visibility": null,
            "align_self": null,
            "height": null,
            "min_height": null,
            "padding": null,
            "grid_auto_rows": null,
            "grid_gap": null,
            "max_width": null,
            "order": null,
            "_view_module_version": "1.2.0",
            "grid_template_areas": null,
            "object_position": null,
            "object_fit": null,
            "grid_auto_columns": null,
            "margin": null,
            "display": null,
            "left": null
          }
        },
        "4569a34dd0c14b70938993c330decbad": {
          "model_module": "@jupyter-widgets/output",
          "model_name": "OutputModel",
          "state": {
            "_view_name": "OutputView",
            "msg_id": "",
            "_dom_classes": [],
            "_model_name": "OutputModel",
            "outputs": [
              {
                "output_type": "display_data",
                "metadata": {
                  "tags": []
                },
                "image/png": "iVBORw0KGgoAAAANSUhEUgAAAIAAAACACAYAAADDPmHLAAABTUlEQVR4nO3SMQEAIAzAsIF/zyBj\nRxMFPXpm5g1ZdzuAXQaIM0CcAeIMEGeAOAPEGSDOAHEGiDNAnAHiDBBngDgDxBkgzgBxBogzQJwB\n4gwQZ4A4A8QZIM4AcQaIM0CcAeIMEGeAOAPEGSDOAHEGiDNAnAHiDBBngDgDxBkgzgBxBogzQJwB\n4gwQZ4A4A8QZIM4AcQaIM0CcAeIMEGeAOAPEGSDOAHEGiDNAnAHiDBBngDgDxBkgzgBxBogzQJwB\n4gwQZ4A4A8QZIM4AcQaIM0CcAeIMEGeAOAPEGSDOAHEGiDNAnAHiDBBngDgDxBkgzgBxBogzQJwB\n4gwQZ4A4A8QZIM4AcQaIM0CcAeIMEGeAOAPEGSDOAHEGiDNAnAHiDBBngDgDxBkgzgBxBogzQJwB\n4gwQZ4A4A8QZIM4AcQaIM0CcAeIMEGeAOAPEfdKEAf8FXZHzAAAAAElFTkSuQmCC\n",
                "text/plain": "<PIL.Image.Image image mode=RGBA size=128x128 at 0x7F5C96DBB080>"
              }
            ],
            "_view_module": "@jupyter-widgets/output",
            "_model_module_version": "1.0.0",
            "_view_count": null,
            "_view_module_version": "1.0.0",
            "layout": "IPY_MODEL_aaba4e89f7c3451c8bd46c4c95754ce8",
            "_model_module": "@jupyter-widgets/output"
          }
        },
        "fec78b1328ec4180a0eaf249d6e838d6": {
          "model_module": "@jupyter-widgets/controls",
          "model_name": "DropdownModel",
          "state": {
            "_options_labels": [
              "<Keep>",
              "<Delete>",
              "Adidas",
              "New Balance",
              "Nike",
              "Puma",
              "Reebok",
              "Vans"
            ],
            "_view_name": "DropdownView",
            "style": "IPY_MODEL_eb2ad175abd442a68cc7f2c27cb304d7",
            "_dom_classes": [],
            "description": "",
            "_model_name": "DropdownModel",
            "index": 0,
            "_view_module": "@jupyter-widgets/controls",
            "_model_module_version": "1.5.0",
            "_view_count": null,
            "disabled": false,
            "_view_module_version": "1.5.0",
            "description_tooltip": null,
            "_model_module": "@jupyter-widgets/controls",
            "layout": "IPY_MODEL_60b3816f5089489eaca26a2e331606f1"
          }
        },
        "78ee090366db4c609bbb24f8cb1afbab": {
          "model_module": "@jupyter-widgets/base",
          "model_name": "LayoutModel",
          "state": {
            "_view_name": "LayoutView",
            "grid_template_rows": null,
            "right": null,
            "justify_content": null,
            "_view_module": "@jupyter-widgets/base",
            "overflow": null,
            "_model_module_version": "1.2.0",
            "_view_count": null,
            "flex_flow": null,
            "width": null,
            "min_width": null,
            "border": null,
            "align_items": null,
            "bottom": null,
            "_model_module": "@jupyter-widgets/base",
            "top": null,
            "grid_column": null,
            "overflow_y": null,
            "overflow_x": null,
            "grid_auto_flow": null,
            "grid_area": null,
            "grid_template_columns": null,
            "flex": "0 0 auto",
            "_model_name": "LayoutModel",
            "justify_items": null,
            "grid_row": null,
            "max_height": null,
            "align_content": null,
            "visibility": null,
            "align_self": null,
            "height": null,
            "min_height": null,
            "padding": null,
            "grid_auto_rows": null,
            "grid_gap": null,
            "max_width": null,
            "order": null,
            "_view_module_version": "1.2.0",
            "grid_template_areas": null,
            "object_position": null,
            "object_fit": null,
            "grid_auto_columns": null,
            "margin": null,
            "display": null,
            "left": null
          }
        },
        "dc7c5376de6e4ad0ba648037936636dc": {
          "model_module": "@jupyter-widgets/output",
          "model_name": "OutputModel",
          "state": {
            "_view_name": "OutputView",
            "msg_id": "",
            "_dom_classes": [],
            "_model_name": "OutputModel",
            "outputs": [
              {
                "output_type": "display_data",
                "metadata": {
                  "tags": []
                },
                "image/png": "iVBORw0KGgoAAAANSUhEUgAAAIQAAACACAYAAADK1cGxAAABMUlEQVR4nO3SoQHAIBDAwIf9d24N\nJhOAuJsgImtmvoFj3w7gLYYgDEEYgjAEYQjCEIQhCEMQhiAMQRiCMARhCMIQhCEIQxCGIAxBGIIw\nBGEIwhCEIQhDEIYgDEEYgjAEYQjCEIQhCEMQhiAMQRiCMARhCMIQhCEIQxCGIAxBGIIwBGEIwhCE\nIQhDEIYgDEEYgjAEYQjCEIQhCEMQhiAMQRiCMARhCMIQhCEIQxCGIAxBGIIwBGEIwhCEIQhDEIYg\nDEEYgjAEYQjCEIQhCEMQhiAMQRiCMARhCMIQhCEIQxCGIAxBGIIwBGEIwhCEIQhDEIYgDEEYgjAE\nYQjCEIQhCEMQhiAMQRiCMARhCMIQhCEIQxCGIAxBGIIwBGEIwhCEIQhDEIYgDEEYgjAEYQjCEMQP\n0zgB/5IHgooAAAAASUVORK5CYII=\n",
                "text/plain": "<PIL.Image.Image image mode=RGBA size=132x128 at 0x7F5C96DBB160>"
              }
            ],
            "_view_module": "@jupyter-widgets/output",
            "_model_module_version": "1.0.0",
            "_view_count": null,
            "_view_module_version": "1.0.0",
            "layout": "IPY_MODEL_70937808eb9b47839dfa00c8aec14d18",
            "_model_module": "@jupyter-widgets/output"
          }
        },
        "184a3829b31843388031f25d7a113613": {
          "model_module": "@jupyter-widgets/controls",
          "model_name": "DropdownModel",
          "state": {
            "_options_labels": [
              "<Keep>",
              "<Delete>",
              "Adidas",
              "New Balance",
              "Nike",
              "Puma",
              "Reebok",
              "Vans"
            ],
            "_view_name": "DropdownView",
            "style": "IPY_MODEL_7cbb35618c70418eb1b8de26c6f3b8ba",
            "_dom_classes": [],
            "description": "",
            "_model_name": "DropdownModel",
            "index": 0,
            "_view_module": "@jupyter-widgets/controls",
            "_model_module_version": "1.5.0",
            "_view_count": null,
            "disabled": false,
            "_view_module_version": "1.5.0",
            "description_tooltip": null,
            "_model_module": "@jupyter-widgets/controls",
            "layout": "IPY_MODEL_2521dc6132684d67adcc30f9deea4b9d"
          }
        },
        "03dcc1c8bfd04b449f322a9d97e36a94": {
          "model_module": "@jupyter-widgets/base",
          "model_name": "LayoutModel",
          "state": {
            "_view_name": "LayoutView",
            "grid_template_rows": null,
            "right": null,
            "justify_content": null,
            "_view_module": "@jupyter-widgets/base",
            "overflow": null,
            "_model_module_version": "1.2.0",
            "_view_count": null,
            "flex_flow": null,
            "width": null,
            "min_width": null,
            "border": null,
            "align_items": null,
            "bottom": null,
            "_model_module": "@jupyter-widgets/base",
            "top": null,
            "grid_column": null,
            "overflow_y": null,
            "overflow_x": null,
            "grid_auto_flow": null,
            "grid_area": null,
            "grid_template_columns": null,
            "flex": "0 0 auto",
            "_model_name": "LayoutModel",
            "justify_items": null,
            "grid_row": null,
            "max_height": null,
            "align_content": null,
            "visibility": null,
            "align_self": null,
            "height": null,
            "min_height": null,
            "padding": null,
            "grid_auto_rows": null,
            "grid_gap": null,
            "max_width": null,
            "order": null,
            "_view_module_version": "1.2.0",
            "grid_template_areas": null,
            "object_position": null,
            "object_fit": null,
            "grid_auto_columns": null,
            "margin": null,
            "display": null,
            "left": null
          }
        },
        "7c036bb0fe964264b29fc964c3d519eb": {
          "model_module": "@jupyter-widgets/output",
          "model_name": "OutputModel",
          "state": {
            "_view_name": "OutputView",
            "msg_id": "",
            "_dom_classes": [],
            "_model_name": "OutputModel",
            "outputs": [
              {
                "output_type": "display_data",
                "metadata": {
                  "tags": []
                },
                "image/png": "iVBORw0KGgoAAAANSUhEUgAAAMAAAACACAYAAABdhGZrAAABbUlEQVR4nO3TMQEAIAzAsIF/zyBj\nRxMFfXpm5g1E3e0A2GQA0gxAmgFIMwBpBiDNAKQZgDQDkGYA0gxAmgFIMwBpBiDNAKQZgDQDkGYA\n0gxAmgFIMwBpBiDNAKQZgDQDkGYA0gxAmgFIMwBpBiDNAKQZgDQDkGYA0gxAmgFIMwBpBiDNAKQZ\ngDQDkGYA0gxAmgFIMwBpBiDNAKQZgDQDkGYA0gxAmgFIMwBpBiDNAKQZgDQDkGYA0gxAmgFIMwBp\nBiDNAKQZgDQDkGYA0gxAmgFIMwBpBiDNAKQZgDQDkGYA0gxAmgFIMwBpBiDNAKQZgDQDkGYA0gxA\nmgFIMwBpBiDNAKQZgDQDkGYA0gxAmgFIMwBpBiDNAKQZgDQDkGYA0gxAmgFIMwBpBiDNAKQZgDQD\nkGYA0gxAmgFIMwBpBiDNAKQZgDQDkGYA0gxAmgFIMwBpBiDNAKQZgDQDkGYA0gxAmgFIMwBpBiDN\nAKR93cQB/9nc2S0AAAAASUVORK5CYII=\n",
                "text/plain": "<PIL.Image.Image image mode=RGBA size=192x128 at 0x7F5C96DBB240>"
              }
            ],
            "_view_module": "@jupyter-widgets/output",
            "_model_module_version": "1.0.0",
            "_view_count": null,
            "_view_module_version": "1.0.0",
            "layout": "IPY_MODEL_7e331b41c1b549e2a28b8714f51c8e67",
            "_model_module": "@jupyter-widgets/output"
          }
        },
        "3b0ca43ab36b489689d1fd11ee2c6115": {
          "model_module": "@jupyter-widgets/controls",
          "model_name": "DropdownModel",
          "state": {
            "_options_labels": [
              "<Keep>",
              "<Delete>",
              "Adidas",
              "New Balance",
              "Nike",
              "Puma",
              "Reebok",
              "Vans"
            ],
            "_view_name": "DropdownView",
            "style": "IPY_MODEL_5cb97745c0924dfaaf349f2a628ca738",
            "_dom_classes": [],
            "description": "",
            "_model_name": "DropdownModel",
            "index": 0,
            "_view_module": "@jupyter-widgets/controls",
            "_model_module_version": "1.5.0",
            "_view_count": null,
            "disabled": false,
            "_view_module_version": "1.5.0",
            "description_tooltip": null,
            "_model_module": "@jupyter-widgets/controls",
            "layout": "IPY_MODEL_c8672a4b645d4f30998d9dc46921638d"
          }
        },
        "2c9895655097415a935a4c966236dbad": {
          "model_module": "@jupyter-widgets/base",
          "model_name": "LayoutModel",
          "state": {
            "_view_name": "LayoutView",
            "grid_template_rows": null,
            "right": null,
            "justify_content": null,
            "_view_module": "@jupyter-widgets/base",
            "overflow": null,
            "_model_module_version": "1.2.0",
            "_view_count": null,
            "flex_flow": null,
            "width": null,
            "min_width": null,
            "border": null,
            "align_items": null,
            "bottom": null,
            "_model_module": "@jupyter-widgets/base",
            "top": null,
            "grid_column": null,
            "overflow_y": null,
            "overflow_x": null,
            "grid_auto_flow": null,
            "grid_area": null,
            "grid_template_columns": null,
            "flex": "0 0 auto",
            "_model_name": "LayoutModel",
            "justify_items": null,
            "grid_row": null,
            "max_height": null,
            "align_content": null,
            "visibility": null,
            "align_self": null,
            "height": null,
            "min_height": null,
            "padding": null,
            "grid_auto_rows": null,
            "grid_gap": null,
            "max_width": null,
            "order": null,
            "_view_module_version": "1.2.0",
            "grid_template_areas": null,
            "object_position": null,
            "object_fit": null,
            "grid_auto_columns": null,
            "margin": null,
            "display": null,
            "left": null
          }
        },
        "c5985f156e17494bb0cc1572c2d1af36": {
          "model_module": "@jupyter-widgets/output",
          "model_name": "OutputModel",
          "state": {
            "_view_name": "OutputView",
            "msg_id": "",
            "_dom_classes": [],
            "_model_name": "OutputModel",
            "outputs": [
              {
                "output_type": "display_data",
                "metadata": {
                  "tags": []
                },
                "image/png": "iVBORw0KGgoAAAANSUhEUgAAAJQAAACACAYAAADte0BZAAAcX0lEQVR4nO19Z5fiurbtlBxwwGCT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\ntd/9fxs4T5myU3oWAAAAAElFTkSuQmCC\n",
                "text/plain": "<PIL.Image.Image image mode=RGBA size=148x128 at 0x7F5C96DC8F28>"
              }
            ],
            "_view_module": "@jupyter-widgets/output",
            "_model_module_version": "1.0.0",
            "_view_count": null,
            "_view_module_version": "1.0.0",
            "layout": "IPY_MODEL_da8dd74757aa42cbafa207cf6388ebd0",
            "_model_module": "@jupyter-widgets/output"
          }
        },
        "f50b2c7b52784130b12282439c37d0d1": {
          "model_module": "@jupyter-widgets/controls",
          "model_name": "DropdownModel",
          "state": {
            "_options_labels": [
              "<Keep>",
              "<Delete>",
              "Adidas",
              "New Balance",
              "Nike",
              "Puma",
              "Reebok",
              "Vans"
            ],
            "_view_name": "DropdownView",
            "style": "IPY_MODEL_22131ba7457a407689753b1b28d22faa",
            "_dom_classes": [],
            "description": "",
            "_model_name": "DropdownModel",
            "index": 0,
            "_view_module": "@jupyter-widgets/controls",
            "_model_module_version": "1.5.0",
            "_view_count": null,
            "disabled": false,
            "_view_module_version": "1.5.0",
            "description_tooltip": null,
            "_model_module": "@jupyter-widgets/controls",
            "layout": "IPY_MODEL_7fae7e4c7bac44b583de1760dc2e653b"
          }
        },
        "2e035d9008f44836a8dbf12fc19f4b9d": {
          "model_module": "@jupyter-widgets/base",
          "model_name": "LayoutModel",
          "state": {
            "_view_name": "LayoutView",
            "grid_template_rows": null,
            "right": null,
            "justify_content": null,
            "_view_module": "@jupyter-widgets/base",
            "overflow": null,
            "_model_module_version": "1.2.0",
            "_view_count": null,
            "flex_flow": null,
            "width": null,
            "min_width": null,
            "border": null,
            "align_items": null,
            "bottom": null,
            "_model_module": "@jupyter-widgets/base",
            "top": null,
            "grid_column": null,
            "overflow_y": null,
            "overflow_x": null,
            "grid_auto_flow": null,
            "grid_area": null,
            "grid_template_columns": null,
            "flex": "0 0 auto",
            "_model_name": "LayoutModel",
            "justify_items": null,
            "grid_row": null,
            "max_height": null,
            "align_content": null,
            "visibility": null,
            "align_self": null,
            "height": null,
            "min_height": null,
            "padding": null,
            "grid_auto_rows": null,
            "grid_gap": null,
            "max_width": null,
            "order": null,
            "_view_module_version": "1.2.0",
            "grid_template_areas": null,
            "object_position": null,
            "object_fit": null,
            "grid_auto_columns": null,
            "margin": null,
            "display": null,
            "left": null
          }
        },
        "58cd0f0e2324474ba5a6409c6598a6de": {
          "model_module": "@jupyter-widgets/output",
          "model_name": "OutputModel",
          "state": {
            "_view_name": "OutputView",
            "msg_id": "",
            "_dom_classes": [],
            "_model_name": "OutputModel",
            "outputs": [
              {
                "output_type": "display_data",
                "metadata": {
                  "tags": []
                },
                "image/png": "iVBORw0KGgoAAAANSUhEUgAAAPUAAACACAYAAADTXi8XAAB1nklEQVR4nO2dd5wcR7W2n6rqnriz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\nBewAAAAASUVORK5CYII=\n",
                "text/plain": "<PIL.Image.Image image mode=RGBA size=245x128 at 0x7F5C96DC8EF0>"
              }
            ],
            "_view_module": "@jupyter-widgets/output",
            "_model_module_version": "1.0.0",
            "_view_count": null,
            "_view_module_version": "1.0.0",
            "layout": "IPY_MODEL_01dc35e44fa04b01ab38c20b9b48e93d",
            "_model_module": "@jupyter-widgets/output"
          }
        },
        "73e5e0570fa24eedb4d0767fb2c1bb73": {
          "model_module": "@jupyter-widgets/controls",
          "model_name": "DropdownModel",
          "state": {
            "_options_labels": [
              "<Keep>",
              "<Delete>",
              "Adidas",
              "New Balance",
              "Nike",
              "Puma",
              "Reebok",
              "Vans"
            ],
            "_view_name": "DropdownView",
            "style": "IPY_MODEL_70c4f6137e90478f9020bd27e1d5f86d",
            "_dom_classes": [],
            "description": "",
            "_model_name": "DropdownModel",
            "index": 0,
            "_view_module": "@jupyter-widgets/controls",
            "_model_module_version": "1.5.0",
            "_view_count": null,
            "disabled": false,
            "_view_module_version": "1.5.0",
            "description_tooltip": null,
            "_model_module": "@jupyter-widgets/controls",
            "layout": "IPY_MODEL_cf723a296355443eaa624d49d8d4c635"
          }
        },
        "656245b6b1eb45af8942f063de0b2497": {
          "model_module": "@jupyter-widgets/base",
          "model_name": "LayoutModel",
          "state": {
            "_view_name": "LayoutView",
            "grid_template_rows": null,
            "right": null,
            "justify_content": null,
            "_view_module": "@jupyter-widgets/base",
            "overflow": null,
            "_model_module_version": "1.2.0",
            "_view_count": null,
            "flex_flow": null,
            "width": null,
            "min_width": null,
            "border": null,
            "align_items": null,
            "bottom": null,
            "_model_module": "@jupyter-widgets/base",
            "top": null,
            "grid_column": null,
            "overflow_y": null,
            "overflow_x": null,
            "grid_auto_flow": null,
            "grid_area": null,
            "grid_template_columns": null,
            "flex": "0 0 auto",
            "_model_name": "LayoutModel",
            "justify_items": null,
            "grid_row": null,
            "max_height": null,
            "align_content": null,
            "visibility": null,
            "align_self": null,
            "height": null,
            "min_height": null,
            "padding": null,
            "grid_auto_rows": null,
            "grid_gap": null,
            "max_width": null,
            "order": null,
            "_view_module_version": "1.2.0",
            "grid_template_areas": null,
            "object_position": null,
            "object_fit": null,
            "grid_auto_columns": null,
            "margin": null,
            "display": null,
            "left": null
          }
        },
        "7f2cd97d116f4420b56cbf957ed89b7a": {
          "model_module": "@jupyter-widgets/output",
          "model_name": "OutputModel",
          "state": {
            "_view_name": "OutputView",
            "msg_id": "",
            "_dom_classes": [],
            "_model_name": "OutputModel",
            "outputs": [
              {
                "output_type": "display_data",
                "metadata": {
                  "tags": []
                },
                "image/png": "iVBORw0KGgoAAAANSUhEUgAAAOQAAACACAYAAAAbMsXBAAA9WklEQVR4nO2dd3xUVdrHv7dNyYSE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\n1xFihIwhhusI/w/XYO92STvX9AAAAABJRU5ErkJggg==\n",
                "text/plain": "<PIL.Image.Image image mode=RGBA size=228x128 at 0x7F5C96DC8E48>"
              }
            ],
            "_view_module": "@jupyter-widgets/output",
            "_model_module_version": "1.0.0",
            "_view_count": null,
            "_view_module_version": "1.0.0",
            "layout": "IPY_MODEL_bb1664462664412eb9ef95bd220c4a21",
            "_model_module": "@jupyter-widgets/output"
          }
        },
        "b19f8baaba164a1dac394d8af10443a1": {
          "model_module": "@jupyter-widgets/controls",
          "model_name": "DropdownModel",
          "state": {
            "_options_labels": [
              "<Keep>",
              "<Delete>",
              "Adidas",
              "New Balance",
              "Nike",
              "Puma",
              "Reebok",
              "Vans"
            ],
            "_view_name": "DropdownView",
            "style": "IPY_MODEL_514ea6f245ac4f6682eb93e9e081bf8e",
            "_dom_classes": [],
            "description": "",
            "_model_name": "DropdownModel",
            "index": 0,
            "_view_module": "@jupyter-widgets/controls",
            "_model_module_version": "1.5.0",
            "_view_count": null,
            "disabled": false,
            "_view_module_version": "1.5.0",
            "description_tooltip": null,
            "_model_module": "@jupyter-widgets/controls",
            "layout": "IPY_MODEL_ee2c46c6f81248d38d9831c32a2e3240"
          }
        },
        "464def6a901a4ec3a527987d8f2a2094": {
          "model_module": "@jupyter-widgets/base",
          "model_name": "LayoutModel",
          "state": {
            "_view_name": "LayoutView",
            "grid_template_rows": null,
            "right": null,
            "justify_content": null,
            "_view_module": "@jupyter-widgets/base",
            "overflow": null,
            "_model_module_version": "1.2.0",
            "_view_count": null,
            "flex_flow": null,
            "width": null,
            "min_width": null,
            "border": null,
            "align_items": null,
            "bottom": null,
            "_model_module": "@jupyter-widgets/base",
            "top": null,
            "grid_column": null,
            "overflow_y": null,
            "overflow_x": null,
            "grid_auto_flow": null,
            "grid_area": null,
            "grid_template_columns": null,
            "flex": "0 0 auto",
            "_model_name": "LayoutModel",
            "justify_items": null,
            "grid_row": null,
            "max_height": null,
            "align_content": null,
            "visibility": null,
            "align_self": null,
            "height": null,
            "min_height": null,
            "padding": null,
            "grid_auto_rows": null,
            "grid_gap": null,
            "max_width": null,
            "order": null,
            "_view_module_version": "1.2.0",
            "grid_template_areas": null,
            "object_position": null,
            "object_fit": null,
            "grid_auto_columns": null,
            "margin": null,
            "display": null,
            "left": null
          }
        },
        "30a4eb03b72549259a2dbfe540bd1bff": {
          "model_module": "@jupyter-widgets/output",
          "model_name": "OutputModel",
          "state": {
            "_view_name": "OutputView",
            "msg_id": "",
            "_dom_classes": [],
            "_model_name": "OutputModel",
            "outputs": [
              {
                "output_type": "display_data",
                "metadata": {
                  "tags": []
                },
                "image/png": "iVBORw0KGgoAAAANSUhEUgAAAIMAAACACAYAAAAoCdrIAAAXuklEQVR4nO2de3RV5Zn/P3vvc81J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\nJo4tBps4thhs4vx/DueL/RsQXxIAAAAASUVORK5CYII=\n",
                "text/plain": "<PIL.Image.Image image mode=RGBA size=131x128 at 0x7F5C96DC8D30>"
              }
            ],
            "_view_module": "@jupyter-widgets/output",
            "_model_module_version": "1.0.0",
            "_view_count": null,
            "_view_module_version": "1.0.0",
            "layout": "IPY_MODEL_fee9de9ebc184fddacfaabf3b0e009b2",
            "_model_module": "@jupyter-widgets/output"
          }
        },
        "da4f80036d234733a0b5157d68f454e9": {
          "model_module": "@jupyter-widgets/controls",
          "model_name": "DropdownModel",
          "state": {
            "_options_labels": [
              "<Keep>",
              "<Delete>",
              "Adidas",
              "New Balance",
              "Nike",
              "Puma",
              "Reebok",
              "Vans"
            ],
            "_view_name": "DropdownView",
            "style": "IPY_MODEL_3ec8556a69ce4910860741059cdab95a",
            "_dom_classes": [],
            "description": "",
            "_model_name": "DropdownModel",
            "index": 0,
            "_view_module": "@jupyter-widgets/controls",
            "_model_module_version": "1.5.0",
            "_view_count": null,
            "disabled": false,
            "_view_module_version": "1.5.0",
            "description_tooltip": null,
            "_model_module": "@jupyter-widgets/controls",
            "layout": "IPY_MODEL_1988419fc6794ceb9d74eadb258ff400"
          }
        },
        "5d1d25ecbd9447f0bfbda4c76f2ffbdd": {
          "model_module": "@jupyter-widgets/controls",
          "model_name": "DescriptionStyleModel",
          "state": {
            "_view_name": "StyleView",
            "_model_name": "DescriptionStyleModel",
            "description_width": "",
            "_view_module": "@jupyter-widgets/base",
            "_model_module_version": "1.5.0",
            "_view_count": null,
            "_view_module_version": "1.2.0",
            "_model_module": "@jupyter-widgets/controls"
          }
        },
        "c6551aab3d78436d898cb8f331775c53": {
          "model_module": "@jupyter-widgets/base",
          "model_name": "LayoutModel",
          "state": {
            "_view_name": "LayoutView",
            "grid_template_rows": null,
            "right": null,
            "justify_content": null,
            "_view_module": "@jupyter-widgets/base",
            "overflow": null,
            "_model_module_version": "1.2.0",
            "_view_count": null,
            "flex_flow": null,
            "width": "max-content",
            "min_width": null,
            "border": null,
            "align_items": null,
            "bottom": null,
            "_model_module": "@jupyter-widgets/base",
            "top": null,
            "grid_column": null,
            "overflow_y": null,
            "overflow_x": null,
            "grid_auto_flow": null,
            "grid_area": null,
            "grid_template_columns": null,
            "flex": null,
            "_model_name": "LayoutModel",
            "justify_items": null,
            "grid_row": null,
            "max_height": null,
            "align_content": null,
            "visibility": null,
            "align_self": null,
            "height": null,
            "min_height": null,
            "padding": null,
            "grid_auto_rows": null,
            "grid_gap": null,
            "max_width": null,
            "order": null,
            "_view_module_version": "1.2.0",
            "grid_template_areas": null,
            "object_position": null,
            "object_fit": null,
            "grid_auto_columns": null,
            "margin": null,
            "display": null,
            "left": null
          }
        },
        "b37b8b989cab4df09fcde64c59195e53": {
          "model_module": "@jupyter-widgets/controls",
          "model_name": "DescriptionStyleModel",
          "state": {
            "_view_name": "StyleView",
            "_model_name": "DescriptionStyleModel",
            "description_width": "",
            "_view_module": "@jupyter-widgets/base",
            "_model_module_version": "1.5.0",
            "_view_count": null,
            "_view_module_version": "1.2.0",
            "_model_module": "@jupyter-widgets/controls"
          }
        },
        "007b160094d8467e986844ae58eee302": {
          "model_module": "@jupyter-widgets/base",
          "model_name": "LayoutModel",
          "state": {
            "_view_name": "LayoutView",
            "grid_template_rows": null,
            "right": null,
            "justify_content": null,
            "_view_module": "@jupyter-widgets/base",
            "overflow": null,
            "_model_module_version": "1.2.0",
            "_view_count": null,
            "flex_flow": null,
            "width": "max-content",
            "min_width": null,
            "border": null,
            "align_items": null,
            "bottom": null,
            "_model_module": "@jupyter-widgets/base",
            "top": null,
            "grid_column": null,
            "overflow_y": null,
            "overflow_x": null,
            "grid_auto_flow": null,
            "grid_area": null,
            "grid_template_columns": null,
            "flex": null,
            "_model_name": "LayoutModel",
            "justify_items": null,
            "grid_row": null,
            "max_height": null,
            "align_content": null,
            "visibility": null,
            "align_self": null,
            "height": null,
            "min_height": null,
            "padding": null,
            "grid_auto_rows": null,
            "grid_gap": null,
            "max_width": null,
            "order": null,
            "_view_module_version": "1.2.0",
            "grid_template_areas": null,
            "object_position": null,
            "object_fit": null,
            "grid_auto_columns": null,
            "margin": null,
            "display": null,
            "left": null
          }
        },
        "876a11ecd51641b2b979a78ef29ff6b6": {
          "model_module": "@jupyter-widgets/controls",
          "model_name": "DescriptionStyleModel",
          "state": {
            "_view_name": "StyleView",
            "_model_name": "DescriptionStyleModel",
            "description_width": "",
            "_view_module": "@jupyter-widgets/base",
            "_model_module_version": "1.5.0",
            "_view_count": null,
            "_view_module_version": "1.2.0",
            "_model_module": "@jupyter-widgets/controls"
          }
        },
        "7f80edea3e2649c896f6a8d0f0f37758": {
          "model_module": "@jupyter-widgets/base",
          "model_name": "LayoutModel",
          "state": {
            "_view_name": "LayoutView",
            "grid_template_rows": null,
            "right": null,
            "justify_content": null,
            "_view_module": "@jupyter-widgets/base",
            "overflow": null,
            "_model_module_version": "1.2.0",
            "_view_count": null,
            "flex_flow": null,
            "width": "max-content",
            "min_width": null,
            "border": null,
            "align_items": null,
            "bottom": null,
            "_model_module": "@jupyter-widgets/base",
            "top": null,
            "grid_column": null,
            "overflow_y": null,
            "overflow_x": null,
            "grid_auto_flow": null,
            "grid_area": null,
            "grid_template_columns": null,
            "flex": null,
            "_model_name": "LayoutModel",
            "justify_items": null,
            "grid_row": null,
            "max_height": null,
            "align_content": null,
            "visibility": null,
            "align_self": null,
            "height": null,
            "min_height": null,
            "padding": null,
            "grid_auto_rows": null,
            "grid_gap": null,
            "max_width": null,
            "order": null,
            "_view_module_version": "1.2.0",
            "grid_template_areas": null,
            "object_position": null,
            "object_fit": null,
            "grid_auto_columns": null,
            "margin": null,
            "display": null,
            "left": null
          }
        },
        "77260aa59170484484cde1f57e53ea17": {
          "model_module": "@jupyter-widgets/controls",
          "model_name": "DescriptionStyleModel",
          "state": {
            "_view_name": "StyleView",
            "_model_name": "DescriptionStyleModel",
            "description_width": "",
            "_view_module": "@jupyter-widgets/base",
            "_model_module_version": "1.5.0",
            "_view_count": null,
            "_view_module_version": "1.2.0",
            "_model_module": "@jupyter-widgets/controls"
          }
        },
        "e72bdaf061cc46c9972dfbbac2656557": {
          "model_module": "@jupyter-widgets/base",
          "model_name": "LayoutModel",
          "state": {
            "_view_name": "LayoutView",
            "grid_template_rows": null,
            "right": null,
            "justify_content": null,
            "_view_module": "@jupyter-widgets/base",
            "overflow": null,
            "_model_module_version": "1.2.0",
            "_view_count": null,
            "flex_flow": null,
            "width": "max-content",
            "min_width": null,
            "border": null,
            "align_items": null,
            "bottom": null,
            "_model_module": "@jupyter-widgets/base",
            "top": null,
            "grid_column": null,
            "overflow_y": null,
            "overflow_x": null,
            "grid_auto_flow": null,
            "grid_area": null,
            "grid_template_columns": null,
            "flex": null,
            "_model_name": "LayoutModel",
            "justify_items": null,
            "grid_row": null,
            "max_height": null,
            "align_content": null,
            "visibility": null,
            "align_self": null,
            "height": null,
            "min_height": null,
            "padding": null,
            "grid_auto_rows": null,
            "grid_gap": null,
            "max_width": null,
            "order": null,
            "_view_module_version": "1.2.0",
            "grid_template_areas": null,
            "object_position": null,
            "object_fit": null,
            "grid_auto_columns": null,
            "margin": null,
            "display": null,
            "left": null
          }
        },
        "0896f7d2a20d469d94a1783eb7f07411": {
          "model_module": "@jupyter-widgets/controls",
          "model_name": "DescriptionStyleModel",
          "state": {
            "_view_name": "StyleView",
            "_model_name": "DescriptionStyleModel",
            "description_width": "",
            "_view_module": "@jupyter-widgets/base",
            "_model_module_version": "1.5.0",
            "_view_count": null,
            "_view_module_version": "1.2.0",
            "_model_module": "@jupyter-widgets/controls"
          }
        },
        "acbd065f50724e2caecb8294171c7ab6": {
          "model_module": "@jupyter-widgets/base",
          "model_name": "LayoutModel",
          "state": {
            "_view_name": "LayoutView",
            "grid_template_rows": null,
            "right": null,
            "justify_content": null,
            "_view_module": "@jupyter-widgets/base",
            "overflow": null,
            "_model_module_version": "1.2.0",
            "_view_count": null,
            "flex_flow": null,
            "width": "max-content",
            "min_width": null,
            "border": null,
            "align_items": null,
            "bottom": null,
            "_model_module": "@jupyter-widgets/base",
            "top": null,
            "grid_column": null,
            "overflow_y": null,
            "overflow_x": null,
            "grid_auto_flow": null,
            "grid_area": null,
            "grid_template_columns": null,
            "flex": null,
            "_model_name": "LayoutModel",
            "justify_items": null,
            "grid_row": null,
            "max_height": null,
            "align_content": null,
            "visibility": null,
            "align_self": null,
            "height": null,
            "min_height": null,
            "padding": null,
            "grid_auto_rows": null,
            "grid_gap": null,
            "max_width": null,
            "order": null,
            "_view_module_version": "1.2.0",
            "grid_template_areas": null,
            "object_position": null,
            "object_fit": null,
            "grid_auto_columns": null,
            "margin": null,
            "display": null,
            "left": null
          }
        },
        "4e19f77c7bb644ad85e04328e2b10888": {
          "model_module": "@jupyter-widgets/controls",
          "model_name": "DescriptionStyleModel",
          "state": {
            "_view_name": "StyleView",
            "_model_name": "DescriptionStyleModel",
            "description_width": "",
            "_view_module": "@jupyter-widgets/base",
            "_model_module_version": "1.5.0",
            "_view_count": null,
            "_view_module_version": "1.2.0",
            "_model_module": "@jupyter-widgets/controls"
          }
        },
        "cba0f60a21ff4faab9999e58696b9b98": {
          "model_module": "@jupyter-widgets/base",
          "model_name": "LayoutModel",
          "state": {
            "_view_name": "LayoutView",
            "grid_template_rows": null,
            "right": null,
            "justify_content": null,
            "_view_module": "@jupyter-widgets/base",
            "overflow": null,
            "_model_module_version": "1.2.0",
            "_view_count": null,
            "flex_flow": null,
            "width": "max-content",
            "min_width": null,
            "border": null,
            "align_items": null,
            "bottom": null,
            "_model_module": "@jupyter-widgets/base",
            "top": null,
            "grid_column": null,
            "overflow_y": null,
            "overflow_x": null,
            "grid_auto_flow": null,
            "grid_area": null,
            "grid_template_columns": null,
            "flex": null,
            "_model_name": "LayoutModel",
            "justify_items": null,
            "grid_row": null,
            "max_height": null,
            "align_content": null,
            "visibility": null,
            "align_self": null,
            "height": null,
            "min_height": null,
            "padding": null,
            "grid_auto_rows": null,
            "grid_gap": null,
            "max_width": null,
            "order": null,
            "_view_module_version": "1.2.0",
            "grid_template_areas": null,
            "object_position": null,
            "object_fit": null,
            "grid_auto_columns": null,
            "margin": null,
            "display": null,
            "left": null
          }
        },
        "c8f9138f94ea49249237c503d2b88e0f": {
          "model_module": "@jupyter-widgets/controls",
          "model_name": "DescriptionStyleModel",
          "state": {
            "_view_name": "StyleView",
            "_model_name": "DescriptionStyleModel",
            "description_width": "",
            "_view_module": "@jupyter-widgets/base",
            "_model_module_version": "1.5.0",
            "_view_count": null,
            "_view_module_version": "1.2.0",
            "_model_module": "@jupyter-widgets/controls"
          }
        },
        "029057c54575437cbe6c418d80496d0a": {
          "model_module": "@jupyter-widgets/base",
          "model_name": "LayoutModel",
          "state": {
            "_view_name": "LayoutView",
            "grid_template_rows": null,
            "right": null,
            "justify_content": null,
            "_view_module": "@jupyter-widgets/base",
            "overflow": null,
            "_model_module_version": "1.2.0",
            "_view_count": null,
            "flex_flow": null,
            "width": "max-content",
            "min_width": null,
            "border": null,
            "align_items": null,
            "bottom": null,
            "_model_module": "@jupyter-widgets/base",
            "top": null,
            "grid_column": null,
            "overflow_y": null,
            "overflow_x": null,
            "grid_auto_flow": null,
            "grid_area": null,
            "grid_template_columns": null,
            "flex": null,
            "_model_name": "LayoutModel",
            "justify_items": null,
            "grid_row": null,
            "max_height": null,
            "align_content": null,
            "visibility": null,
            "align_self": null,
            "height": null,
            "min_height": null,
            "padding": null,
            "grid_auto_rows": null,
            "grid_gap": null,
            "max_width": null,
            "order": null,
            "_view_module_version": "1.2.0",
            "grid_template_areas": null,
            "object_position": null,
            "object_fit": null,
            "grid_auto_columns": null,
            "margin": null,
            "display": null,
            "left": null
          }
        },
        "8196ade67ef94d22b14016f16e0ac7cd": {
          "model_module": "@jupyter-widgets/controls",
          "model_name": "DescriptionStyleModel",
          "state": {
            "_view_name": "StyleView",
            "_model_name": "DescriptionStyleModel",
            "description_width": "",
            "_view_module": "@jupyter-widgets/base",
            "_model_module_version": "1.5.0",
            "_view_count": null,
            "_view_module_version": "1.2.0",
            "_model_module": "@jupyter-widgets/controls"
          }
        },
        "1bfd554e7fd2452681f29283718f1395": {
          "model_module": "@jupyter-widgets/base",
          "model_name": "LayoutModel",
          "state": {
            "_view_name": "LayoutView",
            "grid_template_rows": null,
            "right": null,
            "justify_content": null,
            "_view_module": "@jupyter-widgets/base",
            "overflow": null,
            "_model_module_version": "1.2.0",
            "_view_count": null,
            "flex_flow": null,
            "width": "max-content",
            "min_width": null,
            "border": null,
            "align_items": null,
            "bottom": null,
            "_model_module": "@jupyter-widgets/base",
            "top": null,
            "grid_column": null,
            "overflow_y": null,
            "overflow_x": null,
            "grid_auto_flow": null,
            "grid_area": null,
            "grid_template_columns": null,
            "flex": null,
            "_model_name": "LayoutModel",
            "justify_items": null,
            "grid_row": null,
            "max_height": null,
            "align_content": null,
            "visibility": null,
            "align_self": null,
            "height": null,
            "min_height": null,
            "padding": null,
            "grid_auto_rows": null,
            "grid_gap": null,
            "max_width": null,
            "order": null,
            "_view_module_version": "1.2.0",
            "grid_template_areas": null,
            "object_position": null,
            "object_fit": null,
            "grid_auto_columns": null,
            "margin": null,
            "display": null,
            "left": null
          }
        },
        "879300aeef114ed39b77c6abeb1bcbb8": {
          "model_module": "@jupyter-widgets/controls",
          "model_name": "DescriptionStyleModel",
          "state": {
            "_view_name": "StyleView",
            "_model_name": "DescriptionStyleModel",
            "description_width": "",
            "_view_module": "@jupyter-widgets/base",
            "_model_module_version": "1.5.0",
            "_view_count": null,
            "_view_module_version": "1.2.0",
            "_model_module": "@jupyter-widgets/controls"
          }
        },
        "dec49502c92b482c914638d5edceb0b0": {
          "model_module": "@jupyter-widgets/base",
          "model_name": "LayoutModel",
          "state": {
            "_view_name": "LayoutView",
            "grid_template_rows": null,
            "right": null,
            "justify_content": null,
            "_view_module": "@jupyter-widgets/base",
            "overflow": null,
            "_model_module_version": "1.2.0",
            "_view_count": null,
            "flex_flow": null,
            "width": "max-content",
            "min_width": null,
            "border": null,
            "align_items": null,
            "bottom": null,
            "_model_module": "@jupyter-widgets/base",
            "top": null,
            "grid_column": null,
            "overflow_y": null,
            "overflow_x": null,
            "grid_auto_flow": null,
            "grid_area": null,
            "grid_template_columns": null,
            "flex": null,
            "_model_name": "LayoutModel",
            "justify_items": null,
            "grid_row": null,
            "max_height": null,
            "align_content": null,
            "visibility": null,
            "align_self": null,
            "height": null,
            "min_height": null,
            "padding": null,
            "grid_auto_rows": null,
            "grid_gap": null,
            "max_width": null,
            "order": null,
            "_view_module_version": "1.2.0",
            "grid_template_areas": null,
            "object_position": null,
            "object_fit": null,
            "grid_auto_columns": null,
            "margin": null,
            "display": null,
            "left": null
          }
        },
        "7002a416a3ef43b29159d98f525650e5": {
          "model_module": "@jupyter-widgets/controls",
          "model_name": "DescriptionStyleModel",
          "state": {
            "_view_name": "StyleView",
            "_model_name": "DescriptionStyleModel",
            "description_width": "",
            "_view_module": "@jupyter-widgets/base",
            "_model_module_version": "1.5.0",
            "_view_count": null,
            "_view_module_version": "1.2.0",
            "_model_module": "@jupyter-widgets/controls"
          }
        },
        "d0fa13b5ee894601a90d3e7594e4bb60": {
          "model_module": "@jupyter-widgets/base",
          "model_name": "LayoutModel",
          "state": {
            "_view_name": "LayoutView",
            "grid_template_rows": null,
            "right": null,
            "justify_content": null,
            "_view_module": "@jupyter-widgets/base",
            "overflow": null,
            "_model_module_version": "1.2.0",
            "_view_count": null,
            "flex_flow": null,
            "width": "max-content",
            "min_width": null,
            "border": null,
            "align_items": null,
            "bottom": null,
            "_model_module": "@jupyter-widgets/base",
            "top": null,
            "grid_column": null,
            "overflow_y": null,
            "overflow_x": null,
            "grid_auto_flow": null,
            "grid_area": null,
            "grid_template_columns": null,
            "flex": null,
            "_model_name": "LayoutModel",
            "justify_items": null,
            "grid_row": null,
            "max_height": null,
            "align_content": null,
            "visibility": null,
            "align_self": null,
            "height": null,
            "min_height": null,
            "padding": null,
            "grid_auto_rows": null,
            "grid_gap": null,
            "max_width": null,
            "order": null,
            "_view_module_version": "1.2.0",
            "grid_template_areas": null,
            "object_position": null,
            "object_fit": null,
            "grid_auto_columns": null,
            "margin": null,
            "display": null,
            "left": null
          }
        },
        "24c17b4b40744186a2b3757fa37f0cc3": {
          "model_module": "@jupyter-widgets/controls",
          "model_name": "DescriptionStyleModel",
          "state": {
            "_view_name": "StyleView",
            "_model_name": "DescriptionStyleModel",
            "description_width": "",
            "_view_module": "@jupyter-widgets/base",
            "_model_module_version": "1.5.0",
            "_view_count": null,
            "_view_module_version": "1.2.0",
            "_model_module": "@jupyter-widgets/controls"
          }
        },
        "adadc21e467e4faa95e1f1cb0bc4aded": {
          "model_module": "@jupyter-widgets/base",
          "model_name": "LayoutModel",
          "state": {
            "_view_name": "LayoutView",
            "grid_template_rows": null,
            "right": null,
            "justify_content": null,
            "_view_module": "@jupyter-widgets/base",
            "overflow": null,
            "_model_module_version": "1.2.0",
            "_view_count": null,
            "flex_flow": null,
            "width": "max-content",
            "min_width": null,
            "border": null,
            "align_items": null,
            "bottom": null,
            "_model_module": "@jupyter-widgets/base",
            "top": null,
            "grid_column": null,
            "overflow_y": null,
            "overflow_x": null,
            "grid_auto_flow": null,
            "grid_area": null,
            "grid_template_columns": null,
            "flex": null,
            "_model_name": "LayoutModel",
            "justify_items": null,
            "grid_row": null,
            "max_height": null,
            "align_content": null,
            "visibility": null,
            "align_self": null,
            "height": null,
            "min_height": null,
            "padding": null,
            "grid_auto_rows": null,
            "grid_gap": null,
            "max_width": null,
            "order": null,
            "_view_module_version": "1.2.0",
            "grid_template_areas": null,
            "object_position": null,
            "object_fit": null,
            "grid_auto_columns": null,
            "margin": null,
            "display": null,
            "left": null
          }
        },
        "be810b28dae44aa6859f8cf41854d7d8": {
          "model_module": "@jupyter-widgets/controls",
          "model_name": "DescriptionStyleModel",
          "state": {
            "_view_name": "StyleView",
            "_model_name": "DescriptionStyleModel",
            "description_width": "",
            "_view_module": "@jupyter-widgets/base",
            "_model_module_version": "1.5.0",
            "_view_count": null,
            "_view_module_version": "1.2.0",
            "_model_module": "@jupyter-widgets/controls"
          }
        },
        "e0da66f355394a298ded2169bab894ba": {
          "model_module": "@jupyter-widgets/base",
          "model_name": "LayoutModel",
          "state": {
            "_view_name": "LayoutView",
            "grid_template_rows": null,
            "right": null,
            "justify_content": null,
            "_view_module": "@jupyter-widgets/base",
            "overflow": null,
            "_model_module_version": "1.2.0",
            "_view_count": null,
            "flex_flow": null,
            "width": "max-content",
            "min_width": null,
            "border": null,
            "align_items": null,
            "bottom": null,
            "_model_module": "@jupyter-widgets/base",
            "top": null,
            "grid_column": null,
            "overflow_y": null,
            "overflow_x": null,
            "grid_auto_flow": null,
            "grid_area": null,
            "grid_template_columns": null,
            "flex": null,
            "_model_name": "LayoutModel",
            "justify_items": null,
            "grid_row": null,
            "max_height": null,
            "align_content": null,
            "visibility": null,
            "align_self": null,
            "height": null,
            "min_height": null,
            "padding": null,
            "grid_auto_rows": null,
            "grid_gap": null,
            "max_width": null,
            "order": null,
            "_view_module_version": "1.2.0",
            "grid_template_areas": null,
            "object_position": null,
            "object_fit": null,
            "grid_auto_columns": null,
            "margin": null,
            "display": null,
            "left": null
          }
        },
        "21390064463b48c49d5a4a8893bff0fe": {
          "model_module": "@jupyter-widgets/controls",
          "model_name": "DescriptionStyleModel",
          "state": {
            "_view_name": "StyleView",
            "_model_name": "DescriptionStyleModel",
            "description_width": "",
            "_view_module": "@jupyter-widgets/base",
            "_model_module_version": "1.5.0",
            "_view_count": null,
            "_view_module_version": "1.2.0",
            "_model_module": "@jupyter-widgets/controls"
          }
        },
        "c54ad825e44f479faf866cfb56fdd22f": {
          "model_module": "@jupyter-widgets/base",
          "model_name": "LayoutModel",
          "state": {
            "_view_name": "LayoutView",
            "grid_template_rows": null,
            "right": null,
            "justify_content": null,
            "_view_module": "@jupyter-widgets/base",
            "overflow": null,
            "_model_module_version": "1.2.0",
            "_view_count": null,
            "flex_flow": null,
            "width": "max-content",
            "min_width": null,
            "border": null,
            "align_items": null,
            "bottom": null,
            "_model_module": "@jupyter-widgets/base",
            "top": null,
            "grid_column": null,
            "overflow_y": null,
            "overflow_x": null,
            "grid_auto_flow": null,
            "grid_area": null,
            "grid_template_columns": null,
            "flex": null,
            "_model_name": "LayoutModel",
            "justify_items": null,
            "grid_row": null,
            "max_height": null,
            "align_content": null,
            "visibility": null,
            "align_self": null,
            "height": null,
            "min_height": null,
            "padding": null,
            "grid_auto_rows": null,
            "grid_gap": null,
            "max_width": null,
            "order": null,
            "_view_module_version": "1.2.0",
            "grid_template_areas": null,
            "object_position": null,
            "object_fit": null,
            "grid_auto_columns": null,
            "margin": null,
            "display": null,
            "left": null
          }
        },
        "2e993dcec89a46779dcd1e4452f0b962": {
          "model_module": "@jupyter-widgets/controls",
          "model_name": "DescriptionStyleModel",
          "state": {
            "_view_name": "StyleView",
            "_model_name": "DescriptionStyleModel",
            "description_width": "",
            "_view_module": "@jupyter-widgets/base",
            "_model_module_version": "1.5.0",
            "_view_count": null,
            "_view_module_version": "1.2.0",
            "_model_module": "@jupyter-widgets/controls"
          }
        },
        "279306bd413d44a3b28927d26b7b4392": {
          "model_module": "@jupyter-widgets/base",
          "model_name": "LayoutModel",
          "state": {
            "_view_name": "LayoutView",
            "grid_template_rows": null,
            "right": null,
            "justify_content": null,
            "_view_module": "@jupyter-widgets/base",
            "overflow": null,
            "_model_module_version": "1.2.0",
            "_view_count": null,
            "flex_flow": null,
            "width": "max-content",
            "min_width": null,
            "border": null,
            "align_items": null,
            "bottom": null,
            "_model_module": "@jupyter-widgets/base",
            "top": null,
            "grid_column": null,
            "overflow_y": null,
            "overflow_x": null,
            "grid_auto_flow": null,
            "grid_area": null,
            "grid_template_columns": null,
            "flex": null,
            "_model_name": "LayoutModel",
            "justify_items": null,
            "grid_row": null,
            "max_height": null,
            "align_content": null,
            "visibility": null,
            "align_self": null,
            "height": null,
            "min_height": null,
            "padding": null,
            "grid_auto_rows": null,
            "grid_gap": null,
            "max_width": null,
            "order": null,
            "_view_module_version": "1.2.0",
            "grid_template_areas": null,
            "object_position": null,
            "object_fit": null,
            "grid_auto_columns": null,
            "margin": null,
            "display": null,
            "left": null
          }
        },
        "e722531e13ef4bdbac6039668cee1642": {
          "model_module": "@jupyter-widgets/controls",
          "model_name": "DescriptionStyleModel",
          "state": {
            "_view_name": "StyleView",
            "_model_name": "DescriptionStyleModel",
            "description_width": "",
            "_view_module": "@jupyter-widgets/base",
            "_model_module_version": "1.5.0",
            "_view_count": null,
            "_view_module_version": "1.2.0",
            "_model_module": "@jupyter-widgets/controls"
          }
        },
        "bde7725cb79e4ca4bfc5229462eea233": {
          "model_module": "@jupyter-widgets/base",
          "model_name": "LayoutModel",
          "state": {
            "_view_name": "LayoutView",
            "grid_template_rows": null,
            "right": null,
            "justify_content": null,
            "_view_module": "@jupyter-widgets/base",
            "overflow": null,
            "_model_module_version": "1.2.0",
            "_view_count": null,
            "flex_flow": null,
            "width": "max-content",
            "min_width": null,
            "border": null,
            "align_items": null,
            "bottom": null,
            "_model_module": "@jupyter-widgets/base",
            "top": null,
            "grid_column": null,
            "overflow_y": null,
            "overflow_x": null,
            "grid_auto_flow": null,
            "grid_area": null,
            "grid_template_columns": null,
            "flex": null,
            "_model_name": "LayoutModel",
            "justify_items": null,
            "grid_row": null,
            "max_height": null,
            "align_content": null,
            "visibility": null,
            "align_self": null,
            "height": null,
            "min_height": null,
            "padding": null,
            "grid_auto_rows": null,
            "grid_gap": null,
            "max_width": null,
            "order": null,
            "_view_module_version": "1.2.0",
            "grid_template_areas": null,
            "object_position": null,
            "object_fit": null,
            "grid_auto_columns": null,
            "margin": null,
            "display": null,
            "left": null
          }
        },
        "2b411cdc0e33409db89660c9d3590946": {
          "model_module": "@jupyter-widgets/controls",
          "model_name": "DescriptionStyleModel",
          "state": {
            "_view_name": "StyleView",
            "_model_name": "DescriptionStyleModel",
            "description_width": "",
            "_view_module": "@jupyter-widgets/base",
            "_model_module_version": "1.5.0",
            "_view_count": null,
            "_view_module_version": "1.2.0",
            "_model_module": "@jupyter-widgets/controls"
          }
        },
        "9adc6fc1da5a4549a21a7d19ed28b326": {
          "model_module": "@jupyter-widgets/base",
          "model_name": "LayoutModel",
          "state": {
            "_view_name": "LayoutView",
            "grid_template_rows": null,
            "right": null,
            "justify_content": null,
            "_view_module": "@jupyter-widgets/base",
            "overflow": null,
            "_model_module_version": "1.2.0",
            "_view_count": null,
            "flex_flow": null,
            "width": "max-content",
            "min_width": null,
            "border": null,
            "align_items": null,
            "bottom": null,
            "_model_module": "@jupyter-widgets/base",
            "top": null,
            "grid_column": null,
            "overflow_y": null,
            "overflow_x": null,
            "grid_auto_flow": null,
            "grid_area": null,
            "grid_template_columns": null,
            "flex": null,
            "_model_name": "LayoutModel",
            "justify_items": null,
            "grid_row": null,
            "max_height": null,
            "align_content": null,
            "visibility": null,
            "align_self": null,
            "height": null,
            "min_height": null,
            "padding": null,
            "grid_auto_rows": null,
            "grid_gap": null,
            "max_width": null,
            "order": null,
            "_view_module_version": "1.2.0",
            "grid_template_areas": null,
            "object_position": null,
            "object_fit": null,
            "grid_auto_columns": null,
            "margin": null,
            "display": null,
            "left": null
          }
        },
        "504699e63b004540a4c81e90ca9c1c3e": {
          "model_module": "@jupyter-widgets/controls",
          "model_name": "DescriptionStyleModel",
          "state": {
            "_view_name": "StyleView",
            "_model_name": "DescriptionStyleModel",
            "description_width": "",
            "_view_module": "@jupyter-widgets/base",
            "_model_module_version": "1.5.0",
            "_view_count": null,
            "_view_module_version": "1.2.0",
            "_model_module": "@jupyter-widgets/controls"
          }
        },
        "cee4bb72a3264b6eb5a9d6957987f821": {
          "model_module": "@jupyter-widgets/base",
          "model_name": "LayoutModel",
          "state": {
            "_view_name": "LayoutView",
            "grid_template_rows": null,
            "right": null,
            "justify_content": null,
            "_view_module": "@jupyter-widgets/base",
            "overflow": null,
            "_model_module_version": "1.2.0",
            "_view_count": null,
            "flex_flow": null,
            "width": "max-content",
            "min_width": null,
            "border": null,
            "align_items": null,
            "bottom": null,
            "_model_module": "@jupyter-widgets/base",
            "top": null,
            "grid_column": null,
            "overflow_y": null,
            "overflow_x": null,
            "grid_auto_flow": null,
            "grid_area": null,
            "grid_template_columns": null,
            "flex": null,
            "_model_name": "LayoutModel",
            "justify_items": null,
            "grid_row": null,
            "max_height": null,
            "align_content": null,
            "visibility": null,
            "align_self": null,
            "height": null,
            "min_height": null,
            "padding": null,
            "grid_auto_rows": null,
            "grid_gap": null,
            "max_width": null,
            "order": null,
            "_view_module_version": "1.2.0",
            "grid_template_areas": null,
            "object_position": null,
            "object_fit": null,
            "grid_auto_columns": null,
            "margin": null,
            "display": null,
            "left": null
          }
        },
        "fed9bcadd9ea4b8984572b4a620d3a16": {
          "model_module": "@jupyter-widgets/controls",
          "model_name": "DescriptionStyleModel",
          "state": {
            "_view_name": "StyleView",
            "_model_name": "DescriptionStyleModel",
            "description_width": "",
            "_view_module": "@jupyter-widgets/base",
            "_model_module_version": "1.5.0",
            "_view_count": null,
            "_view_module_version": "1.2.0",
            "_model_module": "@jupyter-widgets/controls"
          }
        },
        "8a154206e2bc411e85b862d96fa8ddd2": {
          "model_module": "@jupyter-widgets/base",
          "model_name": "LayoutModel",
          "state": {
            "_view_name": "LayoutView",
            "grid_template_rows": null,
            "right": null,
            "justify_content": null,
            "_view_module": "@jupyter-widgets/base",
            "overflow": null,
            "_model_module_version": "1.2.0",
            "_view_count": null,
            "flex_flow": null,
            "width": "max-content",
            "min_width": null,
            "border": null,
            "align_items": null,
            "bottom": null,
            "_model_module": "@jupyter-widgets/base",
            "top": null,
            "grid_column": null,
            "overflow_y": null,
            "overflow_x": null,
            "grid_auto_flow": null,
            "grid_area": null,
            "grid_template_columns": null,
            "flex": null,
            "_model_name": "LayoutModel",
            "justify_items": null,
            "grid_row": null,
            "max_height": null,
            "align_content": null,
            "visibility": null,
            "align_self": null,
            "height": null,
            "min_height": null,
            "padding": null,
            "grid_auto_rows": null,
            "grid_gap": null,
            "max_width": null,
            "order": null,
            "_view_module_version": "1.2.0",
            "grid_template_areas": null,
            "object_position": null,
            "object_fit": null,
            "grid_auto_columns": null,
            "margin": null,
            "display": null,
            "left": null
          }
        },
        "41e5ed8d6da944d38509341dd87167d2": {
          "model_module": "@jupyter-widgets/controls",
          "model_name": "DescriptionStyleModel",
          "state": {
            "_view_name": "StyleView",
            "_model_name": "DescriptionStyleModel",
            "description_width": "",
            "_view_module": "@jupyter-widgets/base",
            "_model_module_version": "1.5.0",
            "_view_count": null,
            "_view_module_version": "1.2.0",
            "_model_module": "@jupyter-widgets/controls"
          }
        },
        "1adb599345e448368b96160be6ec6358": {
          "model_module": "@jupyter-widgets/base",
          "model_name": "LayoutModel",
          "state": {
            "_view_name": "LayoutView",
            "grid_template_rows": null,
            "right": null,
            "justify_content": null,
            "_view_module": "@jupyter-widgets/base",
            "overflow": null,
            "_model_module_version": "1.2.0",
            "_view_count": null,
            "flex_flow": null,
            "width": "max-content",
            "min_width": null,
            "border": null,
            "align_items": null,
            "bottom": null,
            "_model_module": "@jupyter-widgets/base",
            "top": null,
            "grid_column": null,
            "overflow_y": null,
            "overflow_x": null,
            "grid_auto_flow": null,
            "grid_area": null,
            "grid_template_columns": null,
            "flex": null,
            "_model_name": "LayoutModel",
            "justify_items": null,
            "grid_row": null,
            "max_height": null,
            "align_content": null,
            "visibility": null,
            "align_self": null,
            "height": null,
            "min_height": null,
            "padding": null,
            "grid_auto_rows": null,
            "grid_gap": null,
            "max_width": null,
            "order": null,
            "_view_module_version": "1.2.0",
            "grid_template_areas": null,
            "object_position": null,
            "object_fit": null,
            "grid_auto_columns": null,
            "margin": null,
            "display": null,
            "left": null
          }
        },
        "6e0f5009191e4f019bbf3c866b06eaa5": {
          "model_module": "@jupyter-widgets/controls",
          "model_name": "DescriptionStyleModel",
          "state": {
            "_view_name": "StyleView",
            "_model_name": "DescriptionStyleModel",
            "description_width": "",
            "_view_module": "@jupyter-widgets/base",
            "_model_module_version": "1.5.0",
            "_view_count": null,
            "_view_module_version": "1.2.0",
            "_model_module": "@jupyter-widgets/controls"
          }
        },
        "6cac131043e94110a83f5bc2a5055150": {
          "model_module": "@jupyter-widgets/base",
          "model_name": "LayoutModel",
          "state": {
            "_view_name": "LayoutView",
            "grid_template_rows": null,
            "right": null,
            "justify_content": null,
            "_view_module": "@jupyter-widgets/base",
            "overflow": null,
            "_model_module_version": "1.2.0",
            "_view_count": null,
            "flex_flow": null,
            "width": "max-content",
            "min_width": null,
            "border": null,
            "align_items": null,
            "bottom": null,
            "_model_module": "@jupyter-widgets/base",
            "top": null,
            "grid_column": null,
            "overflow_y": null,
            "overflow_x": null,
            "grid_auto_flow": null,
            "grid_area": null,
            "grid_template_columns": null,
            "flex": null,
            "_model_name": "LayoutModel",
            "justify_items": null,
            "grid_row": null,
            "max_height": null,
            "align_content": null,
            "visibility": null,
            "align_self": null,
            "height": null,
            "min_height": null,
            "padding": null,
            "grid_auto_rows": null,
            "grid_gap": null,
            "max_width": null,
            "order": null,
            "_view_module_version": "1.2.0",
            "grid_template_areas": null,
            "object_position": null,
            "object_fit": null,
            "grid_auto_columns": null,
            "margin": null,
            "display": null,
            "left": null
          }
        },
        "8d754410dccf43e7be18479a4a39eaef": {
          "model_module": "@jupyter-widgets/controls",
          "model_name": "DescriptionStyleModel",
          "state": {
            "_view_name": "StyleView",
            "_model_name": "DescriptionStyleModel",
            "description_width": "",
            "_view_module": "@jupyter-widgets/base",
            "_model_module_version": "1.5.0",
            "_view_count": null,
            "_view_module_version": "1.2.0",
            "_model_module": "@jupyter-widgets/controls"
          }
        },
        "e1687531583f4efda435ebdf40f52621": {
          "model_module": "@jupyter-widgets/base",
          "model_name": "LayoutModel",
          "state": {
            "_view_name": "LayoutView",
            "grid_template_rows": null,
            "right": null,
            "justify_content": null,
            "_view_module": "@jupyter-widgets/base",
            "overflow": null,
            "_model_module_version": "1.2.0",
            "_view_count": null,
            "flex_flow": null,
            "width": "max-content",
            "min_width": null,
            "border": null,
            "align_items": null,
            "bottom": null,
            "_model_module": "@jupyter-widgets/base",
            "top": null,
            "grid_column": null,
            "overflow_y": null,
            "overflow_x": null,
            "grid_auto_flow": null,
            "grid_area": null,
            "grid_template_columns": null,
            "flex": null,
            "_model_name": "LayoutModel",
            "justify_items": null,
            "grid_row": null,
            "max_height": null,
            "align_content": null,
            "visibility": null,
            "align_self": null,
            "height": null,
            "min_height": null,
            "padding": null,
            "grid_auto_rows": null,
            "grid_gap": null,
            "max_width": null,
            "order": null,
            "_view_module_version": "1.2.0",
            "grid_template_areas": null,
            "object_position": null,
            "object_fit": null,
            "grid_auto_columns": null,
            "margin": null,
            "display": null,
            "left": null
          }
        },
        "aa588f0a498741f39e0b4c9d7b300965": {
          "model_module": "@jupyter-widgets/controls",
          "model_name": "DescriptionStyleModel",
          "state": {
            "_view_name": "StyleView",
            "_model_name": "DescriptionStyleModel",
            "description_width": "",
            "_view_module": "@jupyter-widgets/base",
            "_model_module_version": "1.5.0",
            "_view_count": null,
            "_view_module_version": "1.2.0",
            "_model_module": "@jupyter-widgets/controls"
          }
        },
        "d63a0a9e9bf74f8893d65111446dff13": {
          "model_module": "@jupyter-widgets/base",
          "model_name": "LayoutModel",
          "state": {
            "_view_name": "LayoutView",
            "grid_template_rows": null,
            "right": null,
            "justify_content": null,
            "_view_module": "@jupyter-widgets/base",
            "overflow": null,
            "_model_module_version": "1.2.0",
            "_view_count": null,
            "flex_flow": null,
            "width": "max-content",
            "min_width": null,
            "border": null,
            "align_items": null,
            "bottom": null,
            "_model_module": "@jupyter-widgets/base",
            "top": null,
            "grid_column": null,
            "overflow_y": null,
            "overflow_x": null,
            "grid_auto_flow": null,
            "grid_area": null,
            "grid_template_columns": null,
            "flex": null,
            "_model_name": "LayoutModel",
            "justify_items": null,
            "grid_row": null,
            "max_height": null,
            "align_content": null,
            "visibility": null,
            "align_self": null,
            "height": null,
            "min_height": null,
            "padding": null,
            "grid_auto_rows": null,
            "grid_gap": null,
            "max_width": null,
            "order": null,
            "_view_module_version": "1.2.0",
            "grid_template_areas": null,
            "object_position": null,
            "object_fit": null,
            "grid_auto_columns": null,
            "margin": null,
            "display": null,
            "left": null
          }
        },
        "1dd90f8768064b4cab86188a69c2adc9": {
          "model_module": "@jupyter-widgets/controls",
          "model_name": "DescriptionStyleModel",
          "state": {
            "_view_name": "StyleView",
            "_model_name": "DescriptionStyleModel",
            "description_width": "",
            "_view_module": "@jupyter-widgets/base",
            "_model_module_version": "1.5.0",
            "_view_count": null,
            "_view_module_version": "1.2.0",
            "_model_module": "@jupyter-widgets/controls"
          }
        },
        "570c6cb158eb4f07952a01126f2db077": {
          "model_module": "@jupyter-widgets/base",
          "model_name": "LayoutModel",
          "state": {
            "_view_name": "LayoutView",
            "grid_template_rows": null,
            "right": null,
            "justify_content": null,
            "_view_module": "@jupyter-widgets/base",
            "overflow": null,
            "_model_module_version": "1.2.0",
            "_view_count": null,
            "flex_flow": null,
            "width": "max-content",
            "min_width": null,
            "border": null,
            "align_items": null,
            "bottom": null,
            "_model_module": "@jupyter-widgets/base",
            "top": null,
            "grid_column": null,
            "overflow_y": null,
            "overflow_x": null,
            "grid_auto_flow": null,
            "grid_area": null,
            "grid_template_columns": null,
            "flex": null,
            "_model_name": "LayoutModel",
            "justify_items": null,
            "grid_row": null,
            "max_height": null,
            "align_content": null,
            "visibility": null,
            "align_self": null,
            "height": null,
            "min_height": null,
            "padding": null,
            "grid_auto_rows": null,
            "grid_gap": null,
            "max_width": null,
            "order": null,
            "_view_module_version": "1.2.0",
            "grid_template_areas": null,
            "object_position": null,
            "object_fit": null,
            "grid_auto_columns": null,
            "margin": null,
            "display": null,
            "left": null
          }
        },
        "eb2ad175abd442a68cc7f2c27cb304d7": {
          "model_module": "@jupyter-widgets/controls",
          "model_name": "DescriptionStyleModel",
          "state": {
            "_view_name": "StyleView",
            "_model_name": "DescriptionStyleModel",
            "description_width": "",
            "_view_module": "@jupyter-widgets/base",
            "_model_module_version": "1.5.0",
            "_view_count": null,
            "_view_module_version": "1.2.0",
            "_model_module": "@jupyter-widgets/controls"
          }
        },
        "60b3816f5089489eaca26a2e331606f1": {
          "model_module": "@jupyter-widgets/base",
          "model_name": "LayoutModel",
          "state": {
            "_view_name": "LayoutView",
            "grid_template_rows": null,
            "right": null,
            "justify_content": null,
            "_view_module": "@jupyter-widgets/base",
            "overflow": null,
            "_model_module_version": "1.2.0",
            "_view_count": null,
            "flex_flow": null,
            "width": "max-content",
            "min_width": null,
            "border": null,
            "align_items": null,
            "bottom": null,
            "_model_module": "@jupyter-widgets/base",
            "top": null,
            "grid_column": null,
            "overflow_y": null,
            "overflow_x": null,
            "grid_auto_flow": null,
            "grid_area": null,
            "grid_template_columns": null,
            "flex": null,
            "_model_name": "LayoutModel",
            "justify_items": null,
            "grid_row": null,
            "max_height": null,
            "align_content": null,
            "visibility": null,
            "align_self": null,
            "height": null,
            "min_height": null,
            "padding": null,
            "grid_auto_rows": null,
            "grid_gap": null,
            "max_width": null,
            "order": null,
            "_view_module_version": "1.2.0",
            "grid_template_areas": null,
            "object_position": null,
            "object_fit": null,
            "grid_auto_columns": null,
            "margin": null,
            "display": null,
            "left": null
          }
        },
        "7cbb35618c70418eb1b8de26c6f3b8ba": {
          "model_module": "@jupyter-widgets/controls",
          "model_name": "DescriptionStyleModel",
          "state": {
            "_view_name": "StyleView",
            "_model_name": "DescriptionStyleModel",
            "description_width": "",
            "_view_module": "@jupyter-widgets/base",
            "_model_module_version": "1.5.0",
            "_view_count": null,
            "_view_module_version": "1.2.0",
            "_model_module": "@jupyter-widgets/controls"
          }
        },
        "2521dc6132684d67adcc30f9deea4b9d": {
          "model_module": "@jupyter-widgets/base",
          "model_name": "LayoutModel",
          "state": {
            "_view_name": "LayoutView",
            "grid_template_rows": null,
            "right": null,
            "justify_content": null,
            "_view_module": "@jupyter-widgets/base",
            "overflow": null,
            "_model_module_version": "1.2.0",
            "_view_count": null,
            "flex_flow": null,
            "width": "max-content",
            "min_width": null,
            "border": null,
            "align_items": null,
            "bottom": null,
            "_model_module": "@jupyter-widgets/base",
            "top": null,
            "grid_column": null,
            "overflow_y": null,
            "overflow_x": null,
            "grid_auto_flow": null,
            "grid_area": null,
            "grid_template_columns": null,
            "flex": null,
            "_model_name": "LayoutModel",
            "justify_items": null,
            "grid_row": null,
            "max_height": null,
            "align_content": null,
            "visibility": null,
            "align_self": null,
            "height": null,
            "min_height": null,
            "padding": null,
            "grid_auto_rows": null,
            "grid_gap": null,
            "max_width": null,
            "order": null,
            "_view_module_version": "1.2.0",
            "grid_template_areas": null,
            "object_position": null,
            "object_fit": null,
            "grid_auto_columns": null,
            "margin": null,
            "display": null,
            "left": null
          }
        },
        "5cb97745c0924dfaaf349f2a628ca738": {
          "model_module": "@jupyter-widgets/controls",
          "model_name": "DescriptionStyleModel",
          "state": {
            "_view_name": "StyleView",
            "_model_name": "DescriptionStyleModel",
            "description_width": "",
            "_view_module": "@jupyter-widgets/base",
            "_model_module_version": "1.5.0",
            "_view_count": null,
            "_view_module_version": "1.2.0",
            "_model_module": "@jupyter-widgets/controls"
          }
        },
        "c8672a4b645d4f30998d9dc46921638d": {
          "model_module": "@jupyter-widgets/base",
          "model_name": "LayoutModel",
          "state": {
            "_view_name": "LayoutView",
            "grid_template_rows": null,
            "right": null,
            "justify_content": null,
            "_view_module": "@jupyter-widgets/base",
            "overflow": null,
            "_model_module_version": "1.2.0",
            "_view_count": null,
            "flex_flow": null,
            "width": "max-content",
            "min_width": null,
            "border": null,
            "align_items": null,
            "bottom": null,
            "_model_module": "@jupyter-widgets/base",
            "top": null,
            "grid_column": null,
            "overflow_y": null,
            "overflow_x": null,
            "grid_auto_flow": null,
            "grid_area": null,
            "grid_template_columns": null,
            "flex": null,
            "_model_name": "LayoutModel",
            "justify_items": null,
            "grid_row": null,
            "max_height": null,
            "align_content": null,
            "visibility": null,
            "align_self": null,
            "height": null,
            "min_height": null,
            "padding": null,
            "grid_auto_rows": null,
            "grid_gap": null,
            "max_width": null,
            "order": null,
            "_view_module_version": "1.2.0",
            "grid_template_areas": null,
            "object_position": null,
            "object_fit": null,
            "grid_auto_columns": null,
            "margin": null,
            "display": null,
            "left": null
          }
        },
        "22131ba7457a407689753b1b28d22faa": {
          "model_module": "@jupyter-widgets/controls",
          "model_name": "DescriptionStyleModel",
          "state": {
            "_view_name": "StyleView",
            "_model_name": "DescriptionStyleModel",
            "description_width": "",
            "_view_module": "@jupyter-widgets/base",
            "_model_module_version": "1.5.0",
            "_view_count": null,
            "_view_module_version": "1.2.0",
            "_model_module": "@jupyter-widgets/controls"
          }
        },
        "7fae7e4c7bac44b583de1760dc2e653b": {
          "model_module": "@jupyter-widgets/base",
          "model_name": "LayoutModel",
          "state": {
            "_view_name": "LayoutView",
            "grid_template_rows": null,
            "right": null,
            "justify_content": null,
            "_view_module": "@jupyter-widgets/base",
            "overflow": null,
            "_model_module_version": "1.2.0",
            "_view_count": null,
            "flex_flow": null,
            "width": "max-content",
            "min_width": null,
            "border": null,
            "align_items": null,
            "bottom": null,
            "_model_module": "@jupyter-widgets/base",
            "top": null,
            "grid_column": null,
            "overflow_y": null,
            "overflow_x": null,
            "grid_auto_flow": null,
            "grid_area": null,
            "grid_template_columns": null,
            "flex": null,
            "_model_name": "LayoutModel",
            "justify_items": null,
            "grid_row": null,
            "max_height": null,
            "align_content": null,
            "visibility": null,
            "align_self": null,
            "height": null,
            "min_height": null,
            "padding": null,
            "grid_auto_rows": null,
            "grid_gap": null,
            "max_width": null,
            "order": null,
            "_view_module_version": "1.2.0",
            "grid_template_areas": null,
            "object_position": null,
            "object_fit": null,
            "grid_auto_columns": null,
            "margin": null,
            "display": null,
            "left": null
          }
        },
        "70c4f6137e90478f9020bd27e1d5f86d": {
          "model_module": "@jupyter-widgets/controls",
          "model_name": "DescriptionStyleModel",
          "state": {
            "_view_name": "StyleView",
            "_model_name": "DescriptionStyleModel",
            "description_width": "",
            "_view_module": "@jupyter-widgets/base",
            "_model_module_version": "1.5.0",
            "_view_count": null,
            "_view_module_version": "1.2.0",
            "_model_module": "@jupyter-widgets/controls"
          }
        },
        "cf723a296355443eaa624d49d8d4c635": {
          "model_module": "@jupyter-widgets/base",
          "model_name": "LayoutModel",
          "state": {
            "_view_name": "LayoutView",
            "grid_template_rows": null,
            "right": null,
            "justify_content": null,
            "_view_module": "@jupyter-widgets/base",
            "overflow": null,
            "_model_module_version": "1.2.0",
            "_view_count": null,
            "flex_flow": null,
            "width": "max-content",
            "min_width": null,
            "border": null,
            "align_items": null,
            "bottom": null,
            "_model_module": "@jupyter-widgets/base",
            "top": null,
            "grid_column": null,
            "overflow_y": null,
            "overflow_x": null,
            "grid_auto_flow": null,
            "grid_area": null,
            "grid_template_columns": null,
            "flex": null,
            "_model_name": "LayoutModel",
            "justify_items": null,
            "grid_row": null,
            "max_height": null,
            "align_content": null,
            "visibility": null,
            "align_self": null,
            "height": null,
            "min_height": null,
            "padding": null,
            "grid_auto_rows": null,
            "grid_gap": null,
            "max_width": null,
            "order": null,
            "_view_module_version": "1.2.0",
            "grid_template_areas": null,
            "object_position": null,
            "object_fit": null,
            "grid_auto_columns": null,
            "margin": null,
            "display": null,
            "left": null
          }
        },
        "514ea6f245ac4f6682eb93e9e081bf8e": {
          "model_module": "@jupyter-widgets/controls",
          "model_name": "DescriptionStyleModel",
          "state": {
            "_view_name": "StyleView",
            "_model_name": "DescriptionStyleModel",
            "description_width": "",
            "_view_module": "@jupyter-widgets/base",
            "_model_module_version": "1.5.0",
            "_view_count": null,
            "_view_module_version": "1.2.0",
            "_model_module": "@jupyter-widgets/controls"
          }
        },
        "ee2c46c6f81248d38d9831c32a2e3240": {
          "model_module": "@jupyter-widgets/base",
          "model_name": "LayoutModel",
          "state": {
            "_view_name": "LayoutView",
            "grid_template_rows": null,
            "right": null,
            "justify_content": null,
            "_view_module": "@jupyter-widgets/base",
            "overflow": null,
            "_model_module_version": "1.2.0",
            "_view_count": null,
            "flex_flow": null,
            "width": "max-content",
            "min_width": null,
            "border": null,
            "align_items": null,
            "bottom": null,
            "_model_module": "@jupyter-widgets/base",
            "top": null,
            "grid_column": null,
            "overflow_y": null,
            "overflow_x": null,
            "grid_auto_flow": null,
            "grid_area": null,
            "grid_template_columns": null,
            "flex": null,
            "_model_name": "LayoutModel",
            "justify_items": null,
            "grid_row": null,
            "max_height": null,
            "align_content": null,
            "visibility": null,
            "align_self": null,
            "height": null,
            "min_height": null,
            "padding": null,
            "grid_auto_rows": null,
            "grid_gap": null,
            "max_width": null,
            "order": null,
            "_view_module_version": "1.2.0",
            "grid_template_areas": null,
            "object_position": null,
            "object_fit": null,
            "grid_auto_columns": null,
            "margin": null,
            "display": null,
            "left": null
          }
        },
        "3ec8556a69ce4910860741059cdab95a": {
          "model_module": "@jupyter-widgets/controls",
          "model_name": "DescriptionStyleModel",
          "state": {
            "_view_name": "StyleView",
            "_model_name": "DescriptionStyleModel",
            "description_width": "",
            "_view_module": "@jupyter-widgets/base",
            "_model_module_version": "1.5.0",
            "_view_count": null,
            "_view_module_version": "1.2.0",
            "_model_module": "@jupyter-widgets/controls"
          }
        },
        "1988419fc6794ceb9d74eadb258ff400": {
          "model_module": "@jupyter-widgets/base",
          "model_name": "LayoutModel",
          "state": {
            "_view_name": "LayoutView",
            "grid_template_rows": null,
            "right": null,
            "justify_content": null,
            "_view_module": "@jupyter-widgets/base",
            "overflow": null,
            "_model_module_version": "1.2.0",
            "_view_count": null,
            "flex_flow": null,
            "width": "max-content",
            "min_width": null,
            "border": null,
            "align_items": null,
            "bottom": null,
            "_model_module": "@jupyter-widgets/base",
            "top": null,
            "grid_column": null,
            "overflow_y": null,
            "overflow_x": null,
            "grid_auto_flow": null,
            "grid_area": null,
            "grid_template_columns": null,
            "flex": null,
            "_model_name": "LayoutModel",
            "justify_items": null,
            "grid_row": null,
            "max_height": null,
            "align_content": null,
            "visibility": null,
            "align_self": null,
            "height": null,
            "min_height": null,
            "padding": null,
            "grid_auto_rows": null,
            "grid_gap": null,
            "max_width": null,
            "order": null,
            "_view_module_version": "1.2.0",
            "grid_template_areas": null,
            "object_position": null,
            "object_fit": null,
            "grid_auto_columns": null,
            "margin": null,
            "display": null,
            "left": null
          }
        },
        "f4f95bdd5ce44a088752de2f998e0d75": {
          "model_module": "@jupyter-widgets/output",
          "model_name": "OutputModel",
          "state": {
            "_view_name": "OutputView",
            "msg_id": "",
            "_dom_classes": [],
            "_model_name": "OutputModel",
            "outputs": [
              {
                "output_type": "display_data",
                "metadata": {
                  "tags": []
                },
                "image/png": "iVBORw0KGgoAAAANSUhEUgAAAIAAAABcCAIAAAApoCrIAAAGjElEQVR4nO3aX0hTXxwA8PvH3azc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\nXv4BhY3o5e6zQSEAAAAASUVORK5CYII=\n",
                "text/plain": "<PIL.Image.Image image mode=RGB size=128x92 at 0x7F5C96BF3EB8>"
              }
            ],
            "_view_module": "@jupyter-widgets/output",
            "_model_module_version": "1.0.0",
            "_view_count": null,
            "_view_module_version": "1.0.0",
            "layout": "IPY_MODEL_60a12818763f48e2b5fa159a503e65f6",
            "_model_module": "@jupyter-widgets/output"
          }
        },
        "c406c28903e54ff0a13f445cc403a7bf": {
          "model_module": "@jupyter-widgets/controls",
          "model_name": "LabelModel",
          "state": {
            "_view_name": "LabelView",
            "style": "IPY_MODEL_dd541ac22d794a4d8624b3c0c0928da2",
            "_dom_classes": [],
            "description": "",
            "_model_name": "LabelModel",
            "placeholder": "​",
            "_view_module": "@jupyter-widgets/controls",
            "_model_module_version": "1.5.0",
            "value": "Prediction: Nike; Probability: 1.0000",
            "_view_count": null,
            "_view_module_version": "1.5.0",
            "description_tooltip": null,
            "_model_module": "@jupyter-widgets/controls",
            "layout": "IPY_MODEL_1c2caa6407574819acdc258842abf779"
          }
        },
        "dd541ac22d794a4d8624b3c0c0928da2": {
          "model_module": "@jupyter-widgets/controls",
          "model_name": "DescriptionStyleModel",
          "state": {
            "_view_name": "StyleView",
            "_model_name": "DescriptionStyleModel",
            "description_width": "",
            "_view_module": "@jupyter-widgets/base",
            "_model_module_version": "1.5.0",
            "_view_count": null,
            "_view_module_version": "1.2.0",
            "_model_module": "@jupyter-widgets/controls"
          }
        },
        "1c2caa6407574819acdc258842abf779": {
          "model_module": "@jupyter-widgets/base",
          "model_name": "LayoutModel",
          "state": {
            "_view_name": "LayoutView",
            "grid_template_rows": null,
            "right": null,
            "justify_content": null,
            "_view_module": "@jupyter-widgets/base",
            "overflow": null,
            "_model_module_version": "1.2.0",
            "_view_count": null,
            "flex_flow": null,
            "width": null,
            "min_width": null,
            "border": null,
            "align_items": null,
            "bottom": null,
            "_model_module": "@jupyter-widgets/base",
            "top": null,
            "grid_column": null,
            "overflow_y": null,
            "overflow_x": null,
            "grid_auto_flow": null,
            "grid_area": null,
            "grid_template_columns": null,
            "flex": null,
            "_model_name": "LayoutModel",
            "justify_items": null,
            "grid_row": null,
            "max_height": null,
            "align_content": null,
            "visibility": null,
            "align_self": null,
            "height": null,
            "min_height": null,
            "padding": null,
            "grid_auto_rows": null,
            "grid_gap": null,
            "max_width": null,
            "order": null,
            "_view_module_version": "1.2.0",
            "grid_template_areas": null,
            "object_position": null,
            "object_fit": null,
            "grid_auto_columns": null,
            "margin": null,
            "display": null,
            "left": null
          }
        },
        "bbc7cca286704893adbaec657f986ae5": {
          "model_module": "@jupyter-widgets/controls",
          "model_name": "ButtonModel",
          "state": {
            "_view_name": "ButtonView",
            "style": "IPY_MODEL_12686a178ead4625963000822cd14271",
            "_dom_classes": [],
            "description": "Classify",
            "_model_name": "ButtonModel",
            "button_style": "",
            "_view_module": "@jupyter-widgets/controls",
            "_model_module_version": "1.5.0",
            "tooltip": "",
            "_view_count": null,
            "disabled": false,
            "_view_module_version": "1.5.0",
            "layout": "IPY_MODEL_3ff14be5295b44728adba3efbf85e410",
            "_model_module": "@jupyter-widgets/controls",
            "icon": ""
          }
        },
        "12686a178ead4625963000822cd14271": {
          "model_module": "@jupyter-widgets/controls",
          "model_name": "ButtonStyleModel",
          "state": {
            "_view_name": "StyleView",
            "_model_name": "ButtonStyleModel",
            "_view_module": "@jupyter-widgets/base",
            "_model_module_version": "1.5.0",
            "_view_count": null,
            "button_color": null,
            "font_weight": "",
            "_view_module_version": "1.2.0",
            "_model_module": "@jupyter-widgets/controls"
          }
        },
        "3ff14be5295b44728adba3efbf85e410": {
          "model_module": "@jupyter-widgets/base",
          "model_name": "LayoutModel",
          "state": {
            "_view_name": "LayoutView",
            "grid_template_rows": null,
            "right": null,
            "justify_content": null,
            "_view_module": "@jupyter-widgets/base",
            "overflow": null,
            "_model_module_version": "1.2.0",
            "_view_count": null,
            "flex_flow": null,
            "width": null,
            "min_width": null,
            "border": null,
            "align_items": null,
            "bottom": null,
            "_model_module": "@jupyter-widgets/base",
            "top": null,
            "grid_column": null,
            "overflow_y": null,
            "overflow_x": null,
            "grid_auto_flow": null,
            "grid_area": null,
            "grid_template_columns": null,
            "flex": null,
            "_model_name": "LayoutModel",
            "justify_items": null,
            "grid_row": null,
            "max_height": null,
            "align_content": null,
            "visibility": null,
            "align_self": null,
            "height": null,
            "min_height": null,
            "padding": null,
            "grid_auto_rows": null,
            "grid_gap": null,
            "max_width": null,
            "order": null,
            "_view_module_version": "1.2.0",
            "grid_template_areas": null,
            "object_position": null,
            "object_fit": null,
            "grid_auto_columns": null,
            "margin": null,
            "display": null,
            "left": null
          }
        },
        "2744138c043343269e080c2b68253b50": {
          "model_module": "@jupyter-widgets/controls",
          "model_name": "VBoxModel",
          "state": {
            "_view_name": "VBoxView",
            "_dom_classes": [],
            "_model_name": "VBoxModel",
            "_view_module": "@jupyter-widgets/controls",
            "_model_module_version": "1.5.0",
            "_view_count": null,
            "_view_module_version": "1.5.0",
            "box_style": "",
            "layout": "IPY_MODEL_05cf76603e014feb88d68c4fab23a6d9",
            "_model_module": "@jupyter-widgets/controls",
            "children": [
              "IPY_MODEL_c55c91a6b75d4589a72a97de451d5fbd",
              "IPY_MODEL_f68bb1fbc2754610874c720702b27867",
              "IPY_MODEL_bbc7cca286704893adbaec657f986ae5",
              "IPY_MODEL_db00ecef40e0430fbfd8f26ef0628dde",
              "IPY_MODEL_c406c28903e54ff0a13f445cc403a7bf"
            ]
          }
        },
        "05cf76603e014feb88d68c4fab23a6d9": {
          "model_module": "@jupyter-widgets/base",
          "model_name": "LayoutModel",
          "state": {
            "_view_name": "LayoutView",
            "grid_template_rows": null,
            "right": null,
            "justify_content": null,
            "_view_module": "@jupyter-widgets/base",
            "overflow": null,
            "_model_module_version": "1.2.0",
            "_view_count": null,
            "flex_flow": null,
            "width": null,
            "min_width": null,
            "border": null,
            "align_items": null,
            "bottom": null,
            "_model_module": "@jupyter-widgets/base",
            "top": null,
            "grid_column": null,
            "overflow_y": null,
            "overflow_x": null,
            "grid_auto_flow": null,
            "grid_area": null,
            "grid_template_columns": null,
            "flex": null,
            "_model_name": "LayoutModel",
            "justify_items": null,
            "grid_row": null,
            "max_height": null,
            "align_content": null,
            "visibility": null,
            "align_self": null,
            "height": null,
            "min_height": null,
            "padding": null,
            "grid_auto_rows": null,
            "grid_gap": null,
            "max_width": null,
            "order": null,
            "_view_module_version": "1.2.0",
            "grid_template_areas": null,
            "object_position": null,
            "object_fit": null,
            "grid_auto_columns": null,
            "margin": null,
            "display": null,
            "left": null
          }
        },
        "c55c91a6b75d4589a72a97de451d5fbd": {
          "model_module": "@jupyter-widgets/controls",
          "model_name": "LabelModel",
          "state": {
            "_view_name": "LabelView",
            "style": "IPY_MODEL_cc394f67557e46f882f2f525c75216ee",
            "_dom_classes": [],
            "description": "",
            "_model_name": "LabelModel",
            "placeholder": "​",
            "_view_module": "@jupyter-widgets/controls",
            "_model_module_version": "1.5.0",
            "value": "Select your bear!",
            "_view_count": null,
            "_view_module_version": "1.5.0",
            "description_tooltip": null,
            "_model_module": "@jupyter-widgets/controls",
            "layout": "IPY_MODEL_2148e55e69dd4ba592f2c9ae60ce1e82"
          }
        },
        "f68bb1fbc2754610874c720702b27867": {
          "model_module": "@jupyter-widgets/controls",
          "model_name": "FileUploadModel",
          "state": {
            "_view_name": "FileUploadView",
            "_counter": 1,
            "style": "IPY_MODEL_d3f9ebdea5ea4a82b4151c49398c2629",
            "_dom_classes": [],
            "description": "Upload",
            "multiple": false,
            "_model_name": "FileUploadModel",
            "data": [
              null
            ],
            "button_style": "",
            "_view_module": "@jupyter-widgets/controls",
            "_model_module_version": "1.5.0",
            "accept": "",
            "_view_count": null,
            "disabled": false,
            "_view_module_version": "1.5.0",
            "error": "",
            "description_tooltip": null,
            "metadata": [
              {
                "name": "Image (3).jpg",
                "type": "image/jpeg",
                "size": 2538914,
                "lastModified": 1583871427064
              }
            ],
            "_model_module": "@jupyter-widgets/controls",
            "layout": "IPY_MODEL_0f6fa35867f2428aa257075e48848fda",
            "icon": "upload"
          }
        },
        "db00ecef40e0430fbfd8f26ef0628dde": {
          "model_module": "@jupyter-widgets/output",
          "model_name": "OutputModel",
          "state": {
            "_view_name": "OutputView",
            "msg_id": "",
            "_dom_classes": [],
            "_model_name": "OutputModel",
            "outputs": [
              {
                "output_type": "display_data",
                "metadata": {
                  "tags": []
                },
                "image/png": "iVBORw0KGgoAAAANSUhEUgAAAIAAAABNCAIAAADhKvv2AAA5dklEQVR4nJ29WZMl2XEm9rn7iYi7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\nrkJggg==\n",
                "text/plain": "<PIL.Image.Image image mode=RGB size=128x77 at 0x7F5C826C1E80>"
              }
            ],
            "_view_module": "@jupyter-widgets/output",
            "_model_module_version": "1.0.0",
            "_view_count": null,
            "_view_module_version": "1.0.0",
            "layout": "IPY_MODEL_948e275d16754ebb8a9a199b9da0d228",
            "_model_module": "@jupyter-widgets/output"
          }
        },
        "cc394f67557e46f882f2f525c75216ee": {
          "model_module": "@jupyter-widgets/controls",
          "model_name": "DescriptionStyleModel",
          "state": {
            "_view_name": "StyleView",
            "_model_name": "DescriptionStyleModel",
            "description_width": "",
            "_view_module": "@jupyter-widgets/base",
            "_model_module_version": "1.5.0",
            "_view_count": null,
            "_view_module_version": "1.2.0",
            "_model_module": "@jupyter-widgets/controls"
          }
        },
        "2148e55e69dd4ba592f2c9ae60ce1e82": {
          "model_module": "@jupyter-widgets/base",
          "model_name": "LayoutModel",
          "state": {
            "_view_name": "LayoutView",
            "grid_template_rows": null,
            "right": null,
            "justify_content": null,
            "_view_module": "@jupyter-widgets/base",
            "overflow": null,
            "_model_module_version": "1.2.0",
            "_view_count": null,
            "flex_flow": null,
            "width": null,
            "min_width": null,
            "border": null,
            "align_items": null,
            "bottom": null,
            "_model_module": "@jupyter-widgets/base",
            "top": null,
            "grid_column": null,
            "overflow_y": null,
            "overflow_x": null,
            "grid_auto_flow": null,
            "grid_area": null,
            "grid_template_columns": null,
            "flex": null,
            "_model_name": "LayoutModel",
            "justify_items": null,
            "grid_row": null,
            "max_height": null,
            "align_content": null,
            "visibility": null,
            "align_self": null,
            "height": null,
            "min_height": null,
            "padding": null,
            "grid_auto_rows": null,
            "grid_gap": null,
            "max_width": null,
            "order": null,
            "_view_module_version": "1.2.0",
            "grid_template_areas": null,
            "object_position": null,
            "object_fit": null,
            "grid_auto_columns": null,
            "margin": null,
            "display": null,
            "left": null
          }
        },
        "d3f9ebdea5ea4a82b4151c49398c2629": {
          "model_module": "@jupyter-widgets/controls",
          "model_name": "ButtonStyleModel",
          "state": {
            "_view_name": "StyleView",
            "_model_name": "ButtonStyleModel",
            "_view_module": "@jupyter-widgets/base",
            "_model_module_version": "1.5.0",
            "_view_count": null,
            "button_color": null,
            "font_weight": "",
            "_view_module_version": "1.2.0",
            "_model_module": "@jupyter-widgets/controls"
          }
        },
        "0f6fa35867f2428aa257075e48848fda": {
          "model_module": "@jupyter-widgets/base",
          "model_name": "LayoutModel",
          "state": {
            "_view_name": "LayoutView",
            "grid_template_rows": null,
            "right": null,
            "justify_content": null,
            "_view_module": "@jupyter-widgets/base",
            "overflow": null,
            "_model_module_version": "1.2.0",
            "_view_count": null,
            "flex_flow": null,
            "width": null,
            "min_width": null,
            "border": null,
            "align_items": null,
            "bottom": null,
            "_model_module": "@jupyter-widgets/base",
            "top": null,
            "grid_column": null,
            "overflow_y": null,
            "overflow_x": null,
            "grid_auto_flow": null,
            "grid_area": null,
            "grid_template_columns": null,
            "flex": null,
            "_model_name": "LayoutModel",
            "justify_items": null,
            "grid_row": null,
            "max_height": null,
            "align_content": null,
            "visibility": null,
            "align_self": null,
            "height": null,
            "min_height": null,
            "padding": null,
            "grid_auto_rows": null,
            "grid_gap": null,
            "max_width": null,
            "order": null,
            "_view_module_version": "1.2.0",
            "grid_template_areas": null,
            "object_position": null,
            "object_fit": null,
            "grid_auto_columns": null,
            "margin": null,
            "display": null,
            "left": null
          }
        }
      }
    }
  },
  "cells": [
    {
      "cell_type": "markdown",
      "metadata": {
        "id": "view-in-github",
        "colab_type": "text"
      },
      "source": [
        "<a href=\"https://colab.research.google.com/github/Cybertocks/Logo-dec/blob/master/EmojiDetector.ipynb\" target=\"_parent\"><img src=\"https://colab.research.google.com/assets/colab-badge.svg\" alt=\"Open In Colab\"/></a>"
      ]
    },
    {
      "cell_type": "markdown",
      "metadata": {
        "id": "WlewI4wiMPbZ",
        "colab_type": "text"
      },
      "source": [
        "We'll be building a logo\n",
        " discriminator detector using our own custom created dataset. We are also going to host this on the server so you can show it off to your friends"
      ]
    },
    {
      "cell_type": "markdown",
      "metadata": {
        "id": "us4kHYmgOK0b",
        "colab_type": "text"
      },
      "source": [
        "<!-- The 3 types of monkeys that will be considered are gorrilas, chimpanzees and bonobos because why not?!! -->"
      ]
    },
    {
      "cell_type": "markdown",
      "metadata": {
        "id": "76XGKNoYTmzF",
        "colab_type": "text"
      },
      "source": [
        "We'll be making use of fastai for solving this problem so we just install it from pypi using pip"
      ]
    },
    {
      "cell_type": "code",
      "metadata": {
        "id": "P28GXun8TzpM",
        "colab_type": "code",
        "outputId": "2af46271-fcb9-4dc9-c9c0-197b012e7e5e",
        "colab": {
          "base_uri": "https://localhost:8080/",
          "height": 34
        }
      },
      "source": [
        "!pip -q install fastai2"
      ],
      "execution_count": 1,
      "outputs": [
        {
          "output_type": "stream",
          "text": [
            "\u001b[?25l\r\u001b[K     |█▉                              | 10kB 29.4MB/s eta 0:00:01\r\u001b[K     |███▋                            | 20kB 6.6MB/s eta 0:00:01\r\u001b[K     |█████▍                          | 30kB 9.3MB/s eta 0:00:01\r\u001b[K     |███████▎                        | 40kB 6.1MB/s eta 0:00:01\r\u001b[K     |█████████                       | 51kB 7.4MB/s eta 0:00:01\r\u001b[K     |██████████▉                     | 61kB 8.7MB/s eta 0:00:01\r\u001b[K     |████████████▋                   | 71kB 9.9MB/s eta 0:00:01\r\u001b[K     |██████████████▌                 | 81kB 11.1MB/s eta 0:00:01\r\u001b[K     |████████████████▎               | 92kB 12.2MB/s eta 0:00:01\r\u001b[K     |██████████████████              | 102kB 9.8MB/s eta 0:00:01\r\u001b[K     |███████████████████▉            | 112kB 9.8MB/s eta 0:00:01\r\u001b[K     |█████████████████████▊          | 122kB 9.8MB/s eta 0:00:01\r\u001b[K     |███████████████████████▌        | 133kB 9.8MB/s eta 0:00:01\r\u001b[K     |█████████████████████████▎      | 143kB 9.8MB/s eta 0:00:01\r\u001b[K     |███████████████████████████▏    | 153kB 9.8MB/s eta 0:00:01\r\u001b[K     |█████████████████████████████   | 163kB 9.8MB/s eta 0:00:01\r\u001b[K     |██████████████████████████████▊ | 174kB 9.8MB/s eta 0:00:01\r\u001b[K     |████████████████████████████████| 184kB 9.8MB/s \n",
            "\u001b[?25h"
          ],
          "name": "stdout"
        }
      ]
    },
    {
      "cell_type": "code",
      "metadata": {
        "id": "2Tj20X7xO3cX",
        "colab_type": "code",
        "colab": {
          "base_uri": "https://localhost:8080/",
          "height": 118
        },
        "outputId": "37b91c8b-c2e7-4de2-a83a-3532ac891ae0"
      },
      "source": [
        "! pip -q install azure-cognitiveservices-search-imagesearch"
      ],
      "execution_count": 2,
      "outputs": [
        {
          "output_type": "stream",
          "text": [
            "\u001b[?25l\r\u001b[K     |███████                         | 10kB 30.9MB/s eta 0:00:01\r\u001b[K     |██████████████                  | 20kB 7.7MB/s eta 0:00:01\r\u001b[K     |█████████████████████           | 30kB 10.5MB/s eta 0:00:01\r\u001b[K     |████████████████████████████    | 40kB 6.6MB/s eta 0:00:01\r\u001b[K     |████████████████████████████████| 51kB 4.4MB/s \n",
            "\u001b[?25h\u001b[?25l\r\u001b[K     |████                            | 10kB 42.6MB/s eta 0:00:01\r\u001b[K     |███████▉                        | 20kB 51.8MB/s eta 0:00:01\r\u001b[K     |███████████▉                    | 30kB 62.3MB/s eta 0:00:01\r\u001b[K     |███████████████▊                | 40kB 68.9MB/s eta 0:00:01\r\u001b[K     |███████████████████▋            | 51kB 16.3MB/s eta 0:00:01\r\u001b[K     |███████████████████████▋        | 61kB 18.8MB/s eta 0:00:01\r\u001b[K     |███████████████████████████▌    | 71kB 20.9MB/s eta 0:00:01\r\u001b[K     |███████████████████████████████▌| 81kB 23.0MB/s eta 0:00:01\r\u001b[K     |████████████████████████████████| 92kB 9.6MB/s \n",
            "\u001b[?25h\u001b[?25l\r\u001b[K     |████████                        | 10kB 34.1MB/s eta 0:00:01\r\u001b[K     |████████████████▏               | 20kB 45.5MB/s eta 0:00:01\r\u001b[K     |████████████████████████▎       | 30kB 55.3MB/s eta 0:00:01\r\u001b[K     |████████████████████████████████| 40kB 6.9MB/s \n",
            "\u001b[?25h\u001b[?25l\r\u001b[K     |███████▏                        | 10kB 47.1MB/s eta 0:00:01\r\u001b[K     |██████████████▍                 | 20kB 53.6MB/s eta 0:00:01\r\u001b[K     |█████████████████████▌          | 30kB 63.4MB/s eta 0:00:01\r\u001b[K     |████████████████████████████▊   | 40kB 69.8MB/s eta 0:00:01\r\u001b[K     |████████████████████████████████| 51kB 9.3MB/s \n",
            "\u001b[K     |████████████████████████████████| 61kB 10.6MB/s \n",
            "\u001b[K     |████████████████████████████████| 2.3MB 28.0MB/s \n",
            "\u001b[?25h"
          ],
          "name": "stdout"
        }
      ]
    },
    {
      "cell_type": "markdown",
      "metadata": {
        "id": "U-t9tyUD5YDk",
        "colab_type": "text"
      },
      "source": [
        "! pip install nbdev"
      ]
    },
    {
      "cell_type": "markdown",
      "metadata": {
        "id": "JKcEXSKDT3wV",
        "colab_type": "text"
      },
      "source": [
        "import the library into the notebook. We'll be importing everything in the vision module"
      ]
    },
    {
      "cell_type": "code",
      "metadata": {
        "id": "KE5R6IDiT6gc",
        "colab_type": "code",
        "colab": {}
      },
      "source": [
        "from fastai2.vision.all import *\n",
        "from azure.cognitiveservices.search.imagesearch import ImageSearchClient as api\n",
        "from msrest.authentication import CognitiveServicesCredentials as auth"
      ],
      "execution_count": 0,
      "outputs": []
    },
    {
      "cell_type": "code",
      "metadata": {
        "id": "dvkXG1ccO_VI",
        "colab_type": "code",
        "colab": {}
      },
      "source": [
        "# helper to download images\n",
        "def search_images_bing(key, term, min_sz=128):\n",
        "    client = api('https://api.cognitive.microsoft.com', auth(key))\n",
        "    return L(client.images.search(query=term, count=150, min_height=min_sz, min_width=min_sz).value)"
      ],
      "execution_count": 0,
      "outputs": []
    },
    {
      "cell_type": "markdown",
      "metadata": {
        "id": "_iV5j9svOzip",
        "colab_type": "text"
      },
      "source": [
        "## Building the Dataset"
      ]
    },
    {
      "cell_type": "markdown",
      "metadata": {
        "id": "qnZj_XaMO2XY",
        "colab_type": "text"
      },
      "source": [
        "We'll be making use of Bing's search API for this because it is very straightforward and easy to use. There are also other ways to build custom dataset using web crawlers on other search engines but they won't be discussed here."
      ]
    },
    {
      "cell_type": "markdown",
      "metadata": {
        "id": "v__9fRANRf_g",
        "colab_type": "text"
      },
      "source": [
        "Visit this [link](https://azure.microsoft.com/en-us/try/cognitive-services/), navigate to search API, on Bing Search APIs v7 click on get API Key, a modal will pop up where you can choose to try the service as a guest user, accept the terms and conditions, sign in with an option of your choice, wait for some seconds and boom! all your Api keys for the Bing Search will appear on your dashboard. Copy the one that ends in '/images'. That is our API key. Put the API key in the variable API_key as shown below"
      ]
    },
    {
      "cell_type": "code",
      "metadata": {
        "id": "7qwhSZd3PLvO",
        "colab_type": "code",
        "colab": {}
      },
      "source": [
        "API_key = '703df11947c143e7ab7ef1e129e23548'"
      ],
      "execution_count": 0,
      "outputs": []
    },
    {
      "cell_type": "code",
      "metadata": {
        "id": "oGpWcFk3TheX",
        "colab_type": "code",
        "colab": {}
      },
      "source": [
        ""
      ],
      "execution_count": 0,
      "outputs": []
    },
    {
      "cell_type": "markdown",
      "metadata": {
        "id": "cHqxaqg-Vfu9",
        "colab_type": "text"
      },
      "source": [
        "Let's test our function out"
      ]
    },
    {
      "cell_type": "code",
      "metadata": {
        "id": "bgdwvx1rXXai",
        "colab_type": "code",
        "colab": {}
      },
      "source": [
        "url = 'https://th.bing.com/th/id/OIP.h2Gc3aUYlLD2E-U7TMYnqAHaFS?w=290&h=208&c=7&o=5&dpr=1.25&pid=1.7'\n",
        "puma_url = 'http://orignallogo.com/wp-content/uploads/2018/01/Puma-Logo-Design-Vector-Free-Download.jpg'"
      ],
      "execution_count": 0,
      "outputs": []
    },
    {
      "cell_type": "code",
      "metadata": {
        "id": "SiIwlrG4XdE6",
        "colab_type": "code",
        "outputId": "d9111da7-1aa8-4ae6-9c0f-cf7515a06170",
        "colab": {
          "base_uri": "https://localhost:8080/",
          "height": 34
        }
      },
      "source": [
        "# this will download at most 150 images of size 128, 128 for us\n",
        "res = search_images_bing(API_key, 'nike logo jpg')\n",
        "imgs = res.attrgot('content_url')\n",
        "len(imgs)"
      ],
      "execution_count": 23,
      "outputs": [
        {
          "output_type": "execute_result",
          "data": {
            "text/plain": [
              "150"
            ]
          },
          "metadata": {
            "tags": []
          },
          "execution_count": 23
        }
      ]
    },
    {
      "cell_type": "code",
      "metadata": {
        "id": "x6aWvMHAbG1M",
        "colab_type": "code",
        "colab": {}
      },
      "source": [
        "base_dir = Path('/content')\n",
        "(base_dir/'images').mkdir(parents=True, exist_ok=True)"
      ],
      "execution_count": 0,
      "outputs": []
    },
    {
      "cell_type": "markdown",
      "metadata": {
        "id": "XZeHhtKGcCHy",
        "colab_type": "text"
      },
      "source": [
        "Thankfully fastai has a method `download_url` which we can use to make requests to a single url and download it's content into a file in `dest`"
      ]
    },
    {
      "cell_type": "code",
      "metadata": {
        "id": "WmmUmE_aaIce",
        "colab_type": "code",
        "outputId": "1127ed01-0c45-4eeb-da26-e97b797b4c0d",
        "colab": {
          "base_uri": "https://localhost:8080/",
          "height": 17
        }
      },
      "source": [
        "dest = 'images/nike.jpg'\n",
        "download_url(url, dest)\n",
        "dest = 'images/puma.jpg'\n",
        "download_url(puma_url, dest)"
      ],
      "execution_count": 37,
      "outputs": [
        {
          "output_type": "display_data",
          "data": {
            "text/html": [
              ""
            ],
            "text/plain": [
              "<IPython.core.display.HTML object>"
            ]
          },
          "metadata": {
            "tags": []
          }
        },
        {
          "output_type": "display_data",
          "data": {
            "text/html": [
              ""
            ],
            "text/plain": [
              "<IPython.core.display.HTML object>"
            ]
          },
          "metadata": {
            "tags": []
          }
        }
      ]
    },
    {
      "cell_type": "code",
      "metadata": {
        "id": "2Zaq3DypaZPd",
        "colab_type": "code",
        "outputId": "388dc108-8e9d-4174-8bd4-9db7c442f071",
        "colab": {
          "base_uri": "https://localhost:8080/",
          "height": 153
        }
      },
      "source": [
        "img = PILImage.create(dest)\n",
        "img.to_thumb(228)"
      ],
      "execution_count": 38,
      "outputs": [
        {
          "output_type": "execute_result",
          "data": {
            "image/png": "[encoded data removed]",
            "text/plain": [
              "<PIL.Image.Image image mode=RGB size=228x136 at 0x7F5CCFE8F8D0>"
            ]
          },
          "metadata": {
            "tags": []
          },
          "execution_count": 38
        }
      ]
    },
    {
      "cell_type": "markdown",
      "metadata": {
        "id": "FPGHHUgFb4ep",
        "colab_type": "text"
      },
      "source": [
        "It works!!"
      ]
    },
    {
      "cell_type": "code",
      "metadata": {
        "id": "5N6QPGYNclFp",
        "colab_type": "code",
        "colab": {}
      },
      "source": [
        ""
      ],
      "execution_count": 0,
      "outputs": []
    },
    {
      "cell_type": "markdown",
      "metadata": {
        "id": "5SAIH00jc0Gz",
        "colab_type": "text"
      },
      "source": [
        "We now make use of another fastai method called `download_images` to download multiple images and store them in a folder called `dest`"
      ]
    },
    {
      "cell_type": "markdown",
      "metadata": {
        "id": "WpzuTHjndCqv",
        "colab_type": "text"
      },
      "source": [
        "Defining the folder names for each of the classes"
      ]
    },
    {
      "cell_type": "code",
      "metadata": {
        "id": "rX0MwCIudIzS",
        "colab_type": "code",
        "colab": {}
      },
      "source": [
        "folder_names  = ['Nike', 'Puma', 'Adidas', 'New Balance', 'Vans', 'Reebok']\n",
        "path = Path('Logos')"
      ],
      "execution_count": 0,
      "outputs": []
    },
    {
      "cell_type": "markdown",
      "metadata": {
        "id": "hcxI9SkreWyN",
        "colab_type": "text"
      },
      "source": [
        "Lets download the full dataset by querying bing continuously"
      ]
    },
    {
      "cell_type": "code",
      "metadata": {
        "id": "HHmMk0Zidegr",
        "colab_type": "code",
        "outputId": "8e2f331f-8b8d-4bff-899c-88fcc1887b14",
        "colab": {
          "base_uri": "https://localhost:8080/",
          "height": 188
        }
      },
      "source": [
        "path.mkdir(parents=True, exist_ok=True)\n",
        "for nm in folder_names:\n",
        "  if not (path/nm).exists():\n",
        "    dest = path/nm\n",
        "    dest.mkdir(exist_ok=True)\n",
        "    res = search_images_bing(API_key, f'{nm} logo')\n",
        "    download_images(dest, urls=res.attrgot('content_url'))"
      ],
      "execution_count": 40,
      "outputs": [
        {
          "output_type": "display_data",
          "data": {
            "text/html": [
              ""
            ],
            "text/plain": [
              "<IPython.core.display.HTML object>"
            ]
          },
          "metadata": {
            "tags": []
          }
        },
        {
          "output_type": "stream",
          "text": [
            "\n",
            " Download of http://mitsloan.mit.edu/sustainability/images/large/Nike.jpg has failed after 5 retries\n",
            " Fix the download manually:\n",
            "$ mkdir -p Logos/Nike\n",
            "$ cd Logos/Nike\n",
            "$ wget -c http://mitsloan.mit.edu/sustainability/images/large/Nike.jpg\n",
            "$ tar xf Nike.jpg\n",
            " And re-run your code once the download is successful\n",
            "\n"
          ],
          "name": "stdout"
        },
        {
          "output_type": "display_data",
          "data": {
            "text/html": [
              ""
            ],
            "text/plain": [
              "<IPython.core.display.HTML object>"
            ]
          },
          "metadata": {
            "tags": []
          }
        },
        {
          "output_type": "display_data",
          "data": {
            "text/html": [
              ""
            ],
            "text/plain": [
              "<IPython.core.display.HTML object>"
            ]
          },
          "metadata": {
            "tags": []
          }
        },
        {
          "output_type": "display_data",
          "data": {
            "text/html": [
              ""
            ],
            "text/plain": [
              "<IPython.core.display.HTML object>"
            ]
          },
          "metadata": {
            "tags": []
          }
        },
        {
          "output_type": "display_data",
          "data": {
            "text/html": [
              ""
            ],
            "text/plain": [
              "<IPython.core.display.HTML object>"
            ]
          },
          "metadata": {
            "tags": []
          }
        },
        {
          "output_type": "display_data",
          "data": {
            "text/html": [
              ""
            ],
            "text/plain": [
              "<IPython.core.display.HTML object>"
            ]
          },
          "metadata": {
            "tags": []
          }
        }
      ]
    },
    {
      "cell_type": "code",
      "metadata": {
        "id": "5AhgduqCkwKo",
        "colab_type": "code",
        "colab": {}
      },
      "source": [
        "# shutil.rmtree(path)"
      ],
      "execution_count": 0,
      "outputs": []
    },
    {
      "cell_type": "markdown",
      "metadata": {
        "id": "yXabPADgee94",
        "colab_type": "text"
      },
      "source": [
        "Extract all the image files that have just been downloaded from the grandparent `bears` folder using the get_image_files. It looks into all the folders with recurse and returns and `L` list type which is a normal python list but supercharged"
      ]
    },
    {
      "cell_type": "code",
      "metadata": {
        "id": "1gYrCzVBew3H",
        "colab_type": "code",
        "outputId": "7e712d3e-95e9-44d1-bbec-20b79c3ca6fd",
        "colab": {
          "base_uri": "https://localhost:8080/",
          "height": 70
        }
      },
      "source": [
        "all_logos = get_image_files(path)\n",
        "all_logos, len(all_logos)"
      ],
      "execution_count": 41,
      "outputs": [
        {
          "output_type": "execute_result",
          "data": {
            "text/plain": [
              "((#888) [Path('Logos/New Balance/00000118.png'),Path('Logos/New Balance/00000025.jpg'),Path('Logos/New Balance/00000106.jpg'),Path('Logos/New Balance/00000031.png'),Path('Logos/New Balance/00000040.jpg'),Path('Logos/New Balance/00000080.jpg'),Path('Logos/New Balance/00000044.jpg'),Path('Logos/New Balance/00000128.png'),Path('Logos/New Balance/00000028.png'),Path('Logos/New Balance/00000146.jpg')...],\n",
              " 888)"
            ]
          },
          "metadata": {
            "tags": []
          },
          "execution_count": 41
        }
      ]
    },
    {
      "cell_type": "code",
      "metadata": {
        "id": "bwUC3uape94H",
        "colab_type": "code",
        "colab": {}
      },
      "source": [
        ""
      ],
      "execution_count": 0,
      "outputs": []
    },
    {
      "cell_type": "markdown",
      "metadata": {
        "id": "RNFAxKi5glS4",
        "colab_type": "text"
      },
      "source": [
        "While downloading the images, some images may have been corrupted/broken so we have to check to see if there are any of such images and remove them from our dataset. Luckily fastai has the `verify_images` method which looks into the image `L` list and selects all the ones that are broken or can't be opened and stores them in a list object"
      ]
    },
    {
      "cell_type": "code",
      "metadata": {
        "id": "sgZ4Dzq9hHdM",
        "colab_type": "code",
        "outputId": "821c6774-de32-49de-f70f-513e1a6c1bce",
        "colab": {
          "base_uri": "https://localhost:8080/",
          "height": 54
        }
      },
      "source": [
        "broken = verify_images(all_logos)\n",
        "broken"
      ],
      "execution_count": 42,
      "outputs": [
        {
          "output_type": "display_data",
          "data": {
            "text/html": [
              ""
            ],
            "text/plain": [
              "<IPython.core.display.HTML object>"
            ]
          },
          "metadata": {
            "tags": []
          }
        },
        {
          "output_type": "execute_result",
          "data": {
            "text/plain": [
              "(#24) [Path('Logos/New Balance/00000041.jpg'),Path('Logos/New Balance/00000060.png'),Path('Logos/New Balance/00000107.jpg'),Path('Logos/New Balance/00000093.png'),Path('Logos/New Balance/00000088.png'),Path('Logos/New Balance/00000019.svg'),Path('Logos/New Balance/00000020.png'),Path('Logos/New Balance/00000075.jpg'),Path('Logos/Vans/00000129.svg'),Path('Logos/Vans/00000108.svg')...]"
            ]
          },
          "metadata": {
            "tags": []
          },
          "execution_count": 42
        }
      ]
    },
    {
      "cell_type": "markdown",
      "metadata": {
        "id": "b9dR9SnwhTR4",
        "colab_type": "text"
      },
      "source": [
        "As we can see, we have 10 broken images. Let's try to open one and see what happens"
      ]
    },
    {
      "cell_type": "code",
      "metadata": {
        "id": "ucFlkFAChl8y",
        "colab_type": "code",
        "outputId": "317cac25-3b8b-4a11-c3e1-322b9aa3cb1e",
        "colab": {
          "base_uri": "https://localhost:8080/",
          "height": 323
        }
      },
      "source": [
        "PILImage.create(broken[0])"
      ],
      "execution_count": 43,
      "outputs": [
        {
          "output_type": "error",
          "ename": "UnidentifiedImageError",
          "evalue": "ignored",
          "traceback": [
            "\u001b[0;31m---------------------------------------------------------------------------\u001b[0m",
            "\u001b[0;31mUnidentifiedImageError\u001b[0m                    Traceback (most recent call last)",
            "\u001b[0;32m<ipython-input-43-f4bf26a2d354>\u001b[0m in \u001b[0;36m<module>\u001b[0;34m()\u001b[0m\n\u001b[0;32m----> 1\u001b[0;31m \u001b[0mPILImage\u001b[0m\u001b[0;34m.\u001b[0m\u001b[0mcreate\u001b[0m\u001b[0;34m(\u001b[0m\u001b[0mbroken\u001b[0m\u001b[0;34m[\u001b[0m\u001b[0;36m0\u001b[0m\u001b[0;34m]\u001b[0m\u001b[0;34m)\u001b[0m\u001b[0;34m\u001b[0m\u001b[0;34m\u001b[0m\u001b[0m\n\u001b[0m",
            "\u001b[0;32m/usr/local/lib/python3.6/dist-packages/fastai2/vision/core.py\u001b[0m in \u001b[0;36mcreate\u001b[0;34m(cls, fn, **kwargs)\u001b[0m\n\u001b[1;32m     96\u001b[0m         \u001b[0;32mif\u001b[0m \u001b[0misinstance\u001b[0m\u001b[0;34m(\u001b[0m\u001b[0mfn\u001b[0m\u001b[0;34m,\u001b[0m\u001b[0mndarray\u001b[0m\u001b[0;34m)\u001b[0m\u001b[0;34m:\u001b[0m \u001b[0;32mreturn\u001b[0m \u001b[0mcls\u001b[0m\u001b[0;34m(\u001b[0m\u001b[0mImage\u001b[0m\u001b[0;34m.\u001b[0m\u001b[0mfromarray\u001b[0m\u001b[0;34m(\u001b[0m\u001b[0mfn\u001b[0m\u001b[0;34m)\u001b[0m\u001b[0;34m)\u001b[0m\u001b[0;34m\u001b[0m\u001b[0;34m\u001b[0m\u001b[0m\n\u001b[1;32m     97\u001b[0m         \u001b[0;32mif\u001b[0m \u001b[0misinstance\u001b[0m\u001b[0;34m(\u001b[0m\u001b[0mfn\u001b[0m\u001b[0;34m,\u001b[0m\u001b[0mbytes\u001b[0m\u001b[0;34m)\u001b[0m\u001b[0;34m:\u001b[0m \u001b[0mfn\u001b[0m \u001b[0;34m=\u001b[0m \u001b[0mio\u001b[0m\u001b[0;34m.\u001b[0m\u001b[0mBytesIO\u001b[0m\u001b[0;34m(\u001b[0m\u001b[0mfn\u001b[0m\u001b[0;34m)\u001b[0m\u001b[0;34m\u001b[0m\u001b[0;34m\u001b[0m\u001b[0m\n\u001b[0;32m---> 98\u001b[0;31m         \u001b[0;32mreturn\u001b[0m \u001b[0mcls\u001b[0m\u001b[0;34m(\u001b[0m\u001b[0mload_image\u001b[0m\u001b[0;34m(\u001b[0m\u001b[0mfn\u001b[0m\u001b[0;34m,\u001b[0m \u001b[0;34m**\u001b[0m\u001b[0mmerge\u001b[0m\u001b[0;34m(\u001b[0m\u001b[0mcls\u001b[0m\u001b[0;34m.\u001b[0m\u001b[0m_open_args\u001b[0m\u001b[0;34m,\u001b[0m \u001b[0mkwargs\u001b[0m\u001b[0;34m)\u001b[0m\u001b[0;34m)\u001b[0m\u001b[0;34m)\u001b[0m\u001b[0;34m\u001b[0m\u001b[0;34m\u001b[0m\u001b[0m\n\u001b[0m\u001b[1;32m     99\u001b[0m \u001b[0;34m\u001b[0m\u001b[0m\n\u001b[1;32m    100\u001b[0m     \u001b[0;32mdef\u001b[0m \u001b[0mshow\u001b[0m\u001b[0;34m(\u001b[0m\u001b[0mself\u001b[0m\u001b[0;34m,\u001b[0m \u001b[0mctx\u001b[0m\u001b[0;34m=\u001b[0m\u001b[0;32mNone\u001b[0m\u001b[0;34m,\u001b[0m \u001b[0;34m**\u001b[0m\u001b[0mkwargs\u001b[0m\u001b[0;34m)\u001b[0m\u001b[0;34m:\u001b[0m\u001b[0;34m\u001b[0m\u001b[0;34m\u001b[0m\u001b[0m\n",
            "\u001b[0;32m/usr/local/lib/python3.6/dist-packages/fastai2/vision/core.py\u001b[0m in \u001b[0;36mload_image\u001b[0;34m(fn, mode, **kwargs)\u001b[0m\n\u001b[1;32m     72\u001b[0m \u001b[0;32mdef\u001b[0m \u001b[0mload_image\u001b[0m\u001b[0;34m(\u001b[0m\u001b[0mfn\u001b[0m\u001b[0;34m,\u001b[0m \u001b[0mmode\u001b[0m\u001b[0;34m=\u001b[0m\u001b[0;32mNone\u001b[0m\u001b[0;34m,\u001b[0m \u001b[0;34m**\u001b[0m\u001b[0mkwargs\u001b[0m\u001b[0;34m)\u001b[0m\u001b[0;34m:\u001b[0m\u001b[0;34m\u001b[0m\u001b[0;34m\u001b[0m\u001b[0m\n\u001b[1;32m     73\u001b[0m     \u001b[0;34m\"Open and load a `PIL.Image` and convert to `mode`\"\u001b[0m\u001b[0;34m\u001b[0m\u001b[0;34m\u001b[0m\u001b[0m\n\u001b[0;32m---> 74\u001b[0;31m     \u001b[0mim\u001b[0m \u001b[0;34m=\u001b[0m \u001b[0mImage\u001b[0m\u001b[0;34m.\u001b[0m\u001b[0mopen\u001b[0m\u001b[0;34m(\u001b[0m\u001b[0mfn\u001b[0m\u001b[0;34m,\u001b[0m \u001b[0;34m**\u001b[0m\u001b[0mkwargs\u001b[0m\u001b[0;34m)\u001b[0m\u001b[0;34m\u001b[0m\u001b[0;34m\u001b[0m\u001b[0m\n\u001b[0m\u001b[1;32m     75\u001b[0m     \u001b[0mim\u001b[0m\u001b[0;34m.\u001b[0m\u001b[0mload\u001b[0m\u001b[0;34m(\u001b[0m\u001b[0;34m)\u001b[0m\u001b[0;34m\u001b[0m\u001b[0;34m\u001b[0m\u001b[0m\n\u001b[1;32m     76\u001b[0m     \u001b[0mim\u001b[0m \u001b[0;34m=\u001b[0m \u001b[0mim\u001b[0m\u001b[0;34m.\u001b[0m\u001b[0m_new\u001b[0m\u001b[0;34m(\u001b[0m\u001b[0mim\u001b[0m\u001b[0;34m.\u001b[0m\u001b[0mim\u001b[0m\u001b[0;34m)\u001b[0m\u001b[0;34m\u001b[0m\u001b[0;34m\u001b[0m\u001b[0m\n",
            "\u001b[0;32m/usr/local/lib/python3.6/dist-packages/PIL/Image.py\u001b[0m in \u001b[0;36mopen\u001b[0;34m(fp, mode)\u001b[0m\n\u001b[1;32m   2860\u001b[0m         \u001b[0mwarnings\u001b[0m\u001b[0;34m.\u001b[0m\u001b[0mwarn\u001b[0m\u001b[0;34m(\u001b[0m\u001b[0mmessage\u001b[0m\u001b[0;34m)\u001b[0m\u001b[0;34m\u001b[0m\u001b[0;34m\u001b[0m\u001b[0m\n\u001b[1;32m   2861\u001b[0m     raise UnidentifiedImageError(\n\u001b[0;32m-> 2862\u001b[0;31m         \u001b[0;34m\"cannot identify image file %r\"\u001b[0m \u001b[0;34m%\u001b[0m \u001b[0;34m(\u001b[0m\u001b[0mfilename\u001b[0m \u001b[0;32mif\u001b[0m \u001b[0mfilename\u001b[0m \u001b[0;32melse\u001b[0m \u001b[0mfp\u001b[0m\u001b[0;34m)\u001b[0m\u001b[0;34m\u001b[0m\u001b[0;34m\u001b[0m\u001b[0m\n\u001b[0m\u001b[1;32m   2863\u001b[0m     )\n\u001b[1;32m   2864\u001b[0m \u001b[0;34m\u001b[0m\u001b[0m\n",
            "\u001b[0;31mUnidentifiedImageError\u001b[0m: cannot identify image file '/content/Logos/New Balance/00000041.jpg'"
          ]
        }
      ]
    },
    {
      "cell_type": "markdown",
      "metadata": {
        "id": "8hyk5wTiiqlP",
        "colab_type": "text"
      },
      "source": [
        "See? I told you it was broken. Look at the Exception message. The Image still exists in the directory but it is broken"
      ]
    },
    {
      "cell_type": "markdown",
      "metadata": {
        "id": "epsvSNLJhr-i",
        "colab_type": "text"
      },
      "source": [
        "Remember I told you that `verify_images` returns an `L` list type. This `L` list type has a `map` method which you can use to recursively perfrom operations on the elements in the `L`. The operation we want to perform on this `L` type object is to go into it, pick out all it's elements and use them on any function in it's `map`. The function in the map of the `L` has to be something that can remove the image paths are broken from their parent paths. All of these can be done using an `unlink` method on the grandparent path"
      ]
    },
    {
      "cell_type": "code",
      "metadata": {
        "id": "j3cvONCRixJF",
        "colab_type": "code",
        "outputId": "729ef52c-6774-4c8f-c3d6-54e3051c9d3a",
        "colab": {
          "base_uri": "https://localhost:8080/",
          "height": 34
        }
      },
      "source": [
        "broken.map(Path.unlink) # unlink is a pathlib.Path method"
      ],
      "execution_count": 44,
      "outputs": [
        {
          "output_type": "execute_result",
          "data": {
            "text/plain": [
              "(#24) [None,None,None,None,None,None,None,None,None,None...]"
            ]
          },
          "metadata": {
            "tags": []
          },
          "execution_count": 44
        }
      ]
    },
    {
      "cell_type": "markdown",
      "metadata": {
        "id": "TrnDSOrQkOIM",
        "colab_type": "text"
      },
      "source": [
        "let's check if it worked"
      ]
    },
    {
      "cell_type": "code",
      "metadata": {
        "id": "nN0yns2cqcZ_",
        "colab_type": "code",
        "outputId": "a7845303-3b59-47ab-83a0-7a268c5bcd8b",
        "colab": {
          "base_uri": "https://localhost:8080/",
          "height": 323
        }
      },
      "source": [
        "PILImage.create(broken[0])"
      ],
      "execution_count": 45,
      "outputs": [
        {
          "output_type": "error",
          "ename": "FileNotFoundError",
          "evalue": "ignored",
          "traceback": [
            "\u001b[0;31m---------------------------------------------------------------------------\u001b[0m",
            "\u001b[0;31mFileNotFoundError\u001b[0m                         Traceback (most recent call last)",
            "\u001b[0;32m<ipython-input-45-f4bf26a2d354>\u001b[0m in \u001b[0;36m<module>\u001b[0;34m()\u001b[0m\n\u001b[0;32m----> 1\u001b[0;31m \u001b[0mPILImage\u001b[0m\u001b[0;34m.\u001b[0m\u001b[0mcreate\u001b[0m\u001b[0;34m(\u001b[0m\u001b[0mbroken\u001b[0m\u001b[0;34m[\u001b[0m\u001b[0;36m0\u001b[0m\u001b[0;34m]\u001b[0m\u001b[0;34m)\u001b[0m\u001b[0;34m\u001b[0m\u001b[0;34m\u001b[0m\u001b[0m\n\u001b[0m",
            "\u001b[0;32m/usr/local/lib/python3.6/dist-packages/fastai2/vision/core.py\u001b[0m in \u001b[0;36mcreate\u001b[0;34m(cls, fn, **kwargs)\u001b[0m\n\u001b[1;32m     96\u001b[0m         \u001b[0;32mif\u001b[0m \u001b[0misinstance\u001b[0m\u001b[0;34m(\u001b[0m\u001b[0mfn\u001b[0m\u001b[0;34m,\u001b[0m\u001b[0mndarray\u001b[0m\u001b[0;34m)\u001b[0m\u001b[0;34m:\u001b[0m \u001b[0;32mreturn\u001b[0m \u001b[0mcls\u001b[0m\u001b[0;34m(\u001b[0m\u001b[0mImage\u001b[0m\u001b[0;34m.\u001b[0m\u001b[0mfromarray\u001b[0m\u001b[0;34m(\u001b[0m\u001b[0mfn\u001b[0m\u001b[0;34m)\u001b[0m\u001b[0;34m)\u001b[0m\u001b[0;34m\u001b[0m\u001b[0;34m\u001b[0m\u001b[0m\n\u001b[1;32m     97\u001b[0m         \u001b[0;32mif\u001b[0m \u001b[0misinstance\u001b[0m\u001b[0;34m(\u001b[0m\u001b[0mfn\u001b[0m\u001b[0;34m,\u001b[0m\u001b[0mbytes\u001b[0m\u001b[0;34m)\u001b[0m\u001b[0;34m:\u001b[0m \u001b[0mfn\u001b[0m \u001b[0;34m=\u001b[0m \u001b[0mio\u001b[0m\u001b[0;34m.\u001b[0m\u001b[0mBytesIO\u001b[0m\u001b[0;34m(\u001b[0m\u001b[0mfn\u001b[0m\u001b[0;34m)\u001b[0m\u001b[0;34m\u001b[0m\u001b[0;34m\u001b[0m\u001b[0m\n\u001b[0;32m---> 98\u001b[0;31m         \u001b[0;32mreturn\u001b[0m \u001b[0mcls\u001b[0m\u001b[0;34m(\u001b[0m\u001b[0mload_image\u001b[0m\u001b[0;34m(\u001b[0m\u001b[0mfn\u001b[0m\u001b[0;34m,\u001b[0m \u001b[0;34m**\u001b[0m\u001b[0mmerge\u001b[0m\u001b[0;34m(\u001b[0m\u001b[0mcls\u001b[0m\u001b[0;34m.\u001b[0m\u001b[0m_open_args\u001b[0m\u001b[0;34m,\u001b[0m \u001b[0mkwargs\u001b[0m\u001b[0;34m)\u001b[0m\u001b[0;34m)\u001b[0m\u001b[0;34m)\u001b[0m\u001b[0;34m\u001b[0m\u001b[0;34m\u001b[0m\u001b[0m\n\u001b[0m\u001b[1;32m     99\u001b[0m \u001b[0;34m\u001b[0m\u001b[0m\n\u001b[1;32m    100\u001b[0m     \u001b[0;32mdef\u001b[0m \u001b[0mshow\u001b[0m\u001b[0;34m(\u001b[0m\u001b[0mself\u001b[0m\u001b[0;34m,\u001b[0m \u001b[0mctx\u001b[0m\u001b[0;34m=\u001b[0m\u001b[0;32mNone\u001b[0m\u001b[0;34m,\u001b[0m \u001b[0;34m**\u001b[0m\u001b[0mkwargs\u001b[0m\u001b[0;34m)\u001b[0m\u001b[0;34m:\u001b[0m\u001b[0;34m\u001b[0m\u001b[0;34m\u001b[0m\u001b[0m\n",
            "\u001b[0;32m/usr/local/lib/python3.6/dist-packages/fastai2/vision/core.py\u001b[0m in \u001b[0;36mload_image\u001b[0;34m(fn, mode, **kwargs)\u001b[0m\n\u001b[1;32m     72\u001b[0m \u001b[0;32mdef\u001b[0m \u001b[0mload_image\u001b[0m\u001b[0;34m(\u001b[0m\u001b[0mfn\u001b[0m\u001b[0;34m,\u001b[0m \u001b[0mmode\u001b[0m\u001b[0;34m=\u001b[0m\u001b[0;32mNone\u001b[0m\u001b[0;34m,\u001b[0m \u001b[0;34m**\u001b[0m\u001b[0mkwargs\u001b[0m\u001b[0;34m)\u001b[0m\u001b[0;34m:\u001b[0m\u001b[0;34m\u001b[0m\u001b[0;34m\u001b[0m\u001b[0m\n\u001b[1;32m     73\u001b[0m     \u001b[0;34m\"Open and load a `PIL.Image` and convert to `mode`\"\u001b[0m\u001b[0;34m\u001b[0m\u001b[0;34m\u001b[0m\u001b[0m\n\u001b[0;32m---> 74\u001b[0;31m     \u001b[0mim\u001b[0m \u001b[0;34m=\u001b[0m \u001b[0mImage\u001b[0m\u001b[0;34m.\u001b[0m\u001b[0mopen\u001b[0m\u001b[0;34m(\u001b[0m\u001b[0mfn\u001b[0m\u001b[0;34m,\u001b[0m \u001b[0;34m**\u001b[0m\u001b[0mkwargs\u001b[0m\u001b[0;34m)\u001b[0m\u001b[0;34m\u001b[0m\u001b[0;34m\u001b[0m\u001b[0m\n\u001b[0m\u001b[1;32m     75\u001b[0m     \u001b[0mim\u001b[0m\u001b[0;34m.\u001b[0m\u001b[0mload\u001b[0m\u001b[0;34m(\u001b[0m\u001b[0;34m)\u001b[0m\u001b[0;34m\u001b[0m\u001b[0;34m\u001b[0m\u001b[0m\n\u001b[1;32m     76\u001b[0m     \u001b[0mim\u001b[0m \u001b[0;34m=\u001b[0m \u001b[0mim\u001b[0m\u001b[0;34m.\u001b[0m\u001b[0m_new\u001b[0m\u001b[0;34m(\u001b[0m\u001b[0mim\u001b[0m\u001b[0;34m.\u001b[0m\u001b[0mim\u001b[0m\u001b[0;34m)\u001b[0m\u001b[0;34m\u001b[0m\u001b[0;34m\u001b[0m\u001b[0m\n",
            "\u001b[0;32m/usr/local/lib/python3.6/dist-packages/PIL/Image.py\u001b[0m in \u001b[0;36mopen\u001b[0;34m(fp, mode)\u001b[0m\n\u001b[1;32m   2807\u001b[0m \u001b[0;34m\u001b[0m\u001b[0m\n\u001b[1;32m   2808\u001b[0m     \u001b[0;32mif\u001b[0m \u001b[0mfilename\u001b[0m\u001b[0;34m:\u001b[0m\u001b[0;34m\u001b[0m\u001b[0;34m\u001b[0m\u001b[0m\n\u001b[0;32m-> 2809\u001b[0;31m         \u001b[0mfp\u001b[0m \u001b[0;34m=\u001b[0m \u001b[0mbuiltins\u001b[0m\u001b[0;34m.\u001b[0m\u001b[0mopen\u001b[0m\u001b[0;34m(\u001b[0m\u001b[0mfilename\u001b[0m\u001b[0;34m,\u001b[0m \u001b[0;34m\"rb\"\u001b[0m\u001b[0;34m)\u001b[0m\u001b[0;34m\u001b[0m\u001b[0;34m\u001b[0m\u001b[0m\n\u001b[0m\u001b[1;32m   2810\u001b[0m         \u001b[0mexclusive_fp\u001b[0m \u001b[0;34m=\u001b[0m \u001b[0;32mTrue\u001b[0m\u001b[0;34m\u001b[0m\u001b[0;34m\u001b[0m\u001b[0m\n\u001b[1;32m   2811\u001b[0m \u001b[0;34m\u001b[0m\u001b[0m\n",
            "\u001b[0;31mFileNotFoundError\u001b[0m: [Errno 2] No such file or directory: '/content/Logos/New Balance/00000041.jpg'"
          ]
        }
      ]
    },
    {
      "cell_type": "markdown",
      "metadata": {
        "id": "8U5xaJJcrQ6u",
        "colab_type": "text"
      },
      "source": [
        "As we can see from the Exception(error) message, it's been that image has been removed from our directory"
      ]
    },
    {
      "cell_type": "code",
      "metadata": {
        "id": "UiZDKj8-kfwn",
        "colab_type": "code",
        "colab": {}
      },
      "source": [
        ""
      ],
      "execution_count": 0,
      "outputs": []
    },
    {
      "cell_type": "markdown",
      "metadata": {
        "id": "mBijf7FrlBLn",
        "colab_type": "text"
      },
      "source": [
        "## Making a DataBlock"
      ]
    },
    {
      "cell_type": "markdown",
      "metadata": {
        "id": "klqNbCTTn7Lo",
        "colab_type": "text"
      },
      "source": [
        "We will be using the midlevel datablock API"
      ]
    },
    {
      "cell_type": "markdown",
      "metadata": {
        "id": "L0jD87DuoE9F",
        "colab_type": "text"
      },
      "source": [
        "We will need some transforms for the items in the CPU and the batches in the GPU"
      ]
    },
    {
      "cell_type": "markdown",
      "metadata": {
        "id": "MXFAV4J9aAKS",
        "colab_type": "text"
      },
      "source": [
        "helper util to remove `.gif` files"
      ]
    },
    {
      "cell_type": "code",
      "metadata": {
        "id": "MBj6m_8waGYi",
        "colab_type": "code",
        "colab": {}
      },
      "source": [
        "def remove_gif(path):\n",
        "  x = L(fn for fn in path if (fn.suffix == '.gif'))\n",
        "  return x.map(Path.unlink)"
      ],
      "execution_count": 0,
      "outputs": []
    },
    {
      "cell_type": "code",
      "metadata": {
        "id": "OHYnmiZRcTME",
        "colab_type": "code",
        "colab": {
          "base_uri": "https://localhost:8080/",
          "height": 34
        },
        "outputId": "1fd999b0-b8e8-4e94-c887-6b22838011dd"
      },
      "source": [
        "# Run once\n",
        "# remove_gif(get_image_files(path))\n",
        "# for fn in get_image_files(path):\n",
        "#   if fn.suffix in ['.jpg', '.JPG', '.JPEG', '.jpeg']:\n",
        "#     PILImage.create(fn).save(fn)\n",
        "#   elif fn.suffix in ['.png', '.PNG']:\n",
        "#     im=PILImage.create(fn)\n",
        "#     if 'transparency' in im.info.keys():\n",
        "#       del im.info['transparency']\n",
        "#     im.save(fn)\n",
        "#   else:\n",
        "#     print(fn.suffix)"
      ],
      "execution_count": 99,
      "outputs": [
        {
          "output_type": "stream",
          "text": [
            ".tif\n"
          ],
          "name": "stdout"
        }
      ]
    },
    {
      "cell_type": "code",
      "metadata": {
        "id": "-O3fnr3ZoO1O",
        "colab_type": "code",
        "colab": {}
      },
      "source": [
        "# item_tfms = RandomResizedCrop(448, min_scale=0.1)\n",
        "item_tfms = Resize(224)\n",
        "# make use of the defualt augmentations\n",
        "# `mult=2` doubles the values in the `max_rotate`, `max_lighting` and `max_warp` \n",
        "# transfroms of the `aug_transforms`\n",
        "batch_tfms = aug_transforms()"
      ],
      "execution_count": 0,
      "outputs": []
    },
    {
      "cell_type": "code",
      "metadata": {
        "colab_type": "code",
        "id": "elbLGs8Pmm3Z",
        "colab": {}
      },
      "source": [
        ""
      ],
      "execution_count": 0,
      "outputs": []
    },
    {
      "cell_type": "code",
      "metadata": {
        "id": "KGHskxHKojTf",
        "colab_type": "code",
        "colab": {}
      },
      "source": [
        "data = DataBlock(blocks=(ImageBlock, CategoryBlock), \n",
        "                 get_items = get_image_files,\n",
        "                 splitter = RandomSplitter(valid_pct=0.2, seed=42), \n",
        "                 get_y=parent_label,\n",
        "                 item_tfms=item_tfms,\n",
        "                 batch_tfms=batch_tfms)"
      ],
      "execution_count": 0,
      "outputs": []
    },
    {
      "cell_type": "markdown",
      "metadata": {
        "id": "jiv8BurTsu7H",
        "colab_type": "text"
      },
      "source": [
        "Remeber that the DataBlock is just as architecture of how we want the data to be fed into the model. We now have to pass in a source to the data that we have into the datablock. It is important that the source passed in can be properly consumed by the get_x (get_item in our case). Since the function there is a `get_image_files`, we have to pass in a the gradparent directory for the images paths to be extracted from it."
      ]
    },
    {
      "cell_type": "code",
      "metadata": {
        "id": "RCtCeG-ttaS1",
        "colab_type": "code",
        "colab": {}
      },
      "source": [
        "dls = data.dataloaders(path)"
      ],
      "execution_count": 0,
      "outputs": []
    },
    {
      "cell_type": "code",
      "metadata": {
        "id": "ADFIlE8auN8K",
        "colab_type": "code",
        "outputId": "c48f249a-6fff-4618-e89b-41bda0a95b66",
        "colab": {
          "base_uri": "https://localhost:8080/",
          "height": 536
        }
      },
      "source": [
        "dls.show_batch(max_n=9, nrows=3)"
      ],
      "execution_count": 108,
      "outputs": [
        {
          "output_type": "display_data",
          "data": {
            "image/png": "[encoded data removed]",
            "text/plain": [
              "<Figure size 648x648 with 9 Axes>"
            ]
          },
          "metadata": {
            "tags": []
          }
        }
      ]
    },
    {
      "cell_type": "markdown",
      "metadata": {
        "id": "mo4Zilo5uS9k",
        "colab_type": "text"
      },
      "source": [
        "Everything works fine"
      ]
    },
    {
      "cell_type": "code",
      "metadata": {
        "id": "PvxfCKl5pkFd",
        "colab_type": "code",
        "colab": {}
      },
      "source": [
        ""
      ],
      "execution_count": 0,
      "outputs": []
    },
    {
      "cell_type": "markdown",
      "metadata": {
        "id": "aRoFgVnou6Hc",
        "colab_type": "text"
      },
      "source": [
        "## Building the Model"
      ]
    },
    {
      "cell_type": "markdown",
      "metadata": {
        "id": "vAHvEjkJvBwQ",
        "colab_type": "text"
      },
      "source": [
        "This is the exciting part"
      ]
    },
    {
      "cell_type": "markdown",
      "metadata": {
        "id": "ZJiRglVIvI4V",
        "colab_type": "text"
      },
      "source": [
        "We'll be using a resnet34 to train wit transfer learning"
      ]
    },
    {
      "cell_type": "code",
      "metadata": {
        "id": "8DhJzE6rvFpn",
        "colab_type": "code",
        "outputId": "81673286-83bf-4643-929c-1575cd1ebf97",
        "colab": {
          "base_uri": "https://localhost:8080/",
          "height": 102,
          "referenced_widgets": [
            "793d26015dd54f24a0ae6522e142322f",
            "f332d1a40d934ee8a3b52a92a7bf0cb9",
            "c3f55904b691475687bfde3f9934f992",
            "281cc7544c824e49ad31529633687b14",
            "6f09b4739d914a678720f4ededc59fd6",
            "11f04e0c1b764ae896f2e75721e81053",
            "8dacd12fa1f144f0b4470511467955c9",
            "336e2395fba94dc1ad4193d4c397f763"
          ]
        }
      },
      "source": [
        "learn = cnn_learner(dls, resnet34, metrics=accuracy)"
      ],
      "execution_count": 109,
      "outputs": [
        {
          "output_type": "stream",
          "text": [
            "Downloading: \"https://download.pytorch.org/models/resnet34-333f7ec4.pth\" to /root/.cache/torch/checkpoints/resnet34-333f7ec4.pth\n"
          ],
          "name": "stderr"
        },
        {
          "output_type": "display_data",
          "data": {
            "application/vnd.jupyter.widget-view+json": {
              "model_id": "793d26015dd54f24a0ae6522e142322f",
              "version_minor": 0,
              "version_major": 2
            },
            "text/plain": [
              "HBox(children=(IntProgress(value=0, max=87306240), HTML(value='')))"
            ]
          },
          "metadata": {
            "tags": []
          }
        },
        {
          "output_type": "stream",
          "text": [
            "\n"
          ],
          "name": "stdout"
        }
      ]
    },
    {
      "cell_type": "code",
      "metadata": {
        "id": "QVpnGd2fvV43",
        "colab_type": "code",
        "colab": {
          "base_uri": "https://localhost:8080/",
          "height": 303
        },
        "outputId": "1859262d-f033-4930-db17-80d540f3a8b4"
      },
      "source": [
        "learn.lr_find()"
      ],
      "execution_count": 110,
      "outputs": [
        {
          "output_type": "display_data",
          "data": {
            "text/html": [
              ""
            ],
            "text/plain": [
              "<IPython.core.display.HTML object>"
            ]
          },
          "metadata": {
            "tags": []
          }
        },
        {
          "output_type": "execute_result",
          "data": {
            "text/plain": [
              "SuggestedLRs(lr_min=0.017378008365631102, lr_steep=0.0012022644514217973)"
            ]
          },
          "metadata": {
            "tags": []
          },
          "execution_count": 110
        },
        {
          "output_type": "display_data",
          "data": {
            "image/png": "[encoded data removed]",
            "text/plain": [
              "<Figure size 432x288 with 1 Axes>"
            ]
          },
          "metadata": {
            "tags": []
          }
        }
      ]
    },
    {
      "cell_type": "code",
      "metadata": {
        "id": "Mnk40edevdCm",
        "colab_type": "code",
        "outputId": "63ea5a81-4f30-4f52-a527-6320313cbb05",
        "colab": {
          "base_uri": "https://localhost:8080/",
          "height": 226
        }
      },
      "source": [
        "learn.fine_tune(4, 1e-03)"
      ],
      "execution_count": 111,
      "outputs": [
        {
          "output_type": "display_data",
          "data": {
            "text/html": [
              "<table border=\"1\" class=\"dataframe\">\n",
              "  <thead>\n",
              "    <tr style=\"text-align: left;\">\n",
              "      <th>epoch</th>\n",
              "      <th>train_loss</th>\n",
              "      <th>valid_loss</th>\n",
              "      <th>accuracy</th>\n",
              "      <th>time</th>\n",
              "    </tr>\n",
              "  </thead>\n",
              "  <tbody>\n",
              "    <tr>\n",
              "      <td>0</td>\n",
              "      <td>2.653596</td>\n",
              "      <td>1.054905</td>\n",
              "      <td>0.614458</td>\n",
              "      <td>00:19</td>\n",
              "    </tr>\n",
              "  </tbody>\n",
              "</table>"
            ],
            "text/plain": [
              "<IPython.core.display.HTML object>"
            ]
          },
          "metadata": {
            "tags": []
          }
        },
        {
          "output_type": "display_data",
          "data": {
            "text/html": [
              "<table border=\"1\" class=\"dataframe\">\n",
              "  <thead>\n",
              "    <tr style=\"text-align: left;\">\n",
              "      <th>epoch</th>\n",
              "      <th>train_loss</th>\n",
              "      <th>valid_loss</th>\n",
              "      <th>accuracy</th>\n",
              "      <th>time</th>\n",
              "    </tr>\n",
              "  </thead>\n",
              "  <tbody>\n",
              "    <tr>\n",
              "      <td>0</td>\n",
              "      <td>1.185148</td>\n",
              "      <td>0.567876</td>\n",
              "      <td>0.813253</td>\n",
              "      <td>00:20</td>\n",
              "    </tr>\n",
              "    <tr>\n",
              "      <td>1</td>\n",
              "      <td>0.919052</td>\n",
              "      <td>0.393258</td>\n",
              "      <td>0.861446</td>\n",
              "      <td>00:19</td>\n",
              "    </tr>\n",
              "    <tr>\n",
              "      <td>2</td>\n",
              "      <td>0.741261</td>\n",
              "      <td>0.281362</td>\n",
              "      <td>0.885542</td>\n",
              "      <td>00:20</td>\n",
              "    </tr>\n",
              "    <tr>\n",
              "      <td>3</td>\n",
              "      <td>0.622553</td>\n",
              "      <td>0.285281</td>\n",
              "      <td>0.879518</td>\n",
              "      <td>00:19</td>\n",
              "    </tr>\n",
              "  </tbody>\n",
              "</table>"
            ],
            "text/plain": [
              "<IPython.core.display.HTML object>"
            ]
          },
          "metadata": {
            "tags": []
          }
        }
      ]
    },
    {
      "cell_type": "code",
      "metadata": {
        "id": "K4RLPVSY3Rx2",
        "colab_type": "code",
        "colab": {}
      },
      "source": [
        ""
      ],
      "execution_count": 0,
      "outputs": []
    },
    {
      "cell_type": "markdown",
      "metadata": {
        "id": "9nS1PgvD3SE8",
        "colab_type": "text"
      },
      "source": [
        "## Interpreting Results"
      ]
    },
    {
      "cell_type": "markdown",
      "metadata": {
        "id": "K3S-EpTwwAga",
        "colab_type": "text"
      },
      "source": [
        "Let's see how our model fared on the classificatio problem"
      ]
    },
    {
      "cell_type": "code",
      "metadata": {
        "id": "ApGWxJn83bNT",
        "colab_type": "code",
        "outputId": "7203bf2d-bec4-4881-84ee-aecfe72293e1",
        "colab": {
          "base_uri": "https://localhost:8080/",
          "height": 17
        }
      },
      "source": [
        "interp = ClassificationInterpretation.from_learner(learn)"
      ],
      "execution_count": 112,
      "outputs": [
        {
          "output_type": "display_data",
          "data": {
            "text/html": [
              ""
            ],
            "text/plain": [
              "<IPython.core.display.HTML object>"
            ]
          },
          "metadata": {
            "tags": []
          }
        }
      ]
    },
    {
      "cell_type": "code",
      "metadata": {
        "id": "w9b4pWV64GZV",
        "colab_type": "code",
        "outputId": "062931fb-1732-4bcb-c568-98a195df2168",
        "colab": {
          "base_uri": "https://localhost:8080/",
          "height": 520
        }
      },
      "source": [
        "interp.plot_confusion_matrix(figsize=(15, 10), dpi=50)"
      ],
      "execution_count": 113,
      "outputs": [
        {
          "output_type": "display_data",
          "data": {
            "image/png": "[encoded data removed]",
            "text/plain": [
              "<Figure size 750x500 with 1 Axes>"
            ]
          },
          "metadata": {
            "tags": []
          }
        }
      ]
    },
    {
      "cell_type": "markdown",
      "metadata": {
        "id": "6HXqnxcS5vz4",
        "colab_type": "text"
      },
      "source": [
        "the model seems to be having a really hard time differentiating between chipanzees and bonobos"
      ]
    },
    {
      "cell_type": "code",
      "metadata": {
        "id": "rhTfsJLF3248",
        "colab_type": "code",
        "outputId": "702ebca3-7d13-40fd-c437-6c76c50c9266",
        "colab": {
          "base_uri": "https://localhost:8080/",
          "height": 483
        }
      },
      "source": [
        "interp.plot_top_losses(15, figsize=(15, 10))"
      ],
      "execution_count": 114,
      "outputs": [
        {
          "output_type": "display_data",
          "data": {
            "image/png": "[encoded data removed]",
            "text/plain": [
              "<Figure size 1080x720 with 15 Axes>"
            ]
          },
          "metadata": {
            "tags": []
          }
        }
      ]
    },
    {
      "cell_type": "code",
      "metadata": {
        "id": "PfnamnUJ4gQZ",
        "colab_type": "code",
        "colab": {}
      },
      "source": [
        ""
      ],
      "execution_count": 0,
      "outputs": []
    },
    {
      "cell_type": "markdown",
      "metadata": {
        "id": "36o9nbVb4jP1",
        "colab_type": "text"
      },
      "source": [
        "## Image cleanup"
      ]
    },
    {
      "cell_type": "markdown",
      "metadata": {
        "id": "HvcCEVLr49D-",
        "colab_type": "text"
      },
      "source": [
        "We can use the results from the plotted `top_losses` we obtained above to clean up the dataset we have to enable the model learn better"
      ]
    },
    {
      "cell_type": "markdown",
      "metadata": {
        "id": "u-1V7XRM4-UZ",
        "colab_type": "text"
      },
      "source": [
        "Using Ipython Widgets, we can create a customm widget that allows us to cean up the dataset easily"
      ]
    },
    {
      "cell_type": "code",
      "metadata": {
        "id": "4-7D01KK6cpP",
        "colab_type": "code",
        "colab": {}
      },
      "source": [
        "from fastai2.vision.widgets import *"
      ],
      "execution_count": 0,
      "outputs": []
    },
    {
      "cell_type": "code",
      "metadata": {
        "id": "Gt_JiTra5HGL",
        "colab_type": "code",
        "outputId": "8951be92-7b2e-4a40-c09b-161641747f36",
        "colab": {
          "base_uri": "https://localhost:8080/",
          "height": 130,
          "referenced_widgets": [
            "05f4cf0a64154357bdce4cfb569f97c6",
            "1cb4ec144dbb42dc9ad926968029d843",
            "14acd5eb3eff47f6bb0049a97d668c9a",
            "f91af6da396f4901abf18fb8c6f4970b",
            "14a3d74aac004c8b81407825302f7f63",
            "0157d10ed07b447e95300f82017403bc",
            "9b9bf4ca5dd7462491edeb28220ff1f5",
            "7ad7fac4858245b99cb7453e858bfb55",
            "c82ace8d201d4453a598ff97812d3a03",
            "d53db2cccf51439ea171f5394ffaf548",
            "376d9e9def274a1092a698eb3a76af15",
            "3df65b42aee04a55ba60068ac8bd4953",
            "5c5cff5ddce64c5892560192c9ea4688",
            "12faf50f9706428bbf3a5002c899f4a7",
            "0397b7e577f842988897ee90e176cb89",
            "be6214ac652648cf888f6febb354ca86",
            "0b34ce42ea144e2f99da5225b8deab24",
            "5e0908ad38df4a04ae17a143b734325d",
            "6e6f358eafa34b2fb02a03d8e9ded0c0",
            "33d995e8fa9e4390abfc39133f5b8cf5",
            "be7930dc6727453090ccf4237b09b178",
            "37c1e42c742e4c20b42f8ba96b9e608c",
            "76dc4fd172274622921f1f81af12447e",
            "ff0e4dabfba44dec9a097fd475025639",
            "170bba1f78b64830b83269ac37fb0e7b",
            "46ca26cca1d241928cd28ef3d8cd039b",
            "49b74a20276d4a9fae32669df8228de7",
            "d73144dcbf984b7284b075a771667f55",
            "364d735f92914dc7a11c97c8e2e7a0ce",
            "66f4db12fda14a05858938864ebc694a",
            "63d191e0ae684aaeb267ce62096c86dc",
            "1de10b47fb2c4b2ca7494bcf8e4da7b5",
            "bb28ab03452a42b8a84ab43d2e9d0ce4",
            "858c408f693f4d89bd7bd3a1883a34f3",
            "9d3a87cee90b4243a944bfc3915608a3",
            "53fd76eae82840f389ec4e564436feed",
            "70b751d1bbb44d80b941930ac129f492",
            "54ced67f5ac24c4cb8cab3f27905e49c",
            "9235096629bc49f28be29581a6a3e960",
            "496bfb8a32cf456199a5ab7d35190ba3",
            "f87005e70b3143248dd35010571d02d9",
            "f959509c2d5742aaae6be7d77b956e25",
            "c2b32e7956764debb1bb35b37c94543a",
            "3fa3cd391e7f49908412569e1239c03c",
            "9ba191ed00214c1a87293a98ace11853",
            "f1ec2c898b6a4d41980bfbb5c7fe74c1",
            "010f679ad9834f7da6f0947dd0e8dd2c",
            "483715f998014dc9a60218afe7fc0dab",
            "19ee1f4fdb424b63b2a1f41f75b95681",
            "73e7036a088141a3aa54dccf19a2aece",
            "bff54f8bd43f4cafa664aca770185448",
            "62e330110f654fc69f172319fa30cdd1",
            "48ce4b07264140b481ffb080c19345a7",
            "b114893467d545038f772b2eaad63f52",
            "4837f41517a74089b2c3c6a4ae1ca638",
            "5b76e59a32f74897a8dba6ffe1e872da",
            "70e909d601d9479a91be1b020a67ffe8",
            "0c0e8a4e152d4906a5d5f1160124b37f",
            "afa7162a7bff420d92f698ab2e97d405",
            "0b41f5e7bd874a63b2075902ccba8ee5",
            "097af51d2cb84ac5ba1387c3bbb05fe4",
            "df97994476424fe38e5d92c07e7b6a80",
            "478638e3c99b4d22be86c77cc8a4d67c",
            "588a5642b1a049e184f361e1ef6a9966",
            "a0fdba62c53b437a8f5bc3415bb32351",
            "9eb6c1a5d85c4b96b92b3e41cf8e1be2",
            "ca87b8f3ee89429fbc39d8e5a08785a7",
            "beb3ed39a7a64747a102f1d0f4658263",
            "e3274684c8634a6e9ef35fa4be1756bb",
            "4bcd667fdd3d4797b3fe4142aeb21638",
            "76eb093a7610460cbe9a7455897dfa8e",
            "d9ee6f918c4644d995915c0e8c18eea7",
            "7e24f88d55e04247ab8e78b5881265cd",
            "80f5d33616d445d6a901b9b72a413d8b",
            "c40606026880453faa7ac33a226e1911",
            "5e7e6514854e43249008f3756df2dc6f",
            "7f6c120205bf4949b142117c16e66b6d",
            "c37011ad05914e18bc7c800a2cc8b753",
            "64fb352428ed430aa9ffce72a3e627c1",
            "da232d79297848a18f2ca47f536a5a47",
            "eb185fae768941dd9139fc7329dac591",
            "504f13d60e464df696c80c109b21f3d5",
            "439ac325c6024a0281337464ada79fe8",
            "dd6ec2e1d4f94fa6b15a872c771f167a",
            "99f3fbdd6c5d4a71b31095834964c692",
            "08fd2b6157744f67935574c054bd0f5f",
            "b06c70fa89c1453485af67fbde9bec90",
            "2ad3337fca2649da893b188c31425263",
            "11b9c1982fa742aeade99ea12edc8c2b",
            "f1dc1b1731c2442e83f64a3ea3fdc0b6",
            "36deab3e4b4c4625933ba483ed9d1769",
            "c00c57561b0c47c3a593fae8d677fc4c",
            "1d9ba72b71284a75a91ef218271aeb19",
            "0bc3d9008373488fa1b771990db8ff87",
            "e8e7a3b3081c41cd9e1000eb3014a99a",
            "3275b675f76d4322b0f0040c14a8457f",
            "cb68229337e545bb9d6570d31c5906e0",
            "c6354729ce2d437199c19b3f3625a353",
            "49ffe22bee6e4566a3ea5495bf1a6b1d",
            "19fb06b9ade44378ad468c77164488c3",
            "328fb37e320347bab0678af405611a1c",
            "72222fbb14204a7881f1b7ca6d682da4",
            "2c4cb79c127c40238a17306bce40d168",
            "f4e95432e4ec4eb4b72be29632c16b62",
            "9ac20f258e9449dba53fff4367872920",
            "a3f0278c4a88414da6cc69f68049f25c",
            "8963b132366943ff8564570975f3f4da",
            "9e3cf8ca52af41019e6dc6c4eddb1b67",
            "8d6aa801c8c14e0492e7035efe66c8c0",
            "3a6d90dd5c9c4e589738f91a922dd994",
            "4569a34dd0c14b70938993c330decbad",
            "fec78b1328ec4180a0eaf249d6e838d6",
            "78ee090366db4c609bbb24f8cb1afbab",
            "dc7c5376de6e4ad0ba648037936636dc",
            "184a3829b31843388031f25d7a113613",
            "03dcc1c8bfd04b449f322a9d97e36a94",
            "7c036bb0fe964264b29fc964c3d519eb",
            "3b0ca43ab36b489689d1fd11ee2c6115",
            "2c9895655097415a935a4c966236dbad",
            "c5985f156e17494bb0cc1572c2d1af36",
            "f50b2c7b52784130b12282439c37d0d1",
            "2e035d9008f44836a8dbf12fc19f4b9d",
            "58cd0f0e2324474ba5a6409c6598a6de",
            "73e5e0570fa24eedb4d0767fb2c1bb73",
            "656245b6b1eb45af8942f063de0b2497",
            "7f2cd97d116f4420b56cbf957ed89b7a",
            "b19f8baaba164a1dac394d8af10443a1",
            "464def6a901a4ec3a527987d8f2a2094",
            "30a4eb03b72549259a2dbfe540bd1bff",
            "da4f80036d234733a0b5157d68f454e9",
            "5d1d25ecbd9447f0bfbda4c76f2ffbdd",
            "c6551aab3d78436d898cb8f331775c53",
            "b37b8b989cab4df09fcde64c59195e53",
            "007b160094d8467e986844ae58eee302",
            "876a11ecd51641b2b979a78ef29ff6b6",
            "7f80edea3e2649c896f6a8d0f0f37758",
            "77260aa59170484484cde1f57e53ea17",
            "e72bdaf061cc46c9972dfbbac2656557",
            "0896f7d2a20d469d94a1783eb7f07411",
            "acbd065f50724e2caecb8294171c7ab6",
            "4e19f77c7bb644ad85e04328e2b10888",
            "cba0f60a21ff4faab9999e58696b9b98",
            "c8f9138f94ea49249237c503d2b88e0f",
            "029057c54575437cbe6c418d80496d0a",
            "8196ade67ef94d22b14016f16e0ac7cd",
            "1bfd554e7fd2452681f29283718f1395",
            "879300aeef114ed39b77c6abeb1bcbb8",
            "dec49502c92b482c914638d5edceb0b0",
            "7002a416a3ef43b29159d98f525650e5",
            "d0fa13b5ee894601a90d3e7594e4bb60",
            "24c17b4b40744186a2b3757fa37f0cc3",
            "adadc21e467e4faa95e1f1cb0bc4aded",
            "be810b28dae44aa6859f8cf41854d7d8",
            "e0da66f355394a298ded2169bab894ba",
            "21390064463b48c49d5a4a8893bff0fe",
            "c54ad825e44f479faf866cfb56fdd22f",
            "2e993dcec89a46779dcd1e4452f0b962",
            "279306bd413d44a3b28927d26b7b4392",
            "e722531e13ef4bdbac6039668cee1642",
            "bde7725cb79e4ca4bfc5229462eea233",
            "2b411cdc0e33409db89660c9d3590946",
            "9adc6fc1da5a4549a21a7d19ed28b326",
            "504699e63b004540a4c81e90ca9c1c3e",
            "cee4bb72a3264b6eb5a9d6957987f821",
            "fed9bcadd9ea4b8984572b4a620d3a16",
            "8a154206e2bc411e85b862d96fa8ddd2",
            "41e5ed8d6da944d38509341dd87167d2",
            "1adb599345e448368b96160be6ec6358",
            "6e0f5009191e4f019bbf3c866b06eaa5",
            "6cac131043e94110a83f5bc2a5055150",
            "8d754410dccf43e7be18479a4a39eaef",
            "e1687531583f4efda435ebdf40f52621",
            "aa588f0a498741f39e0b4c9d7b300965",
            "d63a0a9e9bf74f8893d65111446dff13",
            "1dd90f8768064b4cab86188a69c2adc9",
            "570c6cb158eb4f07952a01126f2db077",
            "eb2ad175abd442a68cc7f2c27cb304d7",
            "60b3816f5089489eaca26a2e331606f1",
            "7cbb35618c70418eb1b8de26c6f3b8ba",
            "2521dc6132684d67adcc30f9deea4b9d",
            "5cb97745c0924dfaaf349f2a628ca738",
            "c8672a4b645d4f30998d9dc46921638d",
            "22131ba7457a407689753b1b28d22faa",
            "7fae7e4c7bac44b583de1760dc2e653b",
            "70c4f6137e90478f9020bd27e1d5f86d",
            "cf723a296355443eaa624d49d8d4c635",
            "514ea6f245ac4f6682eb93e9e081bf8e",
            "ee2c46c6f81248d38d9831c32a2e3240",
            "3ec8556a69ce4910860741059cdab95a",
            "1988419fc6794ceb9d74eadb258ff400"
          ]
        }
      },
      "source": [
        "cleaner = ImageClassifierCleaner(learn)\n",
        "cleaner"
      ],
      "execution_count": 116,
      "outputs": [
        {
          "output_type": "display_data",
          "data": {
            "text/html": [
              ""
            ],
            "text/plain": [
              "<IPython.core.display.HTML object>"
            ]
          },
          "metadata": {
            "tags": []
          }
        },
        {
          "output_type": "display_data",
          "data": {
            "text/html": [
              ""
            ],
            "text/plain": [
              "<IPython.core.display.HTML object>"
            ]
          },
          "metadata": {
            "tags": []
          }
        },
        {
          "output_type": "display_data",
          "data": {
            "application/vnd.jupyter.widget-view+json": {
              "model_id": "05f4cf0a64154357bdce4cfb569f97c6",
              "version_minor": 0,
              "version_major": 2
            },
            "text/plain": [
              "VBox(children=(Dropdown(options=('Adidas', 'New Balance', 'Nike', 'Puma', 'Reebok', 'Vans'), value='Adidas'), …"
            ]
          },
          "metadata": {
            "tags": []
          }
        }
      ]
    },
    {
      "cell_type": "markdown",
      "metadata": {
        "id": "QS771Cu-6pCS",
        "colab_type": "text"
      },
      "source": [
        "Still doesn't work well in colab"
      ]
    },
    {
      "cell_type": "code",
      "metadata": {
        "id": "HtDudWC97e1o",
        "colab_type": "code",
        "colab": {}
      },
      "source": [
        ""
      ],
      "execution_count": 0,
      "outputs": []
    },
    {
      "cell_type": "markdown",
      "metadata": {
        "id": "-9BVIC9Z7vCd",
        "colab_type": "text"
      },
      "source": [
        "## Making a web APP"
      ]
    },
    {
      "cell_type": "markdown",
      "metadata": {
        "id": "D2u5dRPe7x7C",
        "colab_type": "text"
      },
      "source": [
        "Export your model parameters, architecture and dataloader as a serialized pickle"
      ]
    },
    {
      "cell_type": "code",
      "metadata": {
        "id": "CcpB34gN8AyC",
        "colab_type": "code",
        "colab": {}
      },
      "source": [
        "learn.export()"
      ],
      "execution_count": 0,
      "outputs": []
    },
    {
      "cell_type": "code",
      "metadata": {
        "id": "Iw63GHB78Hqz",
        "colab_type": "code",
        "colab": {}
      },
      "source": [
        "learn = load_learner('export.pkl')"
      ],
      "execution_count": 0,
      "outputs": []
    },
    {
      "cell_type": "code",
      "metadata": {
        "id": "Vee-7Jt28M6L",
        "colab_type": "code",
        "colab": {}
      },
      "source": [
        ""
      ],
      "execution_count": 0,
      "outputs": []
    },
    {
      "cell_type": "markdown",
      "metadata": {
        "id": "lS6Z5J_R8WAT",
        "colab_type": "text"
      },
      "source": [
        "Mkae a prediction"
      ]
    },
    {
      "cell_type": "code",
      "metadata": {
        "id": "pC7-kaHG8XxW",
        "colab_type": "code",
        "outputId": "7697439b-8b44-4e4d-8047-4c32b8188092",
        "colab": {
          "base_uri": "https://localhost:8080/",
          "height": 67
        }
      },
      "source": [
        "learn.predict('images/nike.jpg')"
      ],
      "execution_count": 121,
      "outputs": [
        {
          "output_type": "display_data",
          "data": {
            "text/html": [
              ""
            ],
            "text/plain": [
              "<IPython.core.display.HTML object>"
            ]
          },
          "metadata": {
            "tags": []
          }
        },
        {
          "output_type": "execute_result",
          "data": {
            "text/plain": [
              "('Nike',\n",
              " tensor(2),\n",
              " tensor([4.3680e-06, 1.7363e-07, 9.9998e-01, 1.0972e-05, 6.4961e-06, 2.3327e-07]))"
            ]
          },
          "metadata": {
            "tags": []
          },
          "execution_count": 121
        }
      ]
    },
    {
      "cell_type": "markdown",
      "metadata": {
        "id": "ZiCCUIlH8dxa",
        "colab_type": "text"
      },
      "source": [
        "We can see the classes  the learner was trained with by calling `vocab` on the learner's dataloader"
      ]
    },
    {
      "cell_type": "code",
      "metadata": {
        "id": "bZ4BR1Xm85H6",
        "colab_type": "code",
        "outputId": "7ee2d2fe-ee65-4eea-bb1b-b7086850f93e",
        "colab": {
          "base_uri": "https://localhost:8080/",
          "height": 34
        }
      },
      "source": [
        "learn.dls.vocab"
      ],
      "execution_count": 122,
      "outputs": [
        {
          "output_type": "execute_result",
          "data": {
            "text/plain": [
              "(#6) ['Adidas','New Balance','Nike','Puma','Reebok','Vans']"
            ]
          },
          "metadata": {
            "tags": []
          },
          "execution_count": 122
        }
      ]
    },
    {
      "cell_type": "code",
      "metadata": {
        "id": "zRG3qFbG9DE9",
        "colab_type": "code",
        "colab": {}
      },
      "source": [
        ""
      ],
      "execution_count": 0,
      "outputs": []
    },
    {
      "cell_type": "markdown",
      "metadata": {
        "id": "7MvM9yjf9IR2",
        "colab_type": "text"
      },
      "source": [
        "We create something to use to upload the image"
      ]
    },
    {
      "cell_type": "code",
      "metadata": {
        "id": "ftMPTzY79IkM",
        "colab_type": "code",
        "colab": {}
      },
      "source": [
        "btn_upload = widgets.FileUpload()\n",
        "btn_upload"
      ],
      "execution_count": 0,
      "outputs": []
    },
    {
      "cell_type": "markdown",
      "metadata": {
        "id": "089BJgw8mK4k",
        "colab_type": "text"
      },
      "source": [
        "colab just loves ruining the flow heh?"
      ]
    },
    {
      "cell_type": "markdown",
      "metadata": {
        "id": "TBVqIJbn9JCq",
        "colab_type": "text"
      },
      "source": [
        "We can use a SimpleNamespace to grap the images instead"
      ]
    },
    {
      "cell_type": "code",
      "metadata": {
        "id": "za_4E5BbmTxs",
        "colab_type": "code",
        "colab": {}
      },
      "source": [
        "btn_upload = SimpleNamespace(img='images/nike.jpg')"
      ],
      "execution_count": 0,
      "outputs": []
    },
    {
      "cell_type": "code",
      "metadata": {
        "id": "J6KXh4Ovmavz",
        "colab_type": "code",
        "colab": {}
      },
      "source": [
        "img = PILImage.create(btn_upload.img)"
      ],
      "execution_count": 0,
      "outputs": []
    },
    {
      "cell_type": "code",
      "metadata": {
        "id": "OV0a7hS5mk8W",
        "colab_type": "code",
        "colab": {}
      },
      "source": [
        ""
      ],
      "execution_count": 0,
      "outputs": []
    },
    {
      "cell_type": "markdown",
      "metadata": {
        "id": "nPqpkQxlmmpm",
        "colab_type": "text"
      },
      "source": [
        "We can use a widget to output it"
      ]
    },
    {
      "cell_type": "code",
      "metadata": {
        "id": "Cv8RZcG0mrVT",
        "colab_type": "code",
        "colab": {
          "base_uri": "https://localhost:8080/",
          "height": 17,
          "referenced_widgets": [
            "f4f95bdd5ce44a088752de2f998e0d75"
          ]
        },
        "outputId": "67c7c164-93f8-4822-a3b1-16cce1e4b6a7"
      },
      "source": [
        "out = widgets.Output()\n",
        "out.clear_output()\n",
        "with out: display(img.to_thumb(128, 128))\n",
        "out"
      ],
      "execution_count": 129,
      "outputs": [
        {
          "output_type": "display_data",
          "data": {
            "application/vnd.jupyter.widget-view+json": {
              "model_id": "f4f95bdd5ce44a088752de2f998e0d75",
              "version_minor": 0,
              "version_major": 2
            },
            "text/plain": [
              "Output()"
            ]
          },
          "metadata": {
            "tags": []
          }
        }
      ]
    },
    {
      "cell_type": "markdown",
      "metadata": {
        "id": "4zs84FOOnge3",
        "colab_type": "text"
      },
      "source": [
        "Colab!!!"
      ]
    },
    {
      "cell_type": "code",
      "metadata": {
        "id": "S-it9ArinYq9",
        "colab_type": "code",
        "colab": {
          "base_uri": "https://localhost:8080/",
          "height": 17
        },
        "outputId": "6209ba2f-e40a-4045-bf48-b31921cd0f8a"
      },
      "source": [
        "pred,pred_idx,probs = learn.predict(img)"
      ],
      "execution_count": 131,
      "outputs": [
        {
          "output_type": "display_data",
          "data": {
            "text/html": [
              ""
            ],
            "text/plain": [
              "<IPython.core.display.HTML object>"
            ]
          },
          "metadata": {
            "tags": []
          }
        }
      ]
    },
    {
      "cell_type": "code",
      "metadata": {
        "id": "BuKhKnSAntG3",
        "colab_type": "code",
        "colab": {}
      },
      "source": [
        ""
      ],
      "execution_count": 0,
      "outputs": []
    },
    {
      "cell_type": "code",
      "metadata": {
        "id": "CvHJjbxNnmPd",
        "colab_type": "code",
        "colab": {
          "base_uri": "https://localhost:8080/",
          "height": 49,
          "referenced_widgets": [
            "c406c28903e54ff0a13f445cc403a7bf",
            "dd541ac22d794a4d8624b3c0c0928da2",
            "1c2caa6407574819acdc258842abf779"
          ]
        },
        "outputId": "27a27c9a-5c87-4f6a-a596-f5db77964d3f"
      },
      "source": [
        "lbl_pred = widgets.Label()\n",
        "lbl_pred.value = f'Prediction: {pred}; Probability: {probs[pred_idx]:.04f}'\n",
        "lbl_pred"
      ],
      "execution_count": 134,
      "outputs": [
        {
          "output_type": "display_data",
          "data": {
            "application/vnd.jupyter.widget-view+json": {
              "model_id": "c406c28903e54ff0a13f445cc403a7bf",
              "version_minor": 0,
              "version_major": 2
            },
            "text/plain": [
              "Label(value='Prediction: Nike; Probability: 1.0000')"
            ]
          },
          "metadata": {
            "tags": []
          }
        }
      ]
    },
    {
      "cell_type": "code",
      "metadata": {
        "id": "K5MSUXwJn6GI",
        "colab_type": "code",
        "colab": {
          "base_uri": "https://localhost:8080/",
          "height": 49,
          "referenced_widgets": [
            "bbc7cca286704893adbaec657f986ae5",
            "12686a178ead4625963000822cd14271",
            "3ff14be5295b44728adba3efbf85e410"
          ]
        },
        "outputId": "8b16848a-5abb-43bb-f118-43cca9c7b00b"
      },
      "source": [
        "btn_run = widgets.Button(description='Classify')\n",
        "btn_run"
      ],
      "execution_count": 136,
      "outputs": [
        {
          "output_type": "display_data",
          "data": {
            "application/vnd.jupyter.widget-view+json": {
              "model_id": "bbc7cca286704893adbaec657f986ae5",
              "version_minor": 0,
              "version_major": 2
            },
            "text/plain": [
              "Button(description='Classify', style=ButtonStyle())"
            ]
          },
          "metadata": {
            "tags": []
          }
        }
      ]
    },
    {
      "cell_type": "code",
      "metadata": {
        "id": "icA3OGAPoXCA",
        "colab_type": "code",
        "colab": {}
      },
      "source": [
        ""
      ],
      "execution_count": 0,
      "outputs": []
    },
    {
      "cell_type": "code",
      "metadata": {
        "id": "HsI4LPAlobNx",
        "colab_type": "code",
        "colab": {}
      },
      "source": [
        "def on_click_classify(change):\n",
        "  img = PIlImage.create(btn_upload.data[-1])\n",
        "  # img = PILImage.create(btn_upload.img)\n",
        "  out_pl.clear_output()\n",
        "  with out_pl: display(img.to_thumb(128,128))\n",
        "  lbl_pred = widgets.Label()\n",
        "  lbl_pred.value = f'Prediction: {pred}; Probability: {probs[pred_idx]:.04f}'\n",
        "\n",
        "btn_run.on_click(on_click_classify)"
      ],
      "execution_count": 0,
      "outputs": []
    },
    {
      "cell_type": "code",
      "metadata": {
        "id": "SZ2RS0V0pF3y",
        "colab_type": "code",
        "colab": {}
      },
      "source": [
        "btn_upload = widgets.FileUpload()"
      ],
      "execution_count": 0,
      "outputs": []
    },
    {
      "cell_type": "markdown",
      "metadata": {
        "id": "-p_i1wV_pgAA",
        "colab_type": "text"
      },
      "source": [
        "Stack everything in a vertical box"
      ]
    },
    {
      "cell_type": "code",
      "metadata": {
        "id": "IeZZ5aHspjVl",
        "colab_type": "code",
        "colab": {
          "base_uri": "https://localhost:8080/",
          "height": 145,
          "referenced_widgets": [
            "2744138c043343269e080c2b68253b50",
            "05cf76603e014feb88d68c4fab23a6d9",
            "c55c91a6b75d4589a72a97de451d5fbd",
            "f68bb1fbc2754610874c720702b27867",
            "bbc7cca286704893adbaec657f986ae5",
            "db00ecef40e0430fbfd8f26ef0628dde",
            "c406c28903e54ff0a13f445cc403a7bf",
            "cc394f67557e46f882f2f525c75216ee",
            "2148e55e69dd4ba592f2c9ae60ce1e82",
            "d3f9ebdea5ea4a82b4151c49398c2629",
            "0f6fa35867f2428aa257075e48848fda",
            "12686a178ead4625963000822cd14271",
            "3ff14be5295b44728adba3efbf85e410",
            "dd541ac22d794a4d8624b3c0c0928da2",
            "1c2caa6407574819acdc258842abf779"
          ]
        },
        "outputId": "31a08dba-907a-4388-aacd-48085a720940"
      },
      "source": [
        "VBox([widgets.Label('Select your bear!'), \n",
        "      btn_upload, btn_run, out_pl, lbl_pred])"
      ],
      "execution_count": 145,
      "outputs": [
        {
          "output_type": "display_data",
          "data": {
            "application/vnd.jupyter.widget-view+json": {
              "model_id": "2744138c043343269e080c2b68253b50",
              "version_minor": 0,
              "version_major": 2
            },
            "text/plain": [
              "VBox(children=(Label(value='Select your bear!'), FileUpload(value={}, description='Upload'), Button(descriptio…"
            ]
          },
          "metadata": {
            "tags": []
          }
        }
      ]
    },
    {
      "cell_type": "code",
      "metadata": {
        "id": "pTyePQsDpkj7",
        "colab_type": "code",
        "colab": {}
      },
      "source": [
        ""
      ],
      "execution_count": 0,
      "outputs": []
    }
  ]
}